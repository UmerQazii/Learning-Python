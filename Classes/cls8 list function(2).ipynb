{
 "cells": [
  {
   "cell_type": "markdown",
   "id": "310ce1f7",
   "metadata": {},
   "source": [
    "# List : "
   ]
  },
  {
   "cell_type": "code",
   "execution_count": 1,
   "id": "b5ca380d",
   "metadata": {},
   "outputs": [],
   "source": [
    "countries = [\"Atlanta\",\n",
    "            \"Baltimore\",\n",
    "            \"Chicago\",\n",
    "            \"Denver\"]"
   ]
  },
  {
   "cell_type": "code",
   "execution_count": 2,
   "id": "414327fe",
   "metadata": {},
   "outputs": [
    {
     "data": {
      "text/plain": [
       "['Atlanta', 'Baltimore', 'Chicago', 'Denver']"
      ]
     },
     "execution_count": 2,
     "metadata": {},
     "output_type": "execute_result"
    }
   ],
   "source": [
    "countries"
   ]
  },
  {
   "cell_type": "markdown",
   "id": "ea185b2e",
   "metadata": {},
   "source": [
    "## 1. Adding values in list : (.append)"
   ]
  },
  {
   "cell_type": "code",
   "execution_count": 28,
   "id": "ee2429f0",
   "metadata": {},
   "outputs": [],
   "source": [
    "# .append is used to add value on last index :"
   ]
  },
  {
   "cell_type": "code",
   "execution_count": 5,
   "id": "03e83c88",
   "metadata": {},
   "outputs": [],
   "source": [
    "countries = countries + [\"Seattle\",\"Los Angles\"]"
   ]
  },
  {
   "cell_type": "code",
   "execution_count": null,
   "id": "49a2d966",
   "metadata": {},
   "outputs": [],
   "source": []
  },
  {
   "cell_type": "code",
   "execution_count": 6,
   "id": "e5cad947",
   "metadata": {},
   "outputs": [
    {
     "data": {
      "text/plain": [
       "['Atlanta',\n",
       " 'Baltimore',\n",
       " 'Chicago',\n",
       " 'Denver',\n",
       " 'Seattle',\n",
       " 'Seattle',\n",
       " 'Los Angles']"
      ]
     },
     "execution_count": 6,
     "metadata": {},
     "output_type": "execute_result"
    }
   ],
   "source": [
    "countries"
   ]
  },
  {
   "cell_type": "code",
   "execution_count": 7,
   "id": "c1736ea3",
   "metadata": {},
   "outputs": [],
   "source": [
    "countries = countries + ['Belgium','India']"
   ]
  },
  {
   "cell_type": "code",
   "execution_count": 8,
   "id": "74b2a247",
   "metadata": {},
   "outputs": [
    {
     "data": {
      "text/plain": [
       "['Atlanta',\n",
       " 'Baltimore',\n",
       " 'Chicago',\n",
       " 'Denver',\n",
       " 'Seattle',\n",
       " 'Seattle',\n",
       " 'Los Angles',\n",
       " 'Belgium',\n",
       " 'India']"
      ]
     },
     "execution_count": 8,
     "metadata": {},
     "output_type": "execute_result"
    }
   ],
   "source": [
    "countries"
   ]
  },
  {
   "cell_type": "code",
   "execution_count": 9,
   "id": "4646dfb8",
   "metadata": {},
   "outputs": [
    {
     "data": {
      "text/plain": [
       "list"
      ]
     },
     "execution_count": 9,
     "metadata": {},
     "output_type": "execute_result"
    }
   ],
   "source": [
    "type(countries)"
   ]
  },
  {
   "cell_type": "code",
   "execution_count": 12,
   "id": "e4d5b4d1",
   "metadata": {},
   "outputs": [],
   "source": [
    "popular_countries_list = countries + [\"New York\", \"Pakistan\"]"
   ]
  },
  {
   "cell_type": "code",
   "execution_count": null,
   "id": "491c429a",
   "metadata": {},
   "outputs": [],
   "source": [
    "popular_countries_list = countries + [\"New York\", \"Pakistan\"]\n",
    "       NAME               OLD_LIST +         NEW_list"
   ]
  },
  {
   "cell_type": "code",
   "execution_count": 13,
   "id": "7cd41105",
   "metadata": {},
   "outputs": [
    {
     "data": {
      "text/plain": [
       "['Atlanta',\n",
       " 'Baltimore',\n",
       " 'Chicago',\n",
       " 'Denver',\n",
       " 'Seattle',\n",
       " 'Seattle',\n",
       " 'Los Angles',\n",
       " 'Belgium',\n",
       " 'India',\n",
       " 'New York',\n",
       " 'Pakistan']"
      ]
     },
     "execution_count": 13,
     "metadata": {},
     "output_type": "execute_result"
    }
   ],
   "source": [
    "popular_countries_list"
   ]
  },
  {
   "cell_type": "code",
   "execution_count": 14,
   "id": "bd7b9e09",
   "metadata": {},
   "outputs": [
    {
     "data": {
      "text/plain": [
       "list"
      ]
     },
     "execution_count": 14,
     "metadata": {},
     "output_type": "execute_result"
    }
   ],
   "source": [
    "type(popular_countries_list)"
   ]
  },
  {
   "cell_type": "code",
   "execution_count": 15,
   "id": "e7c870ee",
   "metadata": {},
   "outputs": [],
   "source": [
    "countries.append(\"Indonasia\")"
   ]
  },
  {
   "cell_type": "code",
   "execution_count": 16,
   "id": "0fec4c3e",
   "metadata": {},
   "outputs": [
    {
     "data": {
      "text/plain": [
       "['Atlanta',\n",
       " 'Baltimore',\n",
       " 'Chicago',\n",
       " 'Denver',\n",
       " 'Seattle',\n",
       " 'Seattle',\n",
       " 'Los Angles',\n",
       " 'Belgium',\n",
       " 'India',\n",
       " 'Indonasia']"
      ]
     },
     "execution_count": 16,
     "metadata": {},
     "output_type": "execute_result"
    }
   ],
   "source": [
    "countries"
   ]
  },
  {
   "cell_type": "markdown",
   "id": "4d64bc4d",
   "metadata": {},
   "source": [
    "### Appending Values on a particular index :(.insert)"
   ]
  },
  {
   "cell_type": "code",
   "execution_count": 17,
   "id": "7ec530c0",
   "metadata": {},
   "outputs": [
    {
     "data": {
      "text/plain": [
       "['Atlanta',\n",
       " 'Baltimore',\n",
       " 'Chicago',\n",
       " 'Denver',\n",
       " 'Seattle',\n",
       " 'Seattle',\n",
       " 'Los Angles',\n",
       " 'Belgium',\n",
       " 'India',\n",
       " 'Indonasia']"
      ]
     },
     "execution_count": 17,
     "metadata": {},
     "output_type": "execute_result"
    }
   ],
   "source": [
    "countries"
   ]
  },
  {
   "cell_type": "code",
   "execution_count": 19,
   "id": "e38a15f6",
   "metadata": {},
   "outputs": [
    {
     "data": {
      "text/plain": [
       "['Atlanta',\n",
       " 'Baltimore',\n",
       " 'Chicago',\n",
       " 'Denver',\n",
       " 'Seattle',\n",
       " 'Seattle',\n",
       " 'Los Angles',\n",
       " 'Belgium',\n",
       " 'India',\n",
       " 'Indonasia']"
      ]
     },
     "execution_count": 19,
     "metadata": {},
     "output_type": "execute_result"
    }
   ],
   "source": [
    "countries.copy()"
   ]
  },
  {
   "cell_type": "code",
   "execution_count": 20,
   "id": "0756d885",
   "metadata": {},
   "outputs": [
    {
     "data": {
      "text/plain": [
       "['Atlanta',\n",
       " 'Baltimore',\n",
       " 'Chicago',\n",
       " 'Denver',\n",
       " 'Seattle',\n",
       " 'Seattle',\n",
       " 'Los Angles',\n",
       " 'Belgium',\n",
       " 'India',\n",
       " 'Indonasia']"
      ]
     },
     "execution_count": 20,
     "metadata": {},
     "output_type": "execute_result"
    }
   ],
   "source": [
    "countries"
   ]
  },
  {
   "cell_type": "code",
   "execution_count": 21,
   "id": "84693cab",
   "metadata": {},
   "outputs": [],
   "source": [
    "countries.insert(0 ,'Pakistan')"
   ]
  },
  {
   "cell_type": "code",
   "execution_count": 22,
   "id": "40bba99d",
   "metadata": {},
   "outputs": [
    {
     "data": {
      "text/plain": [
       "['Pakistan',\n",
       " 'Atlanta',\n",
       " 'Baltimore',\n",
       " 'Chicago',\n",
       " 'Denver',\n",
       " 'Seattle',\n",
       " 'Seattle',\n",
       " 'Los Angles',\n",
       " 'Belgium',\n",
       " 'India',\n",
       " 'Indonasia']"
      ]
     },
     "execution_count": 22,
     "metadata": {},
     "output_type": "execute_result"
    }
   ],
   "source": [
    "countries"
   ]
  },
  {
   "cell_type": "code",
   "execution_count": 24,
   "id": "0c376ff9",
   "metadata": {},
   "outputs": [
    {
     "data": {
      "text/plain": [
       "0"
      ]
     },
     "execution_count": 24,
     "metadata": {},
     "output_type": "execute_result"
    }
   ],
   "source": [
    "countries.index('Pakistan')"
   ]
  },
  {
   "cell_type": "code",
   "execution_count": 25,
   "id": "9cf2910f",
   "metadata": {},
   "outputs": [
    {
     "data": {
      "text/plain": [
       "10"
      ]
     },
     "execution_count": 25,
     "metadata": {},
     "output_type": "execute_result"
    }
   ],
   "source": [
    "countries.index('Indonasia')"
   ]
  },
  {
   "cell_type": "code",
   "execution_count": 26,
   "id": "7b58c6e7",
   "metadata": {},
   "outputs": [
    {
     "data": {
      "text/plain": [
       "'Indonasia'"
      ]
     },
     "execution_count": 26,
     "metadata": {},
     "output_type": "execute_result"
    }
   ],
   "source": [
    "countries[10]"
   ]
  },
  {
   "cell_type": "code",
   "execution_count": 27,
   "id": "303d6995",
   "metadata": {},
   "outputs": [
    {
     "data": {
      "text/plain": [
       "['Pakistan',\n",
       " 'Atlanta',\n",
       " 'Baltimore',\n",
       " 'Chicago',\n",
       " 'Denver',\n",
       " 'Seattle',\n",
       " 'Seattle',\n",
       " 'Los Angles',\n",
       " 'Belgium',\n",
       " 'India',\n",
       " 'Indonasia']"
      ]
     },
     "execution_count": 27,
     "metadata": {},
     "output_type": "execute_result"
    }
   ],
   "source": [
    "countries"
   ]
  },
  {
   "cell_type": "code",
   "execution_count": 29,
   "id": "ec7d9d10",
   "metadata": {},
   "outputs": [],
   "source": [
    "countries.insert(1 , 'India')"
   ]
  },
  {
   "cell_type": "code",
   "execution_count": 30,
   "id": "b2a9403e",
   "metadata": {},
   "outputs": [
    {
     "data": {
      "text/plain": [
       "['Pakistan',\n",
       " 'India',\n",
       " 'Atlanta',\n",
       " 'Baltimore',\n",
       " 'Chicago',\n",
       " 'Denver',\n",
       " 'Seattle',\n",
       " 'Seattle',\n",
       " 'Los Angles',\n",
       " 'Belgium',\n",
       " 'India',\n",
       " 'Indonasia']"
      ]
     },
     "execution_count": 30,
     "metadata": {},
     "output_type": "execute_result"
    }
   ],
   "source": [
    "countries"
   ]
  },
  {
   "cell_type": "code",
   "execution_count": 40,
   "id": "9a212e00",
   "metadata": {},
   "outputs": [],
   "source": [
    "sort_countries = countries.sort()"
   ]
  },
  {
   "cell_type": "code",
   "execution_count": 41,
   "id": "08a0fac1",
   "metadata": {},
   "outputs": [
    {
     "data": {
      "text/plain": [
       "[None]"
      ]
     },
     "execution_count": 41,
     "metadata": {},
     "output_type": "execute_result"
    }
   ],
   "source": [
    "sort_countries"
   ]
  },
  {
   "cell_type": "code",
   "execution_count": 42,
   "id": "1a1a07ee",
   "metadata": {},
   "outputs": [
    {
     "data": {
      "text/plain": [
       "['Atlanta',\n",
       " 'Baltimore',\n",
       " 'Belgium',\n",
       " 'Chicago',\n",
       " 'Denver',\n",
       " 'India',\n",
       " 'India',\n",
       " 'Indonasia',\n",
       " 'Los Angles',\n",
       " 'Pakistan',\n",
       " 'Seattle',\n",
       " 'Seattle']"
      ]
     },
     "execution_count": 42,
     "metadata": {},
     "output_type": "execute_result"
    }
   ],
   "source": [
    "countries"
   ]
  },
  {
   "cell_type": "code",
   "execution_count": 43,
   "id": "cbc3526d",
   "metadata": {},
   "outputs": [
    {
     "data": {
      "text/plain": [
       "5"
      ]
     },
     "execution_count": 43,
     "metadata": {},
     "output_type": "execute_result"
    }
   ],
   "source": [
    "countries.index('India')"
   ]
  },
  {
   "cell_type": "code",
   "execution_count": 44,
   "id": "62a33b1a",
   "metadata": {},
   "outputs": [],
   "source": [
    "countries.remove('India')"
   ]
  },
  {
   "cell_type": "code",
   "execution_count": 46,
   "id": "0943880f",
   "metadata": {},
   "outputs": [
    {
     "data": {
      "text/plain": [
       "['Atlanta',\n",
       " 'Baltimore',\n",
       " 'Belgium',\n",
       " 'Chicago',\n",
       " 'Denver',\n",
       " 'India',\n",
       " 'Indonasia',\n",
       " 'Los Angles',\n",
       " 'Pakistan',\n",
       " 'Seattle',\n",
       " 'Seattle']"
      ]
     },
     "execution_count": 46,
     "metadata": {},
     "output_type": "execute_result"
    }
   ],
   "source": [
    "countries"
   ]
  },
  {
   "cell_type": "code",
   "execution_count": 51,
   "id": "a42b225f",
   "metadata": {},
   "outputs": [],
   "source": [
    "# .remove fnction takes only one argument"
   ]
  },
  {
   "cell_type": "code",
   "execution_count": 50,
   "id": "bfc5fc0e",
   "metadata": {},
   "outputs": [
    {
     "ename": "TypeError",
     "evalue": "list.remove() takes exactly one argument (2 given)",
     "output_type": "error",
     "traceback": [
      "\u001b[1;31m---------------------------------------------------------------------------\u001b[0m",
      "\u001b[1;31mTypeError\u001b[0m                                 Traceback (most recent call last)",
      "Cell \u001b[1;32mIn[50], line 1\u001b[0m\n\u001b[1;32m----> 1\u001b[0m countries\u001b[38;5;241m.\u001b[39mremove(\u001b[38;5;124m'\u001b[39m\u001b[38;5;124mIndia\u001b[39m\u001b[38;5;124m'\u001b[39m,\u001b[38;5;124m'\u001b[39m\u001b[38;5;124mSeattle\u001b[39m\u001b[38;5;124m'\u001b[39m)\n",
      "\u001b[1;31mTypeError\u001b[0m: list.remove() takes exactly one argument (2 given)"
     ]
    }
   ],
   "source": [
    "countries.remove('India','Seattle')"
   ]
  },
  {
   "cell_type": "code",
   "execution_count": 53,
   "id": "d2eb4f01",
   "metadata": {},
   "outputs": [],
   "source": [
    "countries.remove('Seattle')"
   ]
  },
  {
   "cell_type": "code",
   "execution_count": 54,
   "id": "9d65ab1a",
   "metadata": {},
   "outputs": [
    {
     "data": {
      "text/plain": [
       "['Atlanta',\n",
       " 'Baltimore',\n",
       " 'Belgium',\n",
       " 'Chicago',\n",
       " 'Denver',\n",
       " 'Indonasia',\n",
       " 'Los Angles',\n",
       " 'Pakistan',\n",
       " 'Seattle']"
      ]
     },
     "execution_count": 54,
     "metadata": {},
     "output_type": "execute_result"
    }
   ],
   "source": [
    "countries"
   ]
  },
  {
   "cell_type": "markdown",
   "id": "6e1cd623",
   "metadata": {},
   "source": [
    "# 2. Slicing: [ ]"
   ]
  },
  {
   "cell_type": "code",
   "execution_count": 56,
   "id": "1278a3c3",
   "metadata": {},
   "outputs": [
    {
     "data": {
      "text/plain": [
       "['Baltimore', 'Belgium', 'Chicago', 'Denver', 'Indonasia']"
      ]
     },
     "execution_count": 56,
     "metadata": {},
     "output_type": "execute_result"
    }
   ],
   "source": [
    "countries[1:6]"
   ]
  },
  {
   "cell_type": "code",
   "execution_count": 58,
   "id": "47a4b1e1",
   "metadata": {},
   "outputs": [
    {
     "data": {
      "text/plain": [
       "'asia'"
      ]
     },
     "execution_count": 58,
     "metadata": {},
     "output_type": "execute_result"
    }
   ],
   "source": [
    "countries[5][-4:]"
   ]
  },
  {
   "cell_type": "code",
   "execution_count": 59,
   "id": "12a3dbac",
   "metadata": {},
   "outputs": [],
   "source": [
    "sliced_countries_list = countries[2:6]"
   ]
  },
  {
   "cell_type": "code",
   "execution_count": 60,
   "id": "44bcf6aa",
   "metadata": {},
   "outputs": [
    {
     "data": {
      "text/plain": [
       "['Belgium', 'Chicago', 'Denver', 'Indonasia']"
      ]
     },
     "execution_count": 60,
     "metadata": {},
     "output_type": "execute_result"
    }
   ],
   "source": [
    "sliced_countries_list"
   ]
  },
  {
   "cell_type": "code",
   "execution_count": 61,
   "id": "845af599",
   "metadata": {},
   "outputs": [
    {
     "data": {
      "text/plain": [
       "['Atlanta',\n",
       " 'Baltimore',\n",
       " 'Belgium',\n",
       " 'Chicago',\n",
       " 'Denver',\n",
       " 'Indonasia',\n",
       " 'Los Angles',\n",
       " 'Pakistan',\n",
       " 'Seattle']"
      ]
     },
     "execution_count": 61,
     "metadata": {},
     "output_type": "execute_result"
    }
   ],
   "source": [
    "countries"
   ]
  },
  {
   "cell_type": "code",
   "execution_count": 62,
   "id": "275f57bb",
   "metadata": {},
   "outputs": [
    {
     "data": {
      "text/plain": [
       "[]"
      ]
     },
     "execution_count": 62,
     "metadata": {},
     "output_type": "execute_result"
    }
   ],
   "source": [
    "countries[4:1]"
   ]
  },
  {
   "cell_type": "code",
   "execution_count": 63,
   "id": "6225ed66",
   "metadata": {},
   "outputs": [
    {
     "data": {
      "text/plain": [
       "['Atlanta',\n",
       " 'Baltimore',\n",
       " 'Belgium',\n",
       " 'Chicago',\n",
       " 'Denver',\n",
       " 'Indonasia',\n",
       " 'Los Angles',\n",
       " 'Pakistan',\n",
       " 'Seattle']"
      ]
     },
     "execution_count": 63,
     "metadata": {},
     "output_type": "execute_result"
    }
   ],
   "source": [
    "countries"
   ]
  },
  {
   "cell_type": "code",
   "execution_count": null,
   "id": "f5dc104a",
   "metadata": {},
   "outputs": [],
   "source": []
  },
  {
   "cell_type": "markdown",
   "id": "9115828e",
   "metadata": {},
   "source": [
    "## Makig a second list :\n"
   ]
  },
  {
   "cell_type": "code",
   "execution_count": null,
   "id": "c196fdbe",
   "metadata": {},
   "outputs": [],
   "source": []
  },
  {
   "cell_type": "code",
   "execution_count": 85,
   "id": "5906b4fb",
   "metadata": {},
   "outputs": [],
   "source": [
    "bio_data = [\"Qasim\" , \"Hassan\" , 18 , 40.5 ,False , \"43215-4578963-0\"]"
   ]
  },
  {
   "cell_type": "code",
   "execution_count": 86,
   "id": "8ad4ea2b",
   "metadata": {},
   "outputs": [
    {
     "data": {
      "text/plain": [
       "'43215-4578963-0'"
      ]
     },
     "execution_count": 86,
     "metadata": {},
     "output_type": "execute_result"
    }
   ],
   "source": [
    "bio_data[-1]"
   ]
  },
  {
   "cell_type": "code",
   "execution_count": 87,
   "id": "3ebc3a49",
   "metadata": {},
   "outputs": [],
   "source": [
    "bio_data.insert(-1,'0300-3000000')"
   ]
  },
  {
   "cell_type": "code",
   "execution_count": 88,
   "id": "560cb10b",
   "metadata": {},
   "outputs": [
    {
     "data": {
      "text/plain": [
       "['Qasim', 'Hassan', 18, 40.5, False, '0300-3000000', '43215-4578963-0']"
      ]
     },
     "execution_count": 88,
     "metadata": {},
     "output_type": "execute_result"
    }
   ],
   "source": [
    "bio_data"
   ]
  },
  {
   "cell_type": "code",
   "execution_count": 84,
   "id": "92cb71ee",
   "metadata": {},
   "outputs": [],
   "source": [
    "bio_data.extend(\"Male\")"
   ]
  },
  {
   "cell_type": "code",
   "execution_count": 89,
   "id": "c61c12c8",
   "metadata": {},
   "outputs": [
    {
     "data": {
      "text/plain": [
       "['Qasim', 'Hassan', 18, 40.5, False, '0300-3000000', '43215-4578963-0']"
      ]
     },
     "execution_count": 89,
     "metadata": {},
     "output_type": "execute_result"
    }
   ],
   "source": [
    "bio_data"
   ]
  },
  {
   "cell_type": "code",
   "execution_count": null,
   "id": "bb39a11c",
   "metadata": {},
   "outputs": [],
   "source": []
  },
  {
   "cell_type": "code",
   "execution_count": null,
   "id": "64b88a79",
   "metadata": {},
   "outputs": [],
   "source": []
  },
  {
   "cell_type": "code",
   "execution_count": null,
   "id": "780154a1",
   "metadata": {},
   "outputs": [],
   "source": []
  },
  {
   "cell_type": "code",
   "execution_count": null,
   "id": "98b7a230",
   "metadata": {},
   "outputs": [],
   "source": []
  },
  {
   "cell_type": "markdown",
   "id": "357f9e4a",
   "metadata": {},
   "source": [
    "# Deleting :"
   ]
  },
  {
   "cell_type": "code",
   "execution_count": 90,
   "id": "7b0d569d",
   "metadata": {},
   "outputs": [
    {
     "data": {
      "text/plain": [
       "['Atlanta',\n",
       " 'Baltimore',\n",
       " 'Belgium',\n",
       " 'Chicago',\n",
       " 'Denver',\n",
       " 'Indonasia',\n",
       " 'Los Angles',\n",
       " 'Pakistan',\n",
       " 'Seattle']"
      ]
     },
     "execution_count": 90,
     "metadata": {},
     "output_type": "execute_result"
    }
   ],
   "source": [
    "countries"
   ]
  },
  {
   "cell_type": "code",
   "execution_count": 91,
   "id": "78d0acf3",
   "metadata": {},
   "outputs": [
    {
     "data": {
      "text/plain": [
       "['Qasim', 'Hassan', 18, 40.5, False, '0300-3000000', '43215-4578963-0']"
      ]
     },
     "execution_count": 91,
     "metadata": {},
     "output_type": "execute_result"
    }
   ],
   "source": [
    "bio_data"
   ]
  },
  {
   "cell_type": "code",
   "execution_count": 92,
   "id": "ce741fb4",
   "metadata": {},
   "outputs": [],
   "source": [
    "del bio_data[-1]"
   ]
  },
  {
   "cell_type": "code",
   "execution_count": 93,
   "id": "a7739cb4",
   "metadata": {},
   "outputs": [
    {
     "data": {
      "text/plain": [
       "['Qasim', 'Hassan', 18, 40.5, False, '0300-3000000']"
      ]
     },
     "execution_count": 93,
     "metadata": {},
     "output_type": "execute_result"
    }
   ],
   "source": [
    "bio_data"
   ]
  },
  {
   "cell_type": "code",
   "execution_count": 94,
   "id": "f71280d1",
   "metadata": {},
   "outputs": [],
   "source": [
    "bio_data = bio_data+['0967546898']"
   ]
  },
  {
   "cell_type": "code",
   "execution_count": 95,
   "id": "81e77dbf",
   "metadata": {},
   "outputs": [
    {
     "data": {
      "text/plain": [
       "['Qasim', 'Hassan', 18, 40.5, False, '0300-3000000', '0967546898']"
      ]
     },
     "execution_count": 95,
     "metadata": {},
     "output_type": "execute_result"
    }
   ],
   "source": [
    "bio_data"
   ]
  },
  {
   "cell_type": "code",
   "execution_count": 96,
   "id": "12b4ba23",
   "metadata": {},
   "outputs": [],
   "source": [
    "del bio_data[-1]"
   ]
  },
  {
   "cell_type": "code",
   "execution_count": 102,
   "id": "a2314dc3",
   "metadata": {},
   "outputs": [
    {
     "data": {
      "text/plain": [
       "['Hassan', 18, 40.5, False, '0300-3000000']"
      ]
     },
     "execution_count": 102,
     "metadata": {},
     "output_type": "execute_result"
    }
   ],
   "source": [
    "bio_data"
   ]
  },
  {
   "cell_type": "code",
   "execution_count": 98,
   "id": "8d7feb53",
   "metadata": {},
   "outputs": [],
   "source": [
    "bio_data.remove('Qasim')"
   ]
  },
  {
   "cell_type": "code",
   "execution_count": 99,
   "id": "a71b2d75",
   "metadata": {},
   "outputs": [
    {
     "data": {
      "text/plain": [
       "['Hassan', 18, 40.5, False, '0300-3000000']"
      ]
     },
     "execution_count": 99,
     "metadata": {},
     "output_type": "execute_result"
    }
   ],
   "source": [
    "bio_data"
   ]
  },
  {
   "cell_type": "code",
   "execution_count": 103,
   "id": "75e8aa31",
   "metadata": {},
   "outputs": [
    {
     "data": {
      "text/plain": [
       "['Hassan', 18, 40.5, False, '0300-3000000']"
      ]
     },
     "execution_count": 103,
     "metadata": {},
     "output_type": "execute_result"
    }
   ],
   "source": [
    "bio_data"
   ]
  },
  {
   "cell_type": "code",
   "execution_count": 104,
   "id": "a578c550",
   "metadata": {},
   "outputs": [],
   "source": [
    "# function k lea []\n",
    "# method k lea () methods like .append,.index"
   ]
  },
  {
   "cell_type": "markdown",
   "id": "2ba25b4b",
   "metadata": {},
   "source": [
    "# 3. Popping Elements from list:"
   ]
  },
  {
   "cell_type": "code",
   "execution_count": 111,
   "id": "6c22aafb",
   "metadata": {},
   "outputs": [],
   "source": [
    "progrmming_lng = ['C++','Python','Java','Java Script','C#','Php']"
   ]
  },
  {
   "cell_type": "code",
   "execution_count": 112,
   "id": "34cfd9f8",
   "metadata": {},
   "outputs": [],
   "source": [
    "learn_prog_lng = []"
   ]
  },
  {
   "cell_type": "code",
   "execution_count": 109,
   "id": "76b6e5ce",
   "metadata": {},
   "outputs": [
    {
     "data": {
      "text/plain": [
       "'C++'"
      ]
     },
     "execution_count": 109,
     "metadata": {},
     "output_type": "execute_result"
    }
   ],
   "source": [
    "progrmming_lng.pop(0)"
   ]
  },
  {
   "cell_type": "code",
   "execution_count": 110,
   "id": "b8aa9a50",
   "metadata": {},
   "outputs": [
    {
     "data": {
      "text/plain": [
       "['Python', 'Java', 'Java Script', 'C#', 'Php']"
      ]
     },
     "execution_count": 110,
     "metadata": {},
     "output_type": "execute_result"
    }
   ],
   "source": [
    "progrmming_lng"
   ]
  },
  {
   "cell_type": "code",
   "execution_count": 113,
   "id": "d276c094",
   "metadata": {},
   "outputs": [],
   "source": [
    "learn_prog_lng = learn_prog_lng + list(progrmming_lng.pop(0))"
   ]
  },
  {
   "cell_type": "code",
   "execution_count": 114,
   "id": "e940229b",
   "metadata": {},
   "outputs": [
    {
     "data": {
      "text/plain": [
       "['C', '+', '+']"
      ]
     },
     "execution_count": 114,
     "metadata": {},
     "output_type": "execute_result"
    }
   ],
   "source": [
    "learn_prog_lng"
   ]
  },
  {
   "cell_type": "markdown",
   "id": "7ac3f590",
   "metadata": {},
   "source": [
    "### another list"
   ]
  },
  {
   "cell_type": "code",
   "execution_count": 125,
   "id": "c0526658",
   "metadata": {},
   "outputs": [],
   "source": [
    "daily_task = ['Meet With Ali ', 'Call Sarah', 'Drink Coffe']"
   ]
  },
  {
   "cell_type": "code",
   "execution_count": 126,
   "id": "225dbeda",
   "metadata": {},
   "outputs": [],
   "source": [
    "task_completed = []"
   ]
  },
  {
   "cell_type": "code",
   "execution_count": 127,
   "id": "5f8b94d4",
   "metadata": {},
   "outputs": [],
   "source": [
    "task_completed.insert(0 , daily_task.pop(1))"
   ]
  },
  {
   "cell_type": "code",
   "execution_count": 128,
   "id": "44602c07",
   "metadata": {},
   "outputs": [
    {
     "data": {
      "text/plain": [
       "['Call Sarah']"
      ]
     },
     "execution_count": 128,
     "metadata": {},
     "output_type": "execute_result"
    }
   ],
   "source": [
    "task_completed"
   ]
  },
  {
   "cell_type": "code",
   "execution_count": 129,
   "id": "85ac753b",
   "metadata": {},
   "outputs": [
    {
     "data": {
      "text/plain": [
       "['Atlanta',\n",
       " 'Baltimore',\n",
       " 'Belgium',\n",
       " 'Chicago',\n",
       " 'Denver',\n",
       " 'Indonasia',\n",
       " 'Los Angles',\n",
       " 'Pakistan',\n",
       " 'Seattle']"
      ]
     },
     "execution_count": 129,
     "metadata": {},
     "output_type": "execute_result"
    }
   ],
   "source": [
    "countries"
   ]
  },
  {
   "cell_type": "code",
   "execution_count": 130,
   "id": "b857e7d1",
   "metadata": {},
   "outputs": [],
   "source": [
    "visited_countries = []"
   ]
  },
  {
   "cell_type": "code",
   "execution_count": 131,
   "id": "6dd399bf",
   "metadata": {},
   "outputs": [],
   "source": [
    "visited_countries.insert(0 ,countries.pop(-2))"
   ]
  },
  {
   "cell_type": "code",
   "execution_count": 132,
   "id": "a934a9d8",
   "metadata": {},
   "outputs": [
    {
     "data": {
      "text/plain": [
       "['Pakistan']"
      ]
     },
     "execution_count": 132,
     "metadata": {},
     "output_type": "execute_result"
    }
   ],
   "source": [
    "visited_countries"
   ]
  },
  {
   "cell_type": "code",
   "execution_count": 133,
   "id": "5d4c8775",
   "metadata": {},
   "outputs": [],
   "source": [
    "visited_countries = visited_countries+list(countries.pop(5))"
   ]
  },
  {
   "cell_type": "code",
   "execution_count": 134,
   "id": "04374575",
   "metadata": {},
   "outputs": [
    {
     "data": {
      "text/plain": [
       "['Pakistan', 'I', 'n', 'd', 'o', 'n', 'a', 's', 'i', 'a']"
      ]
     },
     "execution_count": 134,
     "metadata": {},
     "output_type": "execute_result"
    }
   ],
   "source": [
    "visited_countries"
   ]
  },
  {
   "cell_type": "code",
   "execution_count": 135,
   "id": "a510a364",
   "metadata": {},
   "outputs": [
    {
     "data": {
      "text/plain": [
       "['Atlanta',\n",
       " 'Baltimore',\n",
       " 'Belgium',\n",
       " 'Chicago',\n",
       " 'Denver',\n",
       " 'Los Angles',\n",
       " 'Seattle']"
      ]
     },
     "execution_count": 135,
     "metadata": {},
     "output_type": "execute_result"
    }
   ],
   "source": [
    "countries"
   ]
  },
  {
   "cell_type": "code",
   "execution_count": 136,
   "id": "5677fe40",
   "metadata": {},
   "outputs": [],
   "source": [
    "# POP append ka ulta kaam krta hai..\n",
    "# wo bhi last elements se nikaal ta hai\n",
    "# or remove bhi kre ga but return bhi kre ga"
   ]
  },
  {
   "cell_type": "code",
   "execution_count": 140,
   "id": "58b79649",
   "metadata": {},
   "outputs": [
    {
     "data": {
      "text/plain": [
       "['Atlanta',\n",
       " 'Baltimore',\n",
       " 'Belgium',\n",
       " 'Chicago',\n",
       " 'Denver',\n",
       " 'Los Angles',\n",
       " 'Seattle',\n",
       " 'Something New!']"
      ]
     },
     "execution_count": 140,
     "metadata": {},
     "output_type": "execute_result"
    }
   ],
   "source": [
    "countries"
   ]
  },
  {
   "cell_type": "code",
   "execution_count": 141,
   "id": "383b5d31",
   "metadata": {},
   "outputs": [],
   "source": [
    "countries.remove('Something New!')"
   ]
  },
  {
   "cell_type": "code",
   "execution_count": 142,
   "id": "ba79268c",
   "metadata": {},
   "outputs": [
    {
     "data": {
      "text/plain": [
       "['Atlanta',\n",
       " 'Baltimore',\n",
       " 'Belgium',\n",
       " 'Chicago',\n",
       " 'Denver',\n",
       " 'Los Angles',\n",
       " 'Seattle']"
      ]
     },
     "execution_count": 142,
     "metadata": {},
     "output_type": "execute_result"
    }
   ],
   "source": [
    "countries"
   ]
  },
  {
   "cell_type": "code",
   "execution_count": 143,
   "id": "7fe38d9c",
   "metadata": {},
   "outputs": [],
   "source": [
    "countries[1] = ['Something New']"
   ]
  },
  {
   "cell_type": "code",
   "execution_count": 144,
   "id": "96646310",
   "metadata": {},
   "outputs": [
    {
     "data": {
      "text/plain": [
       "['Atlanta',\n",
       " ['Something New'],\n",
       " 'Belgium',\n",
       " 'Chicago',\n",
       " 'Denver',\n",
       " 'Los Angles',\n",
       " 'Seattle']"
      ]
     },
     "execution_count": 144,
     "metadata": {},
     "output_type": "execute_result"
    }
   ],
   "source": [
    "countries"
   ]
  },
  {
   "cell_type": "markdown",
   "id": "b753707e",
   "metadata": {},
   "source": [
    "# Tuples :\n"
   ]
  },
  {
   "cell_type": "code",
   "execution_count": 137,
   "id": "464ff1e0",
   "metadata": {},
   "outputs": [],
   "source": [
    "# Tuples are immutable (TUPLES can't be changed)"
   ]
  },
  {
   "cell_type": "code",
   "execution_count": 146,
   "id": "e84bd556",
   "metadata": {},
   "outputs": [],
   "source": [
    "tuple_bio_data = (\"Qasim\" , \"Hassan\" , 18 , 40.5 ,False , \"43215-4578963-0\")"
   ]
  },
  {
   "cell_type": "code",
   "execution_count": 147,
   "id": "e650905e",
   "metadata": {},
   "outputs": [],
   "source": [
    "# TUPLES can be written with ()"
   ]
  },
  {
   "cell_type": "code",
   "execution_count": 148,
   "id": "c6f00cfa",
   "metadata": {},
   "outputs": [
    {
     "data": {
      "text/plain": [
       "('Qasim', 'Hassan', 18, 40.5, False, '43215-4578963-0')"
      ]
     },
     "execution_count": 148,
     "metadata": {},
     "output_type": "execute_result"
    }
   ],
   "source": [
    "tuple_bio_data"
   ]
  },
  {
   "cell_type": "code",
   "execution_count": 149,
   "id": "dd4f694b",
   "metadata": {},
   "outputs": [
    {
     "data": {
      "text/plain": [
       "tuple"
      ]
     },
     "execution_count": 149,
     "metadata": {},
     "output_type": "execute_result"
    }
   ],
   "source": [
    "type(tuple_bio_data)"
   ]
  },
  {
   "cell_type": "code",
   "execution_count": 150,
   "id": "a76be56c",
   "metadata": {},
   "outputs": [
    {
     "data": {
      "text/plain": [
       "1755995249856"
      ]
     },
     "execution_count": 150,
     "metadata": {},
     "output_type": "execute_result"
    }
   ],
   "source": [
    "id(tuple_bio_data)"
   ]
  },
  {
   "cell_type": "code",
   "execution_count": 152,
   "id": "743e40b4",
   "metadata": {},
   "outputs": [
    {
     "data": {
      "text/plain": [
       "'Hassan'"
      ]
     },
     "execution_count": 152,
     "metadata": {},
     "output_type": "execute_result"
    }
   ],
   "source": [
    "tuple_bio_data[1]"
   ]
  },
  {
   "cell_type": "code",
   "execution_count": 153,
   "id": "f1b0e542",
   "metadata": {},
   "outputs": [
    {
     "data": {
      "text/plain": [
       "18"
      ]
     },
     "execution_count": 153,
     "metadata": {},
     "output_type": "execute_result"
    }
   ],
   "source": [
    "tuple_bio_data[2]"
   ]
  },
  {
   "cell_type": "code",
   "execution_count": 154,
   "id": "c26adace",
   "metadata": {},
   "outputs": [
    {
     "data": {
      "text/plain": [
       "('Hassan', 18, 40.5)"
      ]
     },
     "execution_count": 154,
     "metadata": {},
     "output_type": "execute_result"
    }
   ],
   "source": [
    "tuple_bio_data[1:4]"
   ]
  },
  {
   "cell_type": "code",
   "execution_count": 156,
   "id": "6e3faa3a",
   "metadata": {},
   "outputs": [
    {
     "data": {
      "text/plain": [
       "(40.5, False, '43215-4578963-0')"
      ]
     },
     "execution_count": 156,
     "metadata": {},
     "output_type": "execute_result"
    }
   ],
   "source": [
    "tuple_bio_data[3:]"
   ]
  },
  {
   "cell_type": "code",
   "execution_count": 157,
   "id": "7e4bae82",
   "metadata": {},
   "outputs": [
    {
     "ename": "TypeError",
     "evalue": "'tuple' object does not support item assignment",
     "output_type": "error",
     "traceback": [
      "\u001b[1;31m---------------------------------------------------------------------------\u001b[0m",
      "\u001b[1;31mTypeError\u001b[0m                                 Traceback (most recent call last)",
      "Cell \u001b[1;32mIn[157], line 1\u001b[0m\n\u001b[1;32m----> 1\u001b[0m tuple_bio_data[\u001b[38;5;241m1\u001b[39m] \u001b[38;5;241m=\u001b[39m \u001b[38;5;124m'\u001b[39m\u001b[38;5;124mMehmood\u001b[39m\u001b[38;5;124m'\u001b[39m\n",
      "\u001b[1;31mTypeError\u001b[0m: 'tuple' object does not support item assignment"
     ]
    }
   ],
   "source": [
    "tuple_bio_data[1] = 'Mehmood'"
   ]
  },
  {
   "cell_type": "code",
   "execution_count": 163,
   "id": "e8917a8e",
   "metadata": {},
   "outputs": [
    {
     "data": {
      "text/plain": [
       "1"
      ]
     },
     "execution_count": 163,
     "metadata": {},
     "output_type": "execute_result"
    }
   ],
   "source": [
    "tuple_bio_data.count('Qasim')"
   ]
  },
  {
   "cell_type": "code",
   "execution_count": 165,
   "id": "13c5460d",
   "metadata": {},
   "outputs": [
    {
     "data": {
      "text/plain": [
       "0"
      ]
     },
     "execution_count": 165,
     "metadata": {},
     "output_type": "execute_result"
    }
   ],
   "source": [
    "tuple_bio_data.index('Qasim')"
   ]
  },
  {
   "cell_type": "markdown",
   "id": "ed0904ce",
   "metadata": {},
   "source": []
  }
 ],
 "metadata": {
  "kernelspec": {
   "display_name": "Python 3 (ipykernel)",
   "language": "python",
   "name": "python3"
  },
  "language_info": {
   "codemirror_mode": {
    "name": "ipython",
    "version": 3
   },
   "file_extension": ".py",
   "mimetype": "text/x-python",
   "name": "python",
   "nbconvert_exporter": "python",
   "pygments_lexer": "ipython3",
   "version": "3.11.5"
  }
 },
 "nbformat": 4,
 "nbformat_minor": 5
}
