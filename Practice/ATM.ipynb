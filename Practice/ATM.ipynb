{
 "cells": [
  {
   "cell_type": "code",
   "execution_count": 6,
   "id": "e8811dd6",
   "metadata": {},
   "outputs": [],
   "source": [
    "pin = 6655\n",
    "bal = 20000"
   ]
  },
  {
   "cell_type": "code",
   "execution_count": 11,
   "id": "797abbb1",
   "metadata": {},
   "outputs": [
    {
     "name": "stdout",
     "output_type": "stream",
     "text": [
      "Enter your pin :6655\n",
      "You want to deposite or withdraw your amount('D'to deposite AND 'W' to withdraw):\n",
      "W\n",
      "Your balance is :20000\n",
      "Enter your withdraw amount:6000\n",
      "Now your balance is :14000\n"
     ]
    }
   ],
   "source": [
    "PIN = int(input('Enter your pin :'))\n",
    "if pin == PIN:\n",
    "    choice = input(\"You want to deposite or withdraw your\\\n",
    " amount('D'to deposite AND 'W' to withdraw):\\n\")\n",
    "    if choice == 'D':\n",
    "        dep_amount = int(input('Enter your deposit amount :'))\n",
    "        new_dep_amount = dep_amount + bal\n",
    "        print(f\"Now your balance is :{new_dep_amount}\")\n",
    "    elif choice == 'W':\n",
    "        print(f\"Your balance is :{bal}\")\n",
    "        wit_amount = int(input('Enter your withdraw amount:'))\n",
    "        now_bal =  bal - wit_amount\n",
    "        print(f\"Now your balance is :{now_bal}\")\n",
    "    \n",
    "else:\n",
    "    print('Wrong PIN ):')"
   ]
  },
  {
   "cell_type": "code",
   "execution_count": null,
   "id": "7e113277",
   "metadata": {},
   "outputs": [],
   "source": []
  }
 ],
 "metadata": {
  "kernelspec": {
   "display_name": "Python 3 (ipykernel)",
   "language": "python",
   "name": "python3"
  },
  "language_info": {
   "codemirror_mode": {
    "name": "ipython",
    "version": 3
   },
   "file_extension": ".py",
   "mimetype": "text/x-python",
   "name": "python",
   "nbconvert_exporter": "python",
   "pygments_lexer": "ipython3",
   "version": "3.11.5"
  }
 },
 "nbformat": 4,
 "nbformat_minor": 5
}
