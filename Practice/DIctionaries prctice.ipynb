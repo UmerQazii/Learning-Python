{
 "cells": [
  {
   "cell_type": "markdown",
   "id": "e0dc634a",
   "metadata": {},
   "source": [
    "# Dictionaries { }:"
   ]
  },
  {
   "cell_type": "markdown",
   "id": "db33c808",
   "metadata": {},
   "source": [
    "## 01.Making Dictionaries:"
   ]
  },
  {
   "cell_type": "code",
   "execution_count": 1,
   "id": "d32446b3",
   "metadata": {},
   "outputs": [],
   "source": [
    "# Method 1: Using curly braces\n",
    "my_dict = {'name': 'John', 'age': 25, 'city': 'New York'}"
   ]
  },
  {
   "cell_type": "code",
   "execution_count": 20,
   "id": "f1914719",
   "metadata": {},
   "outputs": [],
   "source": [
    "bio_data = {'name':'Umer', 'age':18, 'city': 'Karachi'}"
   ]
  },
  {
   "cell_type": "code",
   "execution_count": 5,
   "id": "9a4e9bc1",
   "metadata": {},
   "outputs": [
    {
     "data": {
      "text/plain": [
       "{'name': 'John', 'age': 25, 'city': 'New York'}"
      ]
     },
     "execution_count": 5,
     "metadata": {},
     "output_type": "execute_result"
    }
   ],
   "source": [
    "my_dict"
   ]
  },
  {
   "cell_type": "code",
   "execution_count": 21,
   "id": "4ebe48ca",
   "metadata": {},
   "outputs": [
    {
     "data": {
      "text/plain": [
       "{'name': 'Umer', 'age': 18, 'city': 'Karachi'}"
      ]
     },
     "execution_count": 21,
     "metadata": {},
     "output_type": "execute_result"
    }
   ],
   "source": [
    "bio_data"
   ]
  },
  {
   "cell_type": "code",
   "execution_count": 2,
   "id": "8172dbce",
   "metadata": {},
   "outputs": [],
   "source": [
    "# Method 2: Using the dict() constructor\n",
    "another_dict = dict(name='Jane', age=30, city='San Francisco')"
   ]
  },
  {
   "cell_type": "code",
   "execution_count": 22,
   "id": "6759bff7",
   "metadata": {},
   "outputs": [],
   "source": [
    "student_dict = dict(name='Qasim', age=30, city= 'Islamabad')"
   ]
  },
  {
   "cell_type": "code",
   "execution_count": 6,
   "id": "57a465a7",
   "metadata": {},
   "outputs": [
    {
     "data": {
      "text/plain": [
       "{'name': 'Jane', 'age': 30, 'city': 'San Francisco'}"
      ]
     },
     "execution_count": 6,
     "metadata": {},
     "output_type": "execute_result"
    }
   ],
   "source": [
    "another_dict"
   ]
  },
  {
   "cell_type": "code",
   "execution_count": 23,
   "id": "8222d9fa",
   "metadata": {},
   "outputs": [
    {
     "data": {
      "text/plain": [
       "{'name': 'Qasim', 'age': 30, 'city': 'Islamabad'}"
      ]
     },
     "execution_count": 23,
     "metadata": {},
     "output_type": "execute_result"
    }
   ],
   "source": [
    "student_dict"
   ]
  },
  {
   "cell_type": "code",
   "execution_count": 3,
   "id": "68ba55c3",
   "metadata": {},
   "outputs": [],
   "source": [
    "# An empty dictionary\n",
    "empty_dict = {}"
   ]
  },
  {
   "cell_type": "code",
   "execution_count": 7,
   "id": "ef459d21",
   "metadata": {},
   "outputs": [
    {
     "data": {
      "text/plain": [
       "{}"
      ]
     },
     "execution_count": 7,
     "metadata": {},
     "output_type": "execute_result"
    }
   ],
   "source": [
    "empty_dict"
   ]
  },
  {
   "cell_type": "markdown",
   "id": "6af711bd",
   "metadata": {},
   "source": [
    "## 02.Accessing Values:"
   ]
  },
  {
   "cell_type": "code",
   "execution_count": 4,
   "id": "7f95ffee",
   "metadata": {},
   "outputs": [],
   "source": [
    "# Accessing value using key\n",
    "name = my_dict['name']"
   ]
  },
  {
   "cell_type": "code",
   "execution_count": 24,
   "id": "44f4b972",
   "metadata": {},
   "outputs": [],
   "source": [
    "name = bio_data['name']"
   ]
  },
  {
   "cell_type": "code",
   "execution_count": 8,
   "id": "359bc497",
   "metadata": {},
   "outputs": [
    {
     "data": {
      "text/plain": [
       "'John'"
      ]
     },
     "execution_count": 8,
     "metadata": {},
     "output_type": "execute_result"
    }
   ],
   "source": [
    "name"
   ]
  },
  {
   "cell_type": "code",
   "execution_count": 25,
   "id": "a3d03a9d",
   "metadata": {},
   "outputs": [
    {
     "data": {
      "text/plain": [
       "'Umer'"
      ]
     },
     "execution_count": 25,
     "metadata": {},
     "output_type": "execute_result"
    }
   ],
   "source": [
    "name"
   ]
  },
  {
   "cell_type": "code",
   "execution_count": 10,
   "id": "534ccb17",
   "metadata": {},
   "outputs": [],
   "source": [
    "# Using get() method\n",
    "age = my_dict.get('age')  "
   ]
  },
  {
   "cell_type": "code",
   "execution_count": 11,
   "id": "112e889d",
   "metadata": {},
   "outputs": [
    {
     "data": {
      "text/plain": [
       "25"
      ]
     },
     "execution_count": 11,
     "metadata": {},
     "output_type": "execute_result"
    }
   ],
   "source": [
    "age"
   ]
  },
  {
   "cell_type": "code",
   "execution_count": 28,
   "id": "3e14269d",
   "metadata": {},
   "outputs": [],
   "source": [
    "age = bio_data.get('age')"
   ]
  },
  {
   "cell_type": "code",
   "execution_count": 29,
   "id": "119e1822",
   "metadata": {},
   "outputs": [
    {
     "data": {
      "text/plain": [
       "18"
      ]
     },
     "execution_count": 29,
     "metadata": {},
     "output_type": "execute_result"
    }
   ],
   "source": [
    "age"
   ]
  },
  {
   "cell_type": "code",
   "execution_count": null,
   "id": "1f25c75d",
   "metadata": {},
   "outputs": [],
   "source": []
  },
  {
   "cell_type": "markdown",
   "id": "c21022b1",
   "metadata": {},
   "source": [
    "## 03.Updating Values:"
   ]
  },
  {
   "cell_type": "code",
   "execution_count": 31,
   "id": "69a2ed47",
   "metadata": {},
   "outputs": [
    {
     "data": {
      "text/plain": [
       "{'name': 'Umer', 'age': 18, 'city': 'Karachi'}"
      ]
     },
     "execution_count": 31,
     "metadata": {},
     "output_type": "execute_result"
    }
   ],
   "source": [
    "bio_data"
   ]
  },
  {
   "cell_type": "code",
   "execution_count": 12,
   "id": "d2d0f777",
   "metadata": {},
   "outputs": [],
   "source": [
    "# Updating an existing key\n",
    "my_dict['age'] = 26  "
   ]
  },
  {
   "cell_type": "code",
   "execution_count": 13,
   "id": "83532fd8",
   "metadata": {},
   "outputs": [
    {
     "data": {
      "text/plain": [
       "{'name': 'John', 'age': 26, 'city': 'New York'}"
      ]
     },
     "execution_count": 13,
     "metadata": {},
     "output_type": "execute_result"
    }
   ],
   "source": [
    "my_dict"
   ]
  },
  {
   "cell_type": "code",
   "execution_count": 32,
   "id": "018c7e71",
   "metadata": {},
   "outputs": [],
   "source": [
    "bio_data['age'] = 17"
   ]
  },
  {
   "cell_type": "code",
   "execution_count": 33,
   "id": "f28eef6a",
   "metadata": {},
   "outputs": [
    {
     "data": {
      "text/plain": [
       "{'name': 'Umer', 'age': 17, 'city': 'Karachi'}"
      ]
     },
     "execution_count": 33,
     "metadata": {},
     "output_type": "execute_result"
    }
   ],
   "source": [
    "bio_data"
   ]
  },
  {
   "cell_type": "code",
   "execution_count": 34,
   "id": "c5220c8f",
   "metadata": {},
   "outputs": [],
   "source": [
    "bio_data['name'] = 'Umer Qazi'"
   ]
  },
  {
   "cell_type": "code",
   "execution_count": 35,
   "id": "a939a085",
   "metadata": {},
   "outputs": [
    {
     "data": {
      "text/plain": [
       "{'name': 'Umer Qazi', 'age': 17, 'city': 'Karachi'}"
      ]
     },
     "execution_count": 35,
     "metadata": {},
     "output_type": "execute_result"
    }
   ],
   "source": [
    "bio_data"
   ]
  },
  {
   "cell_type": "code",
   "execution_count": 14,
   "id": "f186fc7f",
   "metadata": {},
   "outputs": [],
   "source": [
    "# Adding a new key-value pair\n",
    "my_dict['occupation'] = 'Engineer'  "
   ]
  },
  {
   "cell_type": "code",
   "execution_count": 15,
   "id": "90e77423",
   "metadata": {},
   "outputs": [
    {
     "data": {
      "text/plain": [
       "{'name': 'John', 'age': 26, 'city': 'New York', 'occupation': 'Engineer'}"
      ]
     },
     "execution_count": 15,
     "metadata": {},
     "output_type": "execute_result"
    }
   ],
   "source": [
    "my_dict"
   ]
  },
  {
   "cell_type": "code",
   "execution_count": 36,
   "id": "4662acbc",
   "metadata": {},
   "outputs": [],
   "source": [
    "bio_data['phone no'] = '01255697988'"
   ]
  },
  {
   "cell_type": "code",
   "execution_count": 37,
   "id": "3dae0bd9",
   "metadata": {},
   "outputs": [
    {
     "data": {
      "text/plain": [
       "{'name': 'Umer Qazi', 'age': 17, 'city': 'Karachi', 'phone no': '01255697988'}"
      ]
     },
     "execution_count": 37,
     "metadata": {},
     "output_type": "execute_result"
    }
   ],
   "source": [
    "bio_data"
   ]
  },
  {
   "cell_type": "code",
   "execution_count": null,
   "id": "ab10f252",
   "metadata": {},
   "outputs": [],
   "source": []
  },
  {
   "cell_type": "code",
   "execution_count": null,
   "id": "77c474bc",
   "metadata": {},
   "outputs": [],
   "source": []
  },
  {
   "cell_type": "markdown",
   "id": "f9f588c7",
   "metadata": {},
   "source": [
    "## 04.Removing Items:\n"
   ]
  },
  {
   "cell_type": "code",
   "execution_count": 16,
   "id": "8ec4e15d",
   "metadata": {},
   "outputs": [],
   "source": [
    "# Deleting a specific key-value pair\n",
    "del my_dict['city']  "
   ]
  },
  {
   "cell_type": "code",
   "execution_count": 17,
   "id": "d1885415",
   "metadata": {},
   "outputs": [
    {
     "data": {
      "text/plain": [
       "{'name': 'John', 'age': 26, 'occupation': 'Engineer'}"
      ]
     },
     "execution_count": 17,
     "metadata": {},
     "output_type": "execute_result"
    }
   ],
   "source": [
    "my_dict"
   ]
  },
  {
   "cell_type": "code",
   "execution_count": 38,
   "id": "11699652",
   "metadata": {},
   "outputs": [],
   "source": [
    "del bio_data['phone no']"
   ]
  },
  {
   "cell_type": "code",
   "execution_count": 39,
   "id": "91b63bb6",
   "metadata": {},
   "outputs": [
    {
     "data": {
      "text/plain": [
       "{'name': 'Umer Qazi', 'age': 17, 'city': 'Karachi'}"
      ]
     },
     "execution_count": 39,
     "metadata": {},
     "output_type": "execute_result"
    }
   ],
   "source": [
    "bio_data"
   ]
  },
  {
   "cell_type": "code",
   "execution_count": null,
   "id": "c518a77c",
   "metadata": {},
   "outputs": [],
   "source": []
  },
  {
   "cell_type": "code",
   "execution_count": 18,
   "id": "5deaa322",
   "metadata": {},
   "outputs": [
    {
     "data": {
      "text/plain": [
       "26"
      ]
     },
     "execution_count": 18,
     "metadata": {},
     "output_type": "execute_result"
    }
   ],
   "source": [
    "# Removing and returning the value for a given key\n",
    "my_dict.pop('age')  "
   ]
  },
  {
   "cell_type": "code",
   "execution_count": 19,
   "id": "054738e4",
   "metadata": {},
   "outputs": [
    {
     "data": {
      "text/plain": [
       "{'name': 'John', 'occupation': 'Engineer'}"
      ]
     },
     "execution_count": 19,
     "metadata": {},
     "output_type": "execute_result"
    }
   ],
   "source": [
    "my_dict"
   ]
  },
  {
   "cell_type": "code",
   "execution_count": 40,
   "id": "9459e3cd",
   "metadata": {},
   "outputs": [
    {
     "data": {
      "text/plain": [
       "17"
      ]
     },
     "execution_count": 40,
     "metadata": {},
     "output_type": "execute_result"
    }
   ],
   "source": [
    "bio_data.pop('age')"
   ]
  },
  {
   "cell_type": "code",
   "execution_count": 41,
   "id": "78238261",
   "metadata": {},
   "outputs": [
    {
     "data": {
      "text/plain": [
       "{'name': 'Umer Qazi', 'city': 'Karachi'}"
      ]
     },
     "execution_count": 41,
     "metadata": {},
     "output_type": "execute_result"
    }
   ],
   "source": [
    "bio_data"
   ]
  },
  {
   "cell_type": "code",
   "execution_count": 42,
   "id": "b0f533bd",
   "metadata": {},
   "outputs": [],
   "source": [
    "# Clearing all key-value pairs in the dictionary\n",
    "my_dict.clear()      "
   ]
  },
  {
   "cell_type": "code",
   "execution_count": 43,
   "id": "ab6d1b3a",
   "metadata": {},
   "outputs": [
    {
     "data": {
      "text/plain": [
       "{}"
      ]
     },
     "execution_count": 43,
     "metadata": {},
     "output_type": "execute_result"
    }
   ],
   "source": [
    "my_dict"
   ]
  },
  {
   "cell_type": "markdown",
   "id": "789e68b9",
   "metadata": {},
   "source": [
    "## 05.Checking Existence:\n"
   ]
  },
  {
   "cell_type": "code",
   "execution_count": 47,
   "id": "f8554fe2",
   "metadata": {},
   "outputs": [
    {
     "data": {
      "text/plain": [
       "{'name': 'Umer Qazi', 'city': 'Karachi'}"
      ]
     },
     "execution_count": 47,
     "metadata": {},
     "output_type": "execute_result"
    }
   ],
   "source": [
    "bio_data"
   ]
  },
  {
   "cell_type": "code",
   "execution_count": 44,
   "id": "825e06d2",
   "metadata": {},
   "outputs": [
    {
     "data": {
      "text/plain": [
       "False"
      ]
     },
     "execution_count": 44,
     "metadata": {},
     "output_type": "execute_result"
    }
   ],
   "source": [
    "# Checking if a key exists in the dictionary\n",
    "'age' in my_dict      "
   ]
  },
  {
   "cell_type": "code",
   "execution_count": 45,
   "id": "71cb8a80",
   "metadata": {},
   "outputs": [
    {
     "data": {
      "text/plain": [
       "True"
      ]
     },
     "execution_count": 45,
     "metadata": {},
     "output_type": "execute_result"
    }
   ],
   "source": [
    "'name' in bio_data"
   ]
  },
  {
   "cell_type": "code",
   "execution_count": 46,
   "id": "73bfd26c",
   "metadata": {},
   "outputs": [
    {
     "data": {
      "text/plain": [
       "False"
      ]
     },
     "execution_count": 46,
     "metadata": {},
     "output_type": "execute_result"
    }
   ],
   "source": [
    "'age' in bio_data"
   ]
  },
  {
   "cell_type": "code",
   "execution_count": 48,
   "id": "6a1f2405",
   "metadata": {},
   "outputs": [
    {
     "data": {
      "text/plain": [
       "True"
      ]
     },
     "execution_count": 48,
     "metadata": {},
     "output_type": "execute_result"
    }
   ],
   "source": [
    "'city' in bio_data"
   ]
  },
  {
   "cell_type": "markdown",
   "id": "24abdc48",
   "metadata": {},
   "source": [
    "# --Dictionary Methods:--\n"
   ]
  },
  {
   "cell_type": "markdown",
   "id": "6334d357",
   "metadata": {},
   "source": [
    "#### .keys( )"
   ]
  },
  {
   "cell_type": "code",
   "execution_count": null,
   "id": "ae7ac5d6",
   "metadata": {},
   "outputs": [],
   "source": [
    "# Returns a list of all keys\n",
    "keys = my_dict.keys()          "
   ]
  },
  {
   "cell_type": "code",
   "execution_count": 49,
   "id": "8ddc1fc8",
   "metadata": {},
   "outputs": [],
   "source": [
    "keys = bio_data.keys()"
   ]
  },
  {
   "cell_type": "code",
   "execution_count": 50,
   "id": "1da0027b",
   "metadata": {},
   "outputs": [
    {
     "data": {
      "text/plain": [
       "dict_keys(['name', 'city'])"
      ]
     },
     "execution_count": 50,
     "metadata": {},
     "output_type": "execute_result"
    }
   ],
   "source": [
    "keys"
   ]
  },
  {
   "cell_type": "markdown",
   "id": "a8600030",
   "metadata": {},
   "source": [
    "#### .values( )"
   ]
  },
  {
   "cell_type": "code",
   "execution_count": null,
   "id": "7d503a0f",
   "metadata": {},
   "outputs": [],
   "source": [
    "# Returns a list of all values\n",
    "values = my_dict.values()      "
   ]
  },
  {
   "cell_type": "code",
   "execution_count": 51,
   "id": "2d5b1f3a",
   "metadata": {},
   "outputs": [],
   "source": [
    "values =  bio_data.values()"
   ]
  },
  {
   "cell_type": "code",
   "execution_count": 52,
   "id": "4e0e611c",
   "metadata": {},
   "outputs": [
    {
     "data": {
      "text/plain": [
       "dict_values(['Umer Qazi', 'Karachi'])"
      ]
     },
     "execution_count": 52,
     "metadata": {},
     "output_type": "execute_result"
    }
   ],
   "source": [
    "values"
   ]
  },
  {
   "cell_type": "markdown",
   "id": "45c77d6d",
   "metadata": {},
   "source": [
    "#### .items( )"
   ]
  },
  {
   "cell_type": "code",
   "execution_count": null,
   "id": "601347e2",
   "metadata": {},
   "outputs": [],
   "source": [
    "# Returns a list of key-value tuples\n",
    "items = my_dict.items()        "
   ]
  },
  {
   "cell_type": "code",
   "execution_count": 53,
   "id": "5cf32f3a",
   "metadata": {},
   "outputs": [],
   "source": [
    "items = bio_data.items()"
   ]
  },
  {
   "cell_type": "code",
   "execution_count": 54,
   "id": "2d7a01ea",
   "metadata": {},
   "outputs": [
    {
     "data": {
      "text/plain": [
       "dict_items([('name', 'Umer Qazi'), ('city', 'Karachi')])"
      ]
     },
     "execution_count": 54,
     "metadata": {},
     "output_type": "execute_result"
    }
   ],
   "source": [
    "items"
   ]
  },
  {
   "cell_type": "code",
   "execution_count": null,
   "id": "f115a35f",
   "metadata": {},
   "outputs": [],
   "source": [
    "# Creates a shallow copy of the dictionary\n",
    "copy_dict = my_dict.copy()      "
   ]
  },
  {
   "cell_type": "code",
   "execution_count": null,
   "id": "94537cfd",
   "metadata": {},
   "outputs": [],
   "source": []
  },
  {
   "cell_type": "markdown",
   "id": "d865f022",
   "metadata": {},
   "source": [
    "## 06.Iterating Over a Dictionary:\n"
   ]
  },
  {
   "cell_type": "code",
   "execution_count": null,
   "id": "e0674ef6",
   "metadata": {},
   "outputs": [],
   "source": [
    "for key, value in my_dict.items():\n",
    "    print(key, value)"
   ]
  },
  {
   "cell_type": "code",
   "execution_count": 56,
   "id": "665de22e",
   "metadata": {},
   "outputs": [
    {
     "name": "stdout",
     "output_type": "stream",
     "text": [
      "Umer Qazi\n",
      "Karachi\n"
     ]
    }
   ],
   "source": [
    "for i in bio_data.values():\n",
    "    print(i)"
   ]
  },
  {
   "cell_type": "code",
   "execution_count": null,
   "id": "d86545f9",
   "metadata": {},
   "outputs": [],
   "source": []
  }
 ],
 "metadata": {
  "kernelspec": {
   "display_name": "Python 3 (ipykernel)",
   "language": "python",
   "name": "python3"
  },
  "language_info": {
   "codemirror_mode": {
    "name": "ipython",
    "version": 3
   },
   "file_extension": ".py",
   "mimetype": "text/x-python",
   "name": "python",
   "nbconvert_exporter": "python",
   "pygments_lexer": "ipython3",
   "version": "3.11.5"
  }
 },
 "nbformat": 4,
 "nbformat_minor": 5
}
