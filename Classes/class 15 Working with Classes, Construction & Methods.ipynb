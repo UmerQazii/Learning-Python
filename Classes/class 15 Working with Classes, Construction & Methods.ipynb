{
 "cells": [
  {
   "cell_type": "markdown",
   "id": "6d161696",
   "metadata": {},
   "source": [
    "# 1. Bakground"
   ]
  },
  {
   "cell_type": "code",
   "execution_count": 1,
   "id": "65ff3e3e",
   "metadata": {},
   "outputs": [
    {
     "data": {
      "text/plain": [
       "int"
      ]
     },
     "execution_count": 1,
     "metadata": {},
     "output_type": "execute_result"
    }
   ],
   "source": [
    "type(22)"
   ]
  },
  {
   "cell_type": "code",
   "execution_count": 2,
   "id": "cc80cac5",
   "metadata": {},
   "outputs": [],
   "source": [
    "list1 = [1,2,3,4,5]# list --> object"
   ]
  },
  {
   "cell_type": "code",
   "execution_count": 3,
   "id": "5448ad41",
   "metadata": {},
   "outputs": [
    {
     "data": {
      "text/plain": [
       "['__add__',\n",
       " '__class__',\n",
       " '__class_getitem__',\n",
       " '__contains__',\n",
       " '__delattr__',\n",
       " '__delitem__',\n",
       " '__dir__',\n",
       " '__doc__',\n",
       " '__eq__',\n",
       " '__format__',\n",
       " '__ge__',\n",
       " '__getattribute__',\n",
       " '__getitem__',\n",
       " '__getstate__',\n",
       " '__gt__',\n",
       " '__hash__',\n",
       " '__iadd__',\n",
       " '__imul__',\n",
       " '__init__',\n",
       " '__init_subclass__',\n",
       " '__iter__',\n",
       " '__le__',\n",
       " '__len__',\n",
       " '__lt__',\n",
       " '__mul__',\n",
       " '__ne__',\n",
       " '__new__',\n",
       " '__reduce__',\n",
       " '__reduce_ex__',\n",
       " '__repr__',\n",
       " '__reversed__',\n",
       " '__rmul__',\n",
       " '__setattr__',\n",
       " '__setitem__',\n",
       " '__sizeof__',\n",
       " '__str__',\n",
       " '__subclasshook__',\n",
       " 'append',\n",
       " 'clear',\n",
       " 'copy',\n",
       " 'count',\n",
       " 'extend',\n",
       " 'index',\n",
       " 'insert',\n",
       " 'pop',\n",
       " 'remove',\n",
       " 'reverse',\n",
       " 'sort']"
      ]
     },
     "execution_count": 3,
     "metadata": {},
     "output_type": "execute_result"
    }
   ],
   "source": [
    "dir(list1)"
   ]
  },
  {
   "cell_type": "code",
   "execution_count": null,
   "id": "df4320d8",
   "metadata": {},
   "outputs": [],
   "source": [
    "object = attributes(characterstics) + Methods(behavior\\)"
   ]
  },
  {
   "cell_type": "code",
   "execution_count": null,
   "id": "0612134e",
   "metadata": {},
   "outputs": [],
   "source": [
    "class = attributes + methods --> #we call objects from class"
   ]
  },
  {
   "cell_type": "code",
   "execution_count": null,
   "id": "cc4434bc",
   "metadata": {},
   "outputs": [],
   "source": [
    "object == blue print of class"
   ]
  },
  {
   "cell_type": "code",
   "execution_count": null,
   "id": "4e8f917d",
   "metadata": {},
   "outputs": [],
   "source": []
  },
  {
   "cell_type": "code",
   "execution_count": null,
   "id": "18c9e146",
   "metadata": {},
   "outputs": [],
   "source": [
    "patients\n",
    "    1-first name\n",
    "    2-last name\n",
    "    3-age\n",
    "under_age() >18\n",
    "\n",
    "p_Qasim = patients()"
   ]
  },
  {
   "cell_type": "markdown",
   "id": "5352e5f0",
   "metadata": {},
   "source": [
    "# 2. Classes"
   ]
  },
  {
   "cell_type": "code",
   "execution_count": null,
   "id": "a3296ad3",
   "metadata": {},
   "outputs": [],
   "source": [
    "class patient():\n",
    "    pass"
   ]
  },
  {
   "cell_type": "code",
   "execution_count": null,
   "id": "27458641",
   "metadata": {},
   "outputs": [],
   "source": []
  },
  {
   "cell_type": "markdown",
   "id": "e95fa5ec",
   "metadata": {},
   "source": [
    "# 3. Classes: Starting to build the structure :"
   ]
  },
  {
   "cell_type": "raw",
   "id": "9aae3a8c",
   "metadata": {},
   "source": [
    "class patient():\n",
    "    def __init__(**kuchbhi**, first_name, last_name, age): # __init__always define attributes of class\n",
    "                #kuchbhi use for class to handle attributes\n",
    "            #kuchbhi.what_ever = first_name\n",
    "            **kuchbhi**.**what_ever** = first_name"
   ]
  },
  {
   "cell_type": "code",
   "execution_count": 4,
   "id": "45978ff7",
   "metadata": {},
   "outputs": [],
   "source": [
    "class patient():\n",
    "    def __init__(patient, first_name, last_name, age): # always define attributes of class\n",
    "                #self use for class to handle attributes\n",
    "            patient.first_name = first_name"
   ]
  },
  {
   "cell_type": "code",
   "execution_count": null,
   "id": "bddad6a7",
   "metadata": {},
   "outputs": [],
   "source": []
  },
  {
   "cell_type": "markdown",
   "id": "4bf5681f",
   "metadata": {},
   "source": [
    "# 4. Classes: A bit of housekeeping"
   ]
  },
  {
   "cell_type": "code",
   "execution_count": 6,
   "id": "5736bbd6",
   "metadata": {},
   "outputs": [],
   "source": [
    "class patient():\n",
    "    def __init__(self, first_name, last_name, age): # always define attributes of class\n",
    "                #self use for class to handle attributes\n",
    "            self.first_name = first_name\n",
    "            self.last_name = last_name\n",
    "            self.age = age"
   ]
  },
  {
   "cell_type": "markdown",
   "id": "5cd192da",
   "metadata": {},
   "source": [
    "# 5. Classes: Creating an instance "
   ]
  },
  {
   "cell_type": "code",
   "execution_count": 7,
   "id": "bd7bb5dd",
   "metadata": {},
   "outputs": [],
   "source": [
    "p_qasim = patient('Qasim','Hassan',19)"
   ]
  },
  {
   "cell_type": "code",
   "execution_count": 8,
   "id": "bd631e65",
   "metadata": {},
   "outputs": [
    {
     "data": {
      "text/plain": [
       "'Qasim'"
      ]
     },
     "execution_count": 8,
     "metadata": {},
     "output_type": "execute_result"
    }
   ],
   "source": [
    "p_qasim.first_name"
   ]
  },
  {
   "cell_type": "code",
   "execution_count": 9,
   "id": "e0dea7e4",
   "metadata": {},
   "outputs": [
    {
     "data": {
      "text/plain": [
       "'Hassan'"
      ]
     },
     "execution_count": 9,
     "metadata": {},
     "output_type": "execute_result"
    }
   ],
   "source": [
    "p_qasim.last_name"
   ]
  },
  {
   "cell_type": "code",
   "execution_count": 11,
   "id": "47a40d1b",
   "metadata": {},
   "outputs": [
    {
     "data": {
      "text/plain": [
       "19"
      ]
     },
     "execution_count": 11,
     "metadata": {},
     "output_type": "execute_result"
    }
   ],
   "source": [
    "p_qasim.age"
   ]
  },
  {
   "cell_type": "code",
   "execution_count": 12,
   "id": "592ee07f",
   "metadata": {},
   "outputs": [],
   "source": [
    "p_mehmood = patient('Mehmood', 'Hassan',17)"
   ]
  },
  {
   "cell_type": "code",
   "execution_count": 13,
   "id": "86d60c99",
   "metadata": {},
   "outputs": [
    {
     "data": {
      "text/plain": [
       "17"
      ]
     },
     "execution_count": 13,
     "metadata": {},
     "output_type": "execute_result"
    }
   ],
   "source": [
    "p_mehmood.age"
   ]
  },
  {
   "cell_type": "code",
   "execution_count": 14,
   "id": "034ec341",
   "metadata": {},
   "outputs": [
    {
     "data": {
      "text/plain": [
       "'Mehmood'"
      ]
     },
     "execution_count": 14,
     "metadata": {},
     "output_type": "execute_result"
    }
   ],
   "source": [
    "p_mehmood.first_name"
   ]
  },
  {
   "cell_type": "code",
   "execution_count": 15,
   "id": "fb6d943c",
   "metadata": {},
   "outputs": [
    {
     "data": {
      "text/plain": [
       "'Hassan'"
      ]
     },
     "execution_count": 15,
     "metadata": {},
     "output_type": "execute_result"
    }
   ],
   "source": [
    "p_mehmood.last_name"
   ]
  },
  {
   "cell_type": "code",
   "execution_count": 16,
   "id": "f436c66a",
   "metadata": {},
   "outputs": [
    {
     "data": {
      "text/plain": [
       "__main__.patient"
      ]
     },
     "execution_count": 16,
     "metadata": {},
     "output_type": "execute_result"
    }
   ],
   "source": [
    "type(p_mehmood)"
   ]
  },
  {
   "cell_type": "code",
   "execution_count": 17,
   "id": "5781b107",
   "metadata": {},
   "outputs": [
    {
     "data": {
      "text/plain": [
       "str"
      ]
     },
     "execution_count": 17,
     "metadata": {},
     "output_type": "execute_result"
    }
   ],
   "source": [
    "type(p_mehmood.last_name)"
   ]
  },
  {
   "cell_type": "markdown",
   "id": "3dbf86f7",
   "metadata": {},
   "source": [
    "# 8. Classes: BUilding fun into them"
   ]
  },
  {
   "cell_type": "code",
   "execution_count": 20,
   "id": "b087ccea",
   "metadata": {},
   "outputs": [],
   "source": [
    "def under_age(first_name,last_name,age):\n",
    "    if age < 18:\n",
    "        print(f\"{first_name} {last_name} is UNDERAGE because of age {age} -> WARD 1\")\n",
    "    else:\n",
    "        print(f\"{first_name} {last_name} is not UNDERAGE because of age {age} -> WARD 2\")"
   ]
  },
  {
   "cell_type": "raw",
   "id": "e6cc4796",
   "metadata": {},
   "source": []
  },
  {
   "cell_type": "code",
   "execution_count": 21,
   "id": "8bf361be",
   "metadata": {},
   "outputs": [
    {
     "name": "stdout",
     "output_type": "stream",
     "text": [
      "Qasim Hassan is not UNDERAGE because of age 19 -> WARD 2\n"
     ]
    }
   ],
   "source": [
    "under_age('Qasim','Hassan',19)"
   ]
  },
  {
   "cell_type": "code",
   "execution_count": 22,
   "id": "d5b8f258",
   "metadata": {},
   "outputs": [
    {
     "ename": "SyntaxError",
     "evalue": "invalid syntax (1771139478.py, line 7)",
     "output_type": "error",
     "traceback": [
      "\u001b[1;36m  Cell \u001b[1;32mIn[22], line 7\u001b[1;36m\u001b[0m\n\u001b[1;33m    def under_age(self,self.first_name,self.last_name,self.age):\u001b[0m\n\u001b[1;37m                           ^\u001b[0m\n\u001b[1;31mSyntaxError\u001b[0m\u001b[1;31m:\u001b[0m invalid syntax\n"
     ]
    }
   ],
   "source": [
    "class patient():\n",
    "    def __init__(self, first_name, last_name, age): # always define attributes of class\n",
    "                #self use for class to handle attributes\n",
    "            self.first_name = first_name\n",
    "            self.last_name = last_name\n",
    "            self.age = age\n",
    "    def under_age(self,self.first_name,self.last_name,self.age):\n",
    "    if age < 18:\n",
    "        print(f\"{self.first_name} {self.last_name} is UNDERAGE because of age {self.age} -> WARD 1\")\n",
    "    else:\n",
    "        print(f\"{self.first_name} {self.last_name} is not UNDERAGE because of age {self.age} -> WARD 2\")"
   ]
  },
  {
   "cell_type": "code",
   "execution_count": 43,
   "id": "20292238",
   "metadata": {},
   "outputs": [],
   "source": [
    "# changing attributes"
   ]
  },
  {
   "cell_type": "code",
   "execution_count": 38,
   "id": "4e9d4de1",
   "metadata": {},
   "outputs": [],
   "source": [
    "class patient():\n",
    "    def __init__(self, first_name, last_name,age): # always define attributes of class\n",
    "                #self use for class to handle attributes\n",
    "        self.first_name = first_name\n",
    "        self.last_name = last_name\n",
    "        self.age = age\n",
    "    def under_age(self):\n",
    "        if self.age < 18:\n",
    "            print(f\"{self.first_name} {self.last_name} is UNDERAGE because of age {self.age} -> WARD 1\")\n",
    "        else:\n",
    "            print(f\"{self.first_name} {self.last_name} is not UNDERAGE because of age {self.age} -> WARD 2\")\n",
    "    def change_name(self, update_first_name):\n",
    "        self.first_name = update_first_name"
   ]
  },
  {
   "cell_type": "code",
   "execution_count": 39,
   "id": "e67d9e1c",
   "metadata": {},
   "outputs": [],
   "source": [
    "p_qasim = patient('Qasim','Hassan',19)"
   ]
  },
  {
   "cell_type": "code",
   "execution_count": 40,
   "id": "e13a3cc5",
   "metadata": {},
   "outputs": [
    {
     "name": "stdout",
     "output_type": "stream",
     "text": [
      "Qasim Hassan is not UNDERAGE because of age 19 -> WARD 2\n"
     ]
    }
   ],
   "source": [
    "p_qasim.under_age()"
   ]
  },
  {
   "cell_type": "code",
   "execution_count": 41,
   "id": "8630dee6",
   "metadata": {},
   "outputs": [],
   "source": [
    "p_qasim.change_name('Muhammad')"
   ]
  },
  {
   "cell_type": "code",
   "execution_count": 42,
   "id": "d0561fef",
   "metadata": {},
   "outputs": [
    {
     "data": {
      "text/plain": [
       "'Muhammad'"
      ]
     },
     "execution_count": 42,
     "metadata": {},
     "output_type": "execute_result"
    }
   ],
   "source": [
    "p_qasim.first_name"
   ]
  },
  {
   "cell_type": "markdown",
   "id": "45dfdccb",
   "metadata": {},
   "source": [
    "# Class Task:"
   ]
  },
  {
   "cell_type": "code",
   "execution_count": 55,
   "id": "3625f25b",
   "metadata": {},
   "outputs": [],
   "source": [
    "class cars():\n",
    "    def __init__(self, sedans,off_road,classic):\n",
    "        self.sedans = sedans\n",
    "        self.off_road = off_road\n",
    "        self.classic = classic\n",
    "    def change_types(self, update_sedans):\n",
    "        self.sedans = update_sedans\n",
    "    def other_type(self):\n",
    "        if self.sedans == 'carolla':\n",
    "            print(\"good choice\")\n",
    "        else:\n",
    "            print('Bad choice')"
   ]
  },
  {
   "cell_type": "code",
   "execution_count": 56,
   "id": "ab4eba8b",
   "metadata": {},
   "outputs": [],
   "source": [
    "car_type = cars('carolla','fortuner','mercedes')"
   ]
  },
  {
   "cell_type": "code",
   "execution_count": 57,
   "id": "6ddf6dc2",
   "metadata": {},
   "outputs": [
    {
     "data": {
      "text/plain": [
       "'carolla'"
      ]
     },
     "execution_count": 57,
     "metadata": {},
     "output_type": "execute_result"
    }
   ],
   "source": [
    "car_type.sedans"
   ]
  },
  {
   "cell_type": "code",
   "execution_count": 59,
   "id": "bdf6cb01",
   "metadata": {},
   "outputs": [
    {
     "name": "stdout",
     "output_type": "stream",
     "text": [
      "good choice\n"
     ]
    }
   ],
   "source": [
    "car_type.other_type()"
   ]
  },
  {
   "cell_type": "code",
   "execution_count": 60,
   "id": "f4a13d67",
   "metadata": {},
   "outputs": [],
   "source": [
    "car_type = cars('camery','fortuner','mercedes')"
   ]
  },
  {
   "cell_type": "code",
   "execution_count": 61,
   "id": "deb0a660",
   "metadata": {},
   "outputs": [
    {
     "data": {
      "text/plain": [
       "'camery'"
      ]
     },
     "execution_count": 61,
     "metadata": {},
     "output_type": "execute_result"
    }
   ],
   "source": [
    "car_type.sedans"
   ]
  },
  {
   "cell_type": "code",
   "execution_count": 62,
   "id": "a6adc101",
   "metadata": {},
   "outputs": [
    {
     "name": "stdout",
     "output_type": "stream",
     "text": [
      "Bad choice\n"
     ]
    }
   ],
   "source": [
    "car_type.other_type()"
   ]
  },
  {
   "cell_type": "code",
   "execution_count": 69,
   "id": "4635b565",
   "metadata": {},
   "outputs": [],
   "source": [
    "car_type.change_types('Umer')\n"
   ]
  },
  {
   "cell_type": "code",
   "execution_count": 71,
   "id": "a03bca94",
   "metadata": {},
   "outputs": [
    {
     "name": "stdout",
     "output_type": "stream",
     "text": [
      "Bad choice\n"
     ]
    }
   ],
   "source": [
    "car_type.other_type()"
   ]
  },
  {
   "cell_type": "code",
   "execution_count": null,
   "id": "a8b1248c",
   "metadata": {},
   "outputs": [],
   "source": []
  },
  {
   "cell_type": "code",
   "execution_count": null,
   "id": "13049a4c",
   "metadata": {},
   "outputs": [],
   "source": []
  }
 ],
 "metadata": {
  "kernelspec": {
   "display_name": "Python 3 (ipykernel)",
   "language": "python",
   "name": "python3"
  },
  "language_info": {
   "codemirror_mode": {
    "name": "ipython",
    "version": 3
   },
   "file_extension": ".py",
   "mimetype": "text/x-python",
   "name": "python",
   "nbconvert_exporter": "python",
   "pygments_lexer": "ipython3",
   "version": "3.11.5"
  }
 },
 "nbformat": 4,
 "nbformat_minor": 5
}
