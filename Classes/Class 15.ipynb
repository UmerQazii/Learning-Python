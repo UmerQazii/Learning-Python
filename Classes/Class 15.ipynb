{
 "cells": [
  {
   "cell_type": "code",
   "execution_count": 2,
   "id": "b3f909e3",
   "metadata": {},
   "outputs": [
    {
     "name": "stdout",
     "output_type": "stream",
     "text": [
      "[0, 4, 16]\n"
     ]
    }
   ],
   "source": [
    "even_squares = [x**2 for x in range(5) if x % 2 == 0]\n",
    "print(even_squares)"
   ]
  },
  {
   "cell_type": "code",
   "execution_count": 3,
   "id": "fa748ce8",
   "metadata": {},
   "outputs": [
    {
     "name": "stdout",
     "output_type": "stream",
     "text": [
      "Enter name:h\n",
      "Enter name:j\n",
      "Enter name:q\n"
     ]
    }
   ],
   "source": [
    "user_input = \"\"\n",
    "while user_input != \"q\":\n",
    "    user_input = input(\"Enter name:\")\n",
    "    if user_input != \"q\":\n",
    "         print(f\" Welocome {user_input}\")\n",
    "    else:\n",
    "        break"
   ]
  },
  {
   "cell_type": "markdown",
   "id": "79336b59",
   "metadata": {},
   "source": [
    "# Scenario 01: Employee Performance Evaluation\n",
    "\n",
    "In a large corporation, the HR department needs to evaluate the performance of employees based on their sales records and customer satisfaction ratings. They want to identify the top-performing employeesu based on a weighted score that combines sales performance and customer satisfaction.\n",
    "\n",
    "Hint: Use List comprehemsion & Lambda Functions\n",
    "\n",
    "# Sample data: List of tuples containing employee names, sales figures, and customer satisfaction ratings\n",
    "\n",
    "employees = [\n",
    "    (\"John\", 50000, 4.5),\n",
    "    (\"Alice\", 60000, 4.7),\n",
    "    (\"Bob\", 45000, 4.2),\n",
    "    (\"Emma\", 55000, 4.6),\n",
    "    (\"James\", 48000, 4.4)\n",
    "]\n",
    "\n",
    "# Define weights for sales performance and customer satisfaction ratings\n",
    "sales_weight = 0.6\n",
    "satisfaction_weight = 0.4"
   ]
  },
  {
   "cell_type": "code",
   "execution_count": 2,
   "id": "816937dd",
   "metadata": {},
   "outputs": [],
   "source": [
    "employees = [\n",
    "    (\"John\", 50000, 4.5),\n",
    "    (\"Alice\", 60000, 4.7),\n",
    "    (\"Bob\", 45000, 4.2),\n",
    "    (\"Emma\", 55000, 4.6),\n",
    "    (\"James\", 48000, 4.4)\n",
    "]\n",
    "sales_weight = 0.6\n",
    "satisfaction_weight = 0.4\n",
    "for name, sales, satisfaction in employees:\n",
    "    weighted_scores = [(name, sales * sales_weight + satisfaction * satisfaction_weight)]\n",
    "    print(weighted_scores)\n",
    "    \n"
   ]
  },
  {
   "cell_type": "code",
   "execution_count": 3,
   "id": "09768ff2",
   "metadata": {},
   "outputs": [
    {
     "name": "stdout",
     "output_type": "stream",
     "text": [
      "[('John', 30001.8)]\n",
      "[('Alice', 36001.88)]\n",
      "[('Bob', 27001.68)]\n",
      "[('Emma', 33001.84)]\n",
      "[('James', 28801.76)]\n"
     ]
    }
   ],
   "source": []
  },
  {
   "cell_type": "code",
   "execution_count": 53,
   "id": "3b3e35cf",
   "metadata": {},
   "outputs": [],
   "source": [
    "\n",
    "sorted"
   ]
  },
  {
   "cell_type": "code",
   "execution_count": null,
   "id": "47ce5094",
   "metadata": {},
   "outputs": [],
   "source": []
  },
  {
   "cell_type": "code",
   "execution_count": null,
   "id": "f944c30d",
   "metadata": {},
   "outputs": [],
   "source": []
  },
  {
   "cell_type": "code",
   "execution_count": null,
   "id": "ca65de57",
   "metadata": {},
   "outputs": [],
   "source": []
  },
  {
   "cell_type": "code",
   "execution_count": null,
   "id": "d78726fc",
   "metadata": {},
   "outputs": [],
   "source": []
  },
  {
   "cell_type": "markdown",
   "id": "19533bed",
   "metadata": {},
   "source": [
    "# Scenario 02: Calculating Square Roots of Even Numbers\n",
    "\n",
    "Imagine you're tasked with calculating the square roots of even numbers from 1 to 10 using list comprehension and lambda functions."
   ]
  },
  {
   "cell_type": "code",
   "execution_count": 127,
   "id": "ad9b65f8",
   "metadata": {},
   "outputs": [],
   "source": [
    "even_numss = [i for i in range(1,11) if i % 2==0]\n",
    "for i in even_numss:\n",
    "    print(i**0.5)"
   ]
  },
  {
   "cell_type": "code",
   "execution_count": 128,
   "id": "0db0b0f6",
   "metadata": {},
   "outputs": [
    {
     "name": "stdout",
     "output_type": "stream",
     "text": [
      "1.4142135623730951\n",
      "2.0\n",
      "2.449489742783178\n",
      "2.8284271247461903\n",
      "3.1622776601683795\n"
     ]
    }
   ],
   "source": [
    "for i in even_numss:\n",
    "    print(i**0.5)\n",
    "    \n",
    "    "
   ]
  },
  {
   "cell_type": "code",
   "execution_count": null,
   "id": "cd26a734",
   "metadata": {},
   "outputs": [],
   "source": []
  },
  {
   "cell_type": "code",
   "execution_count": null,
   "id": "e63d9b10",
   "metadata": {},
   "outputs": [],
   "source": []
  },
  {
   "cell_type": "code",
   "execution_count": null,
   "id": "df249bd1",
   "metadata": {},
   "outputs": [],
   "source": []
  },
  {
   "cell_type": "code",
   "execution_count": null,
   "id": "f7568e92",
   "metadata": {},
   "outputs": [],
   "source": []
  },
  {
   "cell_type": "code",
   "execution_count": null,
   "id": "2df529cb",
   "metadata": {},
   "outputs": [],
   "source": []
  },
  {
   "cell_type": "code",
   "execution_count": null,
   "id": "5b81036c",
   "metadata": {},
   "outputs": [],
   "source": []
  },
  {
   "cell_type": "code",
   "execution_count": null,
   "id": "8e5248d9",
   "metadata": {},
   "outputs": [],
   "source": []
  },
  {
   "cell_type": "code",
   "execution_count": null,
   "id": "34182610",
   "metadata": {},
   "outputs": [],
   "source": []
  },
  {
   "cell_type": "code",
   "execution_count": null,
   "id": "f78067f6",
   "metadata": {},
   "outputs": [],
   "source": []
  },
  {
   "cell_type": "code",
   "execution_count": null,
   "id": "5df2f980",
   "metadata": {},
   "outputs": [],
   "source": []
  }
 ],
 "metadata": {
  "kernelspec": {
   "display_name": "Python 3 (ipykernel)",
   "language": "python",
   "name": "python3"
  },
  "language_info": {
   "codemirror_mode": {
    "name": "ipython",
    "version": 3
   },
   "file_extension": ".py",
   "mimetype": "text/x-python",
   "name": "python",
   "nbconvert_exporter": "python",
   "pygments_lexer": "ipython3",
   "version": "3.11.5"
  }
 },
 "nbformat": 4,
 "nbformat_minor": 5
}
