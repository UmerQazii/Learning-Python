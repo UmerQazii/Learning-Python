{
 "cells": [
  {
   "cell_type": "code",
   "execution_count": 1,
   "id": "9a64caa0",
   "metadata": {},
   "outputs": [
    {
     "name": "stdout",
     "output_type": "stream",
     "text": [
      "2022 Toyota Camry has 4 wheels.\n",
      "The 2022 Toyota Camry's engine is now running.\n",
      "The 2022 Toyota Camry's engine is now stopped.\n",
      "2023 Honda Civic has 4 wheels.\n",
      "The 2023 Honda Civic's engine is now running.\n"
     ]
    }
   ],
   "source": [
    "# Define a class named 'Car'\n",
    "class Car:\n",
    "    # Class attribute\n",
    "    wheels = 4\n",
    "\n",
    "    # Constructor method (initialize object)\n",
    "    def __init__(self, make, model, year):\n",
    "        # Instance attributes\n",
    "        self.make = make\n",
    "        self.model = model\n",
    "        self.year = year\n",
    "        self.is_running = False\n",
    "\n",
    "    # Instance method\n",
    "    def start_engine(self):\n",
    "        if not self.is_running:\n",
    "            print(f\"The {self.year} {self.make} {self.model}'s engine is now running.\")\n",
    "            self.is_running = True\n",
    "        else:\n",
    "            print(\"The engine is already running.\")\n",
    "\n",
    "    # Instance method\n",
    "    def stop_engine(self):\n",
    "        if self.is_running:\n",
    "            print(f\"The {self.year} {self.make} {self.model}'s engine is now stopped.\")\n",
    "            self.is_running = False\n",
    "        else:\n",
    "            print(\"The engine is already stopped.\")\n",
    "\n",
    "# Creating instances of the 'Car' class\n",
    "car1 = Car(\"Toyota\", \"Camry\", 2022)\n",
    "car2 = Car(\"Honda\", \"Civic\", 2023)\n",
    "\n",
    "# Accessing attributes and calling methods\n",
    "print(f\"{car1.year} {car1.make} {car1.model} has {car1.wheels} wheels.\")\n",
    "car1.start_engine()\n",
    "car1.stop_engine()\n",
    "\n",
    "print(f\"{car2.year} {car2.make} {car2.model} has {car2.wheels} wheels.\")\n",
    "car2.start_engine()"
   ]
  },
  {
   "cell_type": "code",
   "execution_count": null,
   "id": "65db4e6c",
   "metadata": {},
   "outputs": [],
   "source": []
  },
  {
   "cell_type": "code",
   "execution_count": 2,
   "id": "3b6fd0bc",
   "metadata": {},
   "outputs": [
    {
     "name": "stdout",
     "output_type": "stream",
     "text": [
      "2022 Toyota Camry\n",
      "Engine started!\n",
      "Engine stopped.\n",
      "2023 Honda Civic\n",
      "Engine started!\n"
     ]
    }
   ],
   "source": [
    "# Define a simple Car class\n",
    "class Car:\n",
    "    # Constructor method (initialize object)\n",
    "    def __init__(self, make, model, year):\n",
    "        # Attributes\n",
    "        self.make = make\n",
    "        self.model = model\n",
    "        self.year = year\n",
    "        self.is_running = False\n",
    "\n",
    "    # Method to start the car's engine\n",
    "    def start_engine(self):\n",
    "        if not self.is_running:\n",
    "            print(\"Engine started!\")\n",
    "            self.is_running = True\n",
    "        else:\n",
    "            print(\"The engine is already running.\")\n",
    "\n",
    "    # Method to stop the car's engine\n",
    "    def stop_engine(self):\n",
    "        if self.is_running:\n",
    "            print(\"Engine stopped.\")\n",
    "            self.is_running = False\n",
    "        else:\n",
    "            print(\"The engine is already stopped.\")\n",
    "\n",
    "# Create two car objects\n",
    "car1 = Car(\"Toyota\", \"Camry\", 2022)\n",
    "car2 = Car(\"Honda\", \"Civic\", 2023)\n",
    "\n",
    "# Access attributes and call methods\n",
    "print(f\"{car1.year} {car1.make} {car1.model}\")\n",
    "car1.start_engine()\n",
    "car1.stop_engine()\n",
    "\n",
    "print(f\"{car2.year} {car2.make} {car2.model}\")\n",
    "car2.start_engine()"
   ]
  },
  {
   "cell_type": "code",
   "execution_count": 6,
   "id": "347dc514",
   "metadata": {},
   "outputs": [
    {
     "name": "stdout",
     "output_type": "stream",
     "text": [
      "Admitting John Doe to City General Hospital.\n",
      "Admitting Jane Smith to City General Hospital.\n",
      "Discharging Jane Smith from City General Hospital.\n",
      "Admitting Bob Johnson to City General Hospital.\n",
      "Admitting Alice Brown to City General Hospital.\n"
     ]
    }
   ],
   "source": [
    "class Hospital:\n",
    "    def __init__(self, name, capacity):\n",
    "        self.name = name\n",
    "        self.capacity = capacity\n",
    "        self.patients = []\n",
    "\n",
    "    def admit_patient(self, patient_name):\n",
    "        if len(self.patients) < self.capacity:\n",
    "            print(f\"Admitting {patient_name} to {self.name}.\")\n",
    "            self.patients.append(patient_name)\n",
    "        else:\n",
    "            print(f\"Sorry, {self.name} is at full capacity. Cannot admit {patient_name}.\")\n",
    "\n",
    "    def discharge_patient(self, patient_name):\n",
    "        if patient_name in self.patients:\n",
    "            print(f\"Discharging {patient_name} from {self.name}.\")\n",
    "            self.patients.remove(patient_name)\n",
    "        else:\n",
    "            print(f\"{patient_name} is not a patient at {self.name}.\")\n",
    "\n",
    "# Creating a hospital object\n",
    "hospital1 = Hospital(\"City General Hospital\", capacity=100)\n",
    "\n",
    "# Admitting and discharging patients\n",
    "hospital1.admit_patient(\"John Doe\")\n",
    "hospital1.admit_patient(\"Jane Smith\")\n",
    "\n",
    "hospital1.discharge_patient(\"Jane Smith\")\n",
    "hospital1.admit_patient(\"Bob Johnson\")\n",
    "hospital1.admit_patient(\"Alice Brown\")"
   ]
  },
  {
   "cell_type": "code",
   "execution_count": 7,
   "id": "bbdfec89",
   "metadata": {},
   "outputs": [
    {
     "ename": "SyntaxError",
     "evalue": "expected ':' (1397103945.py, line 5)",
     "output_type": "error",
     "traceback": [
      "\u001b[1;36m  Cell \u001b[1;32mIn[7], line 5\u001b[1;36m\u001b[0m\n\u001b[1;33m    def is_present()\u001b[0m\n\u001b[1;37m                     ^\u001b[0m\n\u001b[1;31mSyntaxError\u001b[0m\u001b[1;31m:\u001b[0m expected ':'\n"
     ]
    }
   ],
   "source": [
    "class students():\n",
    "    def __init__(self,student_name, class_ ):\n",
    "        self.student_name = student_name\n",
    "        self.class_ = class_\n",
    "    def is_present() "
   ]
  },
  {
   "cell_type": "code",
   "execution_count": null,
   "id": "bb8f53e8",
   "metadata": {},
   "outputs": [],
   "source": [
    "_"
   ]
  }
 ],
 "metadata": {
  "kernelspec": {
   "display_name": "Python 3 (ipykernel)",
   "language": "python",
   "name": "python3"
  },
  "language_info": {
   "codemirror_mode": {
    "name": "ipython",
    "version": 3
   },
   "file_extension": ".py",
   "mimetype": "text/x-python",
   "name": "python",
   "nbconvert_exporter": "python",
   "pygments_lexer": "ipython3",
   "version": "3.11.5"
  }
 },
 "nbformat": 4,
 "nbformat_minor": 5
}
