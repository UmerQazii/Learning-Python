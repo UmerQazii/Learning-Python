{
 "cells": [
  {
   "cell_type": "markdown",
   "id": "c724b379",
   "metadata": {},
   "source": [
    "# 1. For Loops :"
   ]
  },
  {
   "cell_type": "code",
   "execution_count": null,
   "id": "e34a2cf0",
   "metadata": {},
   "outputs": [],
   "source": [
    "# for loop class:\n",
    "#    https://www.youtube.com/watch?v=B0nvl1TQOnU&t=2458s\n",
    "# 1:03:24"
   ]
  },
  {
   "cell_type": "code",
   "execution_count": 2,
   "id": "4cfd74f5",
   "metadata": {},
   "outputs": [],
   "source": [
    "countries = ['Korea',\n",
    "            'China',\n",
    "            'Bangladesh',\n",
    "            'Pakistan',\n",
    "            'India',\n",
    "            'Kwait']"
   ]
  },
  {
   "cell_type": "code",
   "execution_count": 6,
   "id": "5168ab2a",
   "metadata": {},
   "outputs": [
    {
     "name": "stdout",
     "output_type": "stream",
     "text": [
      "NOT\n"
     ]
    }
   ],
   "source": [
    "searching_country = 'Pakistan'\n",
    "if searching_country == countries[0]:\n",
    "    print('Yes!')\n",
    "else:\n",
    "    print('NOT')"
   ]
  },
  {
   "cell_type": "code",
   "execution_count": 7,
   "id": "a3ae5195",
   "metadata": {},
   "outputs": [
    {
     "name": "stdout",
     "output_type": "stream",
     "text": [
      "Korea\n",
      "China\n",
      "Bangladesh\n",
      "Pakistan\n",
      "India\n",
      "Kwait\n"
     ]
    }
   ],
   "source": [
    "for temp in countries:\n",
    "    print(temp)"
   ]
  },
  {
   "cell_type": "code",
   "execution_count": null,
   "id": "fd9a2f5b",
   "metadata": {},
   "outputs": [],
   "source": [
    "year = int(input('Enter a year :'))\n",
    "if (year % 4 == 0) and (year% 100 == 0) or (year % 400 == 0):\n",
    "    print(f\"{year} is a leap year\")\n",
    "else:\n",
    "    print(f\"{year}is not a leap year\" )"
   ]
  },
  {
   "cell_type": "code",
   "execution_count": 1,
   "id": "400f977c",
   "metadata": {},
   "outputs": [
    {
     "name": "stdout",
     "output_type": "stream",
     "text": [
      "1600 is a leap year\n",
      "1678is not a leap year\n",
      "1700 is a leap year\n",
      "1777is not a leap year\n"
     ]
    }
   ],
   "source": [
    "for year in [1600,1678,1700,1777]:\n",
    "    if (year % 4 == 0) and (year% 100 == 0) or (year % 400 == 0):\n",
    "        print(f\"{year} is a leap year\")\n",
    "    else:\n",
    "        print(f\"{year}is not a leap year\" )"
   ]
  },
  {
   "cell_type": "code",
   "execution_count": 3,
   "id": "85bf9f00",
   "metadata": {},
   "outputs": [
    {
     "data": {
      "text/plain": [
       "['Korea', 'China', 'Bangladesh', 'Pakistan', 'India', 'Kwait']"
      ]
     },
     "execution_count": 3,
     "metadata": {},
     "output_type": "execute_result"
    }
   ],
   "source": [
    "countries"
   ]
  },
  {
   "cell_type": "code",
   "execution_count": 4,
   "id": "c3433285",
   "metadata": {},
   "outputs": [
    {
     "name": "stdout",
     "output_type": "stream",
     "text": [
      "NOt Found\n",
      "NOt Found\n",
      "NOt Found\n",
      "Pakistan Zindabad\n",
      "NOt Found\n",
      "NOt Found\n"
     ]
    }
   ],
   "source": [
    "for country in countries:\n",
    "    if country == 'Pakistan':\n",
    "       print(\"Pakistan Zindabad\")\n",
    "    else:\n",
    "        print('NOt Found')"
   ]
  },
  {
   "cell_type": "markdown",
   "id": "d0735a7c",
   "metadata": {},
   "source": [
    "###  Range:"
   ]
  },
  {
   "cell_type": "code",
   "execution_count": 5,
   "id": "e0811731",
   "metadata": {},
   "outputs": [],
   "source": [
    "# Range is a generator type function"
   ]
  },
  {
   "cell_type": "code",
   "execution_count": null,
   "id": "272c83d4",
   "metadata": {},
   "outputs": [],
   "source": [
    "range (1-9) 1,2,3....\n",
    "# range ka function value dene k bad yaad rkhta hai...\n",
    "1,2,3......"
   ]
  },
  {
   "cell_type": "code",
   "execution_count": 9,
   "id": "d65cd2c9",
   "metadata": {},
   "outputs": [
    {
     "data": {
      "text/plain": [
       "range(0, 10)"
      ]
     },
     "execution_count": 9,
     "metadata": {},
     "output_type": "execute_result"
    }
   ],
   "source": [
    "range(10)"
   ]
  },
  {
   "cell_type": "code",
   "execution_count": 8,
   "id": "88e87bd7",
   "metadata": {},
   "outputs": [
    {
     "name": "stdout",
     "output_type": "stream",
     "text": [
      "0\n",
      "1\n",
      "2\n",
      "3\n",
      "4\n",
      "5\n",
      "6\n",
      "7\n",
      "8\n",
      "9\n"
     ]
    }
   ],
   "source": [
    "for temp in range(10):\n",
    "    print(temp)"
   ]
  },
  {
   "cell_type": "code",
   "execution_count": 15,
   "id": "0d75f8f7",
   "metadata": {},
   "outputs": [
    {
     "name": "stdout",
     "output_type": "stream",
     "text": [
      "10\n",
      "12\n",
      "14\n",
      "16\n",
      "18\n"
     ]
    }
   ],
   "source": [
    "#range(start , end , steps\n",
    "for i in range(10 , 20, 2):\n",
    "    print(i)"
   ]
  },
  {
   "cell_type": "code",
   "execution_count": 21,
   "id": "8bd46025",
   "metadata": {},
   "outputs": [],
   "source": [
    "cleanest_cities = [\"Cheyenne\",\n",
    "                    \"Santa Fe\",\n",
    "                    \"Tucson\",\n",
    "                    \"Great Falls\",\n",
    "                    \"Honolulu\"]"
   ]
  },
  {
   "cell_type": "code",
   "execution_count": 25,
   "id": "be4bf66c",
   "metadata": {},
   "outputs": [
    {
     "name": "stdout",
     "output_type": "stream",
     "text": [
      "Not Available\n"
     ]
    }
   ],
   "source": [
    "city_to_check = \"china\"\n",
    "if city_to_check == cleanest_cities[0]:\n",
    "    print(\"It's one of the cleanest cities\")\n",
    "elif city_to_check == cleanest_cities[1]:\n",
    "    print(\"It's one of the cleanest cities\")\n",
    "elif city_to_check == cleanest_cities[2]:\n",
    "    print(\"It's one of the cleanest cities\")\n",
    "elif city_to_check == cleanest_cities[3]:\n",
    "    print(\"It's one of the cleanest cities\")\n",
    "elif city_to_check == cleanest_cities[4]:\n",
    "    print(\"It's one of the cleanest cities\")\n",
    "else:\n",
    "    print('Not Available')"
   ]
  },
  {
   "cell_type": "code",
   "execution_count": 28,
   "id": "48190af8",
   "metadata": {},
   "outputs": [
    {
     "name": "stdout",
     "output_type": "stream",
     "text": [
      "It's one of the cleanest cities\n"
     ]
    }
   ],
   "source": [
    "city_to_check = 'Tucson'\n",
    "for a_clean_city in cleanest_cities:\n",
    "    if city_to_check == a_clean_city:\n",
    "        print(\"It's one of the cleanest cities\")"
   ]
  },
  {
   "cell_type": "code",
   "execution_count": null,
   "id": "a90dba43",
   "metadata": {},
   "outputs": [],
   "source": [
    "# for (koi bhi temporary variable) in (kahan check krna hai )  :\n",
    "  for           x                  in           y              :"
   ]
  },
  {
   "cell_type": "markdown",
   "id": "f33d1b4b",
   "metadata": {},
   "source": [
    "## class9 Loops, Nested Loops, User input & String formatting:"
   ]
  },
  {
   "cell_type": "code",
   "execution_count": 8,
   "id": "7282b8c0",
   "metadata": {},
   "outputs": [],
   "source": [
    "list1 = ['Cat','Banana','dog','apple']"
   ]
  },
  {
   "cell_type": "code",
   "execution_count": 12,
   "id": "b3092523",
   "metadata": {},
   "outputs": [],
   "source": [
    "list1.sort()"
   ]
  },
  {
   "cell_type": "code",
   "execution_count": 13,
   "id": "4a1301b6",
   "metadata": {},
   "outputs": [
    {
     "data": {
      "text/plain": [
       "['Banana', 'Cat', 'apple', 'dog']"
      ]
     },
     "execution_count": 13,
     "metadata": {},
     "output_type": "execute_result"
    }
   ],
   "source": [
    "list1"
   ]
  },
  {
   "cell_type": "code",
   "execution_count": 19,
   "id": "3e4dbe83",
   "metadata": {},
   "outputs": [
    {
     "data": {
      "text/plain": [
       "['Banana', 'Cat', 'apple', 'dog']"
      ]
     },
     "execution_count": 19,
     "metadata": {},
     "output_type": "execute_result"
    }
   ],
   "source": [
    "list1"
   ]
  },
  {
   "cell_type": "code",
   "execution_count": 23,
   "id": "ca2b607c",
   "metadata": {},
   "outputs": [],
   "source": [
    "list1.append(\"cup\")"
   ]
  },
  {
   "cell_type": "code",
   "execution_count": 24,
   "id": "1ef1b35e",
   "metadata": {},
   "outputs": [
    {
     "data": {
      "text/plain": [
       "['Banana', 'Cat', 'apple', 'dog', 'cup']"
      ]
     },
     "execution_count": 24,
     "metadata": {},
     "output_type": "execute_result"
    }
   ],
   "source": [
    "list1"
   ]
  },
  {
   "cell_type": "code",
   "execution_count": null,
   "id": "700a6cc4",
   "metadata": {},
   "outputs": [],
   "source": []
  },
  {
   "cell_type": "code",
   "execution_count": 14,
   "id": "bf2d4f88",
   "metadata": {},
   "outputs": [],
   "source": [
    "list2 = list1.copy()"
   ]
  },
  {
   "cell_type": "code",
   "execution_count": 15,
   "id": "00088681",
   "metadata": {},
   "outputs": [
    {
     "data": {
      "text/plain": [
       "['Banana', 'Cat', 'apple', 'dog']"
      ]
     },
     "execution_count": 15,
     "metadata": {},
     "output_type": "execute_result"
    }
   ],
   "source": [
    "list2"
   ]
  },
  {
   "cell_type": "code",
   "execution_count": 16,
   "id": "e07517fb",
   "metadata": {},
   "outputs": [
    {
     "data": {
      "text/plain": [
       "1581853564736"
      ]
     },
     "execution_count": 16,
     "metadata": {},
     "output_type": "execute_result"
    }
   ],
   "source": [
    "id(list1)"
   ]
  },
  {
   "cell_type": "code",
   "execution_count": 17,
   "id": "eb68b0bd",
   "metadata": {},
   "outputs": [
    {
     "data": {
      "text/plain": [
       "1581853556032"
      ]
     },
     "execution_count": 17,
     "metadata": {},
     "output_type": "execute_result"
    }
   ],
   "source": [
    "id(list2)"
   ]
  },
  {
   "cell_type": "markdown",
   "id": "2ce385bc",
   "metadata": {},
   "source": [
    "### 1. Break: keyword:"
   ]
  },
  {
   "cell_type": "markdown",
   "id": "9ca3098e",
   "metadata": {},
   "source": [
    "###### Now using for loop without BREAK function:"
   ]
  },
  {
   "cell_type": "code",
   "execution_count": 28,
   "id": "e3b09647",
   "metadata": {},
   "outputs": [
    {
     "name": "stdout",
     "output_type": "stream",
     "text": [
      "Not Found\n",
      "Not Found\n",
      "Not Found\n",
      "found dog in list->1\n",
      "Not Found\n"
     ]
    }
   ],
   "source": [
    "# for loop-->variable name-->in-->from where\n",
    "for temp_var in list1:\n",
    "    if temp_var == 'dog':\n",
    "        print(f\"found {temp_var} in list->1\")\n",
    "    else:\n",
    "        print('Not Found')"
   ]
  },
  {
   "cell_type": "markdown",
   "id": "88aadcae",
   "metadata": {},
   "source": [
    "###### break is a keywork used to stop loop cycle:"
   ]
  },
  {
   "cell_type": "code",
   "execution_count": 29,
   "id": "904cefed",
   "metadata": {},
   "outputs": [
    {
     "name": "stdout",
     "output_type": "stream",
     "text": [
      "Not Found\n",
      "Not Found\n",
      "Not Found\n",
      "found dog in list->1\n"
     ]
    }
   ],
   "source": [
    "# for loop-->variable name-->in-->from where\n",
    "for temp_var in list1:\n",
    "    if temp_var == 'dog':\n",
    "        print(f\"found {temp_var} in list->1\")\n",
    "        break\n",
    "    else:\n",
    "        print('Not Found')"
   ]
  },
  {
   "cell_type": "markdown",
   "id": "5697e859",
   "metadata": {},
   "source": [
    "### 2.CONTINUE : key word:"
   ]
  },
  {
   "cell_type": "code",
   "execution_count": 30,
   "id": "80dbe927",
   "metadata": {},
   "outputs": [
    {
     "name": "stdout",
     "output_type": "stream",
     "text": [
      "Not Found\n",
      "Not Found\n",
      "Not Found\n",
      "Not Found\n"
     ]
    }
   ],
   "source": [
    "# for loop-->variable name-->in-->from where\n",
    "for temp_var in list1:\n",
    "    if temp_var == 'dog':\n",
    "        continue\n",
    "        print(f\"found {temp_var} in list->1\")\n",
    "    else:\n",
    "        print('Not Found')"
   ]
  },
  {
   "cell_type": "markdown",
   "id": "87b02f47",
   "metadata": {},
   "source": [
    "### 3.Advance for loop:"
   ]
  },
  {
   "cell_type": "code",
   "execution_count": 31,
   "id": "e42fc57c",
   "metadata": {},
   "outputs": [
    {
     "name": "stdout",
     "output_type": "stream",
     "text": [
      "0\n",
      "1\n",
      "2\n",
      "3\n",
      "4\n",
      "5\n",
      "6\n",
      "7\n",
      "8\n",
      "9\n"
     ]
    }
   ],
   "source": [
    "for temp in range(10):\n",
    "    print(temp)"
   ]
  },
  {
   "cell_type": "code",
   "execution_count": 32,
   "id": "dbc772dd",
   "metadata": {},
   "outputs": [
    {
     "name": "stdout",
     "output_type": "stream",
     "text": [
      "1\n",
      "2\n",
      "3\n",
      "4\n",
      "5\n",
      "6\n",
      "7\n",
      "8\n",
      "9\n",
      "10\n"
     ]
    }
   ],
   "source": [
    "for temp in range(1 , 11):\n",
    "    print(temp)"
   ]
  },
  {
   "cell_type": "code",
   "execution_count": 35,
   "id": "6278a739",
   "metadata": {},
   "outputs": [
    {
     "name": "stdout",
     "output_type": "stream",
     "text": [
      "2 x 1 = 2\n",
      "2 x 2 = 4\n",
      "2 x 3 = 6\n",
      "2 x 4 = 8\n",
      "2 x 5 = 10\n",
      "2 x 6 = 12\n",
      "2 x 7 = 14\n",
      "2 x 8 = 16\n",
      "2 x 9 = 18\n",
      "2 x 10 = 20\n"
     ]
    }
   ],
   "source": [
    "for temp in range(1,11):\n",
    "    print(f\"2 x {temp} = {temp * 2}\")"
   ]
  },
  {
   "cell_type": "code",
   "execution_count": 39,
   "id": "8b0e4c0e",
   "metadata": {},
   "outputs": [
    {
     "name": "stdout",
     "output_type": "stream",
     "text": [
      " 3 X 1 = 3 \n",
      " 3 X 2 = 6 \n",
      " 3 X 3 = 9 \n",
      " 3 X 4 = 12 \n",
      " 3 X 5 = 15 \n",
      " 3 X 6 = 18 \n",
      " 3 X 7 = 21 \n",
      " 3 X 8 = 24 \n",
      " 3 X 9 = 27 \n",
      " 3 X 10 = 30 \n",
      " 3 X 11 = 33 \n",
      " 3 X 12 = 36 \n",
      " 3 X 13 = 39 \n",
      " 3 X 14 = 42 \n",
      " 3 X 15 = 45 \n",
      " 3 X 16 = 48 \n",
      " 3 X 17 = 51 \n",
      " 3 X 18 = 54 \n",
      " 3 X 19 = 57 \n",
      " 3 X 20 = 60 \n"
     ]
    }
   ],
   "source": [
    "for i in range(1 ,21):\n",
    "    print(f\" 3 X {i} = {i * 3} \")"
   ]
  },
  {
   "cell_type": "code",
   "execution_count": 44,
   "id": "ff02bca6",
   "metadata": {},
   "outputs": [
    {
     "name": "stdout",
     "output_type": "stream",
     "text": [
      "2\n",
      "4\n",
      "6\n",
      "8\n",
      "10\n",
      "12\n",
      "14\n",
      "16\n",
      "18\n",
      "20\n"
     ]
    }
   ],
   "source": [
    "# EVEN Numbers:\n",
    "for even in range(2,21,2):\n",
    "    print(even)"
   ]
  },
  {
   "cell_type": "code",
   "execution_count": 46,
   "id": "de49aef5",
   "metadata": {},
   "outputs": [
    {
     "name": "stdout",
     "output_type": "stream",
     "text": [
      "1\n",
      "3\n",
      "5\n",
      "7\n",
      "9\n",
      "11\n",
      "13\n",
      "15\n",
      "17\n",
      "19\n"
     ]
    }
   ],
   "source": [
    "# ODD Numbers:\n",
    "for odd in range(1,21,2):\n",
    "    print(odd)"
   ]
  },
  {
   "cell_type": "markdown",
   "id": "240f38da",
   "metadata": {},
   "source": [
    "## 4. Nested For loops:\n"
   ]
  },
  {
   "cell_type": "code",
   "execution_count": 66,
   "id": "136e16ff",
   "metadata": {},
   "outputs": [
    {
     "name": "stdout",
     "output_type": "stream",
     "text": [
      "--------Table of : 2--------\n",
      "\t2 X 1 = 2\n",
      "\t2 X 2 = 4\n",
      "\t2 X 3 = 6\n",
      "\t2 X 4 = 8\n",
      "\t2 X 5 = 10\n",
      "\t2 X 6 = 12\n",
      "\t2 X 7 = 14\n",
      "\t2 X 8 = 16\n",
      "\t2 X 9 = 18\n",
      "\t2 X 10 = 20\n",
      "--------Table of : 3--------\n",
      "\t3 X 1 = 3\n",
      "\t3 X 2 = 6\n",
      "\t3 X 3 = 9\n",
      "\t3 X 4 = 12\n",
      "\t3 X 5 = 15\n",
      "\t3 X 6 = 18\n",
      "\t3 X 7 = 21\n",
      "\t3 X 8 = 24\n",
      "\t3 X 9 = 27\n",
      "\t3 X 10 = 30\n",
      "--------Table of : 4--------\n",
      "\t4 X 1 = 4\n",
      "\t4 X 2 = 8\n",
      "\t4 X 3 = 12\n",
      "\t4 X 4 = 16\n",
      "\t4 X 5 = 20\n",
      "\t4 X 6 = 24\n",
      "\t4 X 7 = 28\n",
      "\t4 X 8 = 32\n",
      "\t4 X 9 = 36\n",
      "\t4 X 10 = 40\n",
      "--------Table of : 5--------\n",
      "\t5 X 1 = 5\n",
      "\t5 X 2 = 10\n",
      "\t5 X 3 = 15\n",
      "\t5 X 4 = 20\n",
      "\t5 X 5 = 25\n",
      "\t5 X 6 = 30\n",
      "\t5 X 7 = 35\n",
      "\t5 X 8 = 40\n",
      "\t5 X 9 = 45\n",
      "\t5 X 10 = 50\n"
     ]
    }
   ],
   "source": [
    "for temp in range(2,6):\n",
    "    print(f\"--------Table of : {temp}--------\")\n",
    "    for temp1 in range(1,11):\n",
    "        print(f\"\\t{temp} X {temp1} = {temp * temp1}\")"
   ]
  },
  {
   "cell_type": "code",
   "execution_count": 63,
   "id": "df4e3efd",
   "metadata": {},
   "outputs": [
    {
     "name": "stdout",
     "output_type": "stream",
     "text": [
      "Table of :5\n",
      "5 X 1 = 5\n",
      "5 X 2 = 10\n",
      "5 X 3 = 15\n",
      "5 X 4 = 20\n",
      "5 X 5 = 25\n",
      "5 X 6 = 30\n",
      "5 X 7 = 35\n",
      "5 X 8 = 40\n",
      "5 X 9 = 45\n",
      "5 X 10 = 50\n",
      "Table of :6\n",
      "6 X 1 = 6\n",
      "6 X 2 = 12\n",
      "6 X 3 = 18\n",
      "6 X 4 = 24\n",
      "6 X 5 = 30\n",
      "6 X 6 = 36\n",
      "6 X 7 = 42\n",
      "6 X 8 = 48\n",
      "6 X 9 = 54\n",
      "6 X 10 = 60\n",
      "Table of :7\n",
      "7 X 1 = 7\n",
      "7 X 2 = 14\n",
      "7 X 3 = 21\n",
      "7 X 4 = 28\n",
      "7 X 5 = 35\n",
      "7 X 6 = 42\n",
      "7 X 7 = 49\n",
      "7 X 8 = 56\n",
      "7 X 9 = 63\n",
      "7 X 10 = 70\n",
      "Table of :8\n",
      "8 X 1 = 8\n",
      "8 X 2 = 16\n",
      "8 X 3 = 24\n",
      "8 X 4 = 32\n",
      "8 X 5 = 40\n",
      "8 X 6 = 48\n",
      "8 X 7 = 56\n",
      "8 X 8 = 64\n",
      "8 X 9 = 72\n",
      "8 X 10 = 80\n",
      "Table of :9\n",
      "9 X 1 = 9\n",
      "9 X 2 = 18\n",
      "9 X 3 = 27\n",
      "9 X 4 = 36\n",
      "9 X 5 = 45\n",
      "9 X 6 = 54\n",
      "9 X 7 = 63\n",
      "9 X 8 = 72\n",
      "9 X 9 = 81\n",
      "9 X 10 = 90\n",
      "Table of :10\n",
      "10 X 1 = 10\n",
      "10 X 2 = 20\n",
      "10 X 3 = 30\n",
      "10 X 4 = 40\n",
      "10 X 5 = 50\n",
      "10 X 6 = 60\n",
      "10 X 7 = 70\n",
      "10 X 8 = 80\n",
      "10 X 9 = 90\n",
      "10 X 10 = 100\n"
     ]
    }
   ],
   "source": [
    "for table in range(5,11):\n",
    "    print(f\"Table of :{table}\")\n",
    "    for product in range(1, 11):\n",
    "        print(f\"{table} X {product} = {table*product}\")"
   ]
  },
  {
   "cell_type": "code",
   "execution_count": 68,
   "id": "38698174",
   "metadata": {},
   "outputs": [
    {
     "data": {
      "text/plain": [
       "'CAT'"
      ]
     },
     "execution_count": 68,
     "metadata": {},
     "output_type": "execute_result"
    }
   ],
   "source": [
    "'Cat'.upper()"
   ]
  },
  {
   "cell_type": "code",
   "execution_count": 67,
   "id": "1233c22a",
   "metadata": {},
   "outputs": [
    {
     "data": {
      "text/plain": [
       "['Banana', 'Cat', 'apple', 'dog', 'cup']"
      ]
     },
     "execution_count": 67,
     "metadata": {},
     "output_type": "execute_result"
    }
   ],
   "source": [
    "list1"
   ]
  },
  {
   "cell_type": "markdown",
   "id": "7c27c478",
   "metadata": {},
   "source": [
    "##### TASK: aik list main se values call kr k un ko upper case main convert kr k aik new list main save kra ni hai jis ka naam list_upper hoga :"
   ]
  },
  {
   "cell_type": "code",
   "execution_count": 75,
   "id": "2abaeb1b",
   "metadata": {},
   "outputs": [],
   "source": [
    "list_upper =[]\n",
    "for item in list1:\n",
    "     list_upper.append(item.upper())"
   ]
  },
  {
   "cell_type": "code",
   "execution_count": 76,
   "id": "e7cfdf8f",
   "metadata": {},
   "outputs": [
    {
     "data": {
      "text/plain": [
       "['BANANA', 'CAT', 'APPLE', 'DOG', 'CUP']"
      ]
     },
     "execution_count": 76,
     "metadata": {},
     "output_type": "execute_result"
    }
   ],
   "source": [
    "list_upper"
   ]
  },
  {
   "cell_type": "markdown",
   "id": "ac6e9ab4",
   "metadata": {},
   "source": [
    "##### TASK: aik list main se values call kr k un ko lower case main convert kr k aik new list main save kra ni hai jis ka naam list_lower hoga :"
   ]
  },
  {
   "cell_type": "code",
   "execution_count": 77,
   "id": "f7fe4e74",
   "metadata": {},
   "outputs": [
    {
     "data": {
      "text/plain": [
       "['BANANA', 'CAT', 'APPLE', 'DOG', 'CUP']"
      ]
     },
     "execution_count": 77,
     "metadata": {},
     "output_type": "execute_result"
    }
   ],
   "source": [
    "list_upper"
   ]
  },
  {
   "cell_type": "code",
   "execution_count": 78,
   "id": "5cfd3f4e",
   "metadata": {},
   "outputs": [],
   "source": [
    "list_lower = []"
   ]
  },
  {
   "cell_type": "code",
   "execution_count": 79,
   "id": "4b419090",
   "metadata": {},
   "outputs": [],
   "source": [
    "for items in list_upper:\n",
    "    list_lower.append(items.lower())"
   ]
  },
  {
   "cell_type": "code",
   "execution_count": 80,
   "id": "3f893eca",
   "metadata": {},
   "outputs": [
    {
     "data": {
      "text/plain": [
       "['banana', 'cat', 'apple', 'dog', 'cup']"
      ]
     },
     "execution_count": 80,
     "metadata": {},
     "output_type": "execute_result"
    }
   ],
   "source": [
    "list_lower"
   ]
  },
  {
   "cell_type": "code",
   "execution_count": 81,
   "id": "8b48e3bc",
   "metadata": {},
   "outputs": [],
   "source": [
    "list_title =[]"
   ]
  },
  {
   "cell_type": "code",
   "execution_count": 82,
   "id": "2baed5df",
   "metadata": {},
   "outputs": [],
   "source": [
    "for item in list_lower:\n",
    "    list_title.append(item.title())"
   ]
  },
  {
   "cell_type": "code",
   "execution_count": 83,
   "id": "0081a1a1",
   "metadata": {},
   "outputs": [
    {
     "data": {
      "text/plain": [
       "['Banana', 'Cat', 'Apple', 'Dog', 'Cup']"
      ]
     },
     "execution_count": 83,
     "metadata": {},
     "output_type": "execute_result"
    }
   ],
   "source": [
    "list_title"
   ]
  },
  {
   "cell_type": "code",
   "execution_count": 93,
   "id": "d9347ef2",
   "metadata": {},
   "outputs": [],
   "source": [
    "first_names = [\"BlueRay \",\n",
    "               \"Upchuck \",\n",
    "               \"Lojack \",\n",
    "               \"Gizmo \",\n",
    "               \"Do-Rag \"]\n",
    "last_names = [\"Zzz\",\n",
    "              \"Burp\",\n",
    "              \"Dogbone\",\n",
    "              \"Droop\"]\n",
    "full_names = []\n",
    "for a_first_name in first_names:\n",
    "    for a_last_name in last_names:\n",
    "        full_names.append(a_first_name +a_last_name)"
   ]
  },
  {
   "cell_type": "code",
   "execution_count": 94,
   "id": "43902fe4",
   "metadata": {},
   "outputs": [
    {
     "data": {
      "text/plain": [
       "['BlueRay Zzz',\n",
       " 'BlueRay Burp',\n",
       " 'BlueRay Dogbone',\n",
       " 'BlueRay Droop',\n",
       " 'Upchuck Zzz',\n",
       " 'Upchuck Burp',\n",
       " 'Upchuck Dogbone',\n",
       " 'Upchuck Droop',\n",
       " 'Lojack Zzz',\n",
       " 'Lojack Burp',\n",
       " 'Lojack Dogbone',\n",
       " 'Lojack Droop',\n",
       " 'Gizmo Zzz',\n",
       " 'Gizmo Burp',\n",
       " 'Gizmo Dogbone',\n",
       " 'Gizmo Droop',\n",
       " 'Do-Rag Zzz',\n",
       " 'Do-Rag Burp',\n",
       " 'Do-Rag Dogbone',\n",
       " 'Do-Rag Droop']"
      ]
     },
     "execution_count": 94,
     "metadata": {},
     "output_type": "execute_result"
    }
   ],
   "source": [
    "full_names"
   ]
  },
  {
   "cell_type": "code",
   "execution_count": 95,
   "id": "085f4c23",
   "metadata": {},
   "outputs": [],
   "source": [
    "first_names = [\"BlueRay \",\n",
    "               \"Upchuck \",\n",
    "               \"Lojack \",\n",
    "               \"Gizmo \",\n",
    "               \"Do-Rag \"]\n",
    "last_names = [\"Zzz\",\n",
    "              \"Burp\",\n",
    "              \"Dogbone\",\n",
    "              \"Droop\"]\n",
    "full_names = []\n",
    "for a_first_name in first_names:\n",
    "    for a_last_name in last_names:\n",
    "        full_names.append(a_first_name+ \" \" +a_last_name)"
   ]
  },
  {
   "cell_type": "code",
   "execution_count": 96,
   "id": "cf9e1ba3",
   "metadata": {},
   "outputs": [
    {
     "data": {
      "text/plain": [
       "['BlueRay  Zzz',\n",
       " 'BlueRay  Burp',\n",
       " 'BlueRay  Dogbone',\n",
       " 'BlueRay  Droop',\n",
       " 'Upchuck  Zzz',\n",
       " 'Upchuck  Burp',\n",
       " 'Upchuck  Dogbone',\n",
       " 'Upchuck  Droop',\n",
       " 'Lojack  Zzz',\n",
       " 'Lojack  Burp',\n",
       " 'Lojack  Dogbone',\n",
       " 'Lojack  Droop',\n",
       " 'Gizmo  Zzz',\n",
       " 'Gizmo  Burp',\n",
       " 'Gizmo  Dogbone',\n",
       " 'Gizmo  Droop',\n",
       " 'Do-Rag  Zzz',\n",
       " 'Do-Rag  Burp',\n",
       " 'Do-Rag  Dogbone',\n",
       " 'Do-Rag  Droop']"
      ]
     },
     "execution_count": 96,
     "metadata": {},
     "output_type": "execute_result"
    }
   ],
   "source": [
    "full_names"
   ]
  },
  {
   "cell_type": "markdown",
   "id": "43b8bad1",
   "metadata": {},
   "source": [
    "### Dynamic : taking input from user then applying for loop:"
   ]
  },
  {
   "cell_type": "code",
   "execution_count": 1,
   "id": "00b60f2c",
   "metadata": {},
   "outputs": [
    {
     "name": "stdout",
     "output_type": "stream",
     "text": [
      "Want to start from :2\n",
      "Want to print table till :6\n",
      "Enter table lenght :11\n",
      "Table of :2\n",
      "2 X 1 = 2\n",
      "2 X 2 = 4\n",
      "2 X 3 = 6\n",
      "2 X 4 = 8\n",
      "2 X 5 = 10\n",
      "2 X 6 = 12\n",
      "2 X 7 = 14\n",
      "2 X 8 = 16\n",
      "2 X 9 = 18\n",
      "2 X 10 = 20\n",
      "Table of :3\n",
      "3 X 1 = 3\n",
      "3 X 2 = 6\n",
      "3 X 3 = 9\n",
      "3 X 4 = 12\n",
      "3 X 5 = 15\n",
      "3 X 6 = 18\n",
      "3 X 7 = 21\n",
      "3 X 8 = 24\n",
      "3 X 9 = 27\n",
      "3 X 10 = 30\n",
      "Table of :4\n",
      "4 X 1 = 4\n",
      "4 X 2 = 8\n",
      "4 X 3 = 12\n",
      "4 X 4 = 16\n",
      "4 X 5 = 20\n",
      "4 X 6 = 24\n",
      "4 X 7 = 28\n",
      "4 X 8 = 32\n",
      "4 X 9 = 36\n",
      "4 X 10 = 40\n",
      "Table of :5\n",
      "5 X 1 = 5\n",
      "5 X 2 = 10\n",
      "5 X 3 = 15\n",
      "5 X 4 = 20\n",
      "5 X 5 = 25\n",
      "5 X 6 = 30\n",
      "5 X 7 = 35\n",
      "5 X 8 = 40\n",
      "5 X 9 = 45\n",
      "5 X 10 = 50\n"
     ]
    }
   ],
   "source": [
    "table_start = int(input('Want to start from :'))\n",
    "table_end = int(input('Want to print table till :'))\n",
    "table_lenght = int(input('Enter table lenght :'))\n",
    "\n",
    "for table in range(table_start,table_end):\n",
    "    print(f\"Table of :{table}\")\n",
    "    for product in range(1, table_lenght):\n",
    "        print(f\"{table} X {product} = {table*product}\")"
   ]
  },
  {
   "cell_type": "code",
   "execution_count": 5,
   "id": "a763c735",
   "metadata": {},
   "outputs": [],
   "source": [
    "list1 = ['Cat','Dog','Hen','Elephant']"
   ]
  },
  {
   "cell_type": "code",
   "execution_count": 7,
   "id": "2e567c64",
   "metadata": {},
   "outputs": [],
   "source": [
    "list2 = []\n",
    "for i in list1:\n",
    "    list2.append(i.upper())"
   ]
  },
  {
   "cell_type": "code",
   "execution_count": 8,
   "id": "ae92e1f5",
   "metadata": {},
   "outputs": [
    {
     "data": {
      "text/plain": [
       "['CAT', 'DOG', 'HEN', 'ELEPHANT']"
      ]
     },
     "execution_count": 8,
     "metadata": {},
     "output_type": "execute_result"
    }
   ],
   "source": [
    "list2"
   ]
  },
  {
   "cell_type": "code",
   "execution_count": 11,
   "id": "72cbfc2c",
   "metadata": {},
   "outputs": [
    {
     "name": "stdout",
     "output_type": "stream",
     "text": [
      "Enter your name here :Qazi Muhammad Umer\n",
      "Enter your father name :Qazi Najam\n",
      "Enter your cnic number :42201-1111111-1\n",
      "Enter your COURSE :PYTHON\n",
      "***********SMIT***********\n",
      "NAME :Qazi Muhammad Umer\n",
      " F.NAME:Qazi Najam\n",
      " CNIC:42201-1111111-1\n",
      " COURSE :PYTHON\n",
      "*************************\n"
     ]
    }
   ],
   "source": [
    "name = input('Enter your name here :')\n",
    "f_name = input('Enter your father name :')\n",
    "cnic = input('Enter your cnic number :')\n",
    "course = input('Enter your COURSE :')\n",
    "\n",
    "\n",
    "\n",
    "print('***********SMIT***********')\n",
    "print(f\"NAME :{name}\\n F.NAME:{f_name}\\n CNIC:{cnic}\\n COURSE :{course}\")\n",
    "print('-*************************-')"
   ]
  },
  {
   "cell_type": "markdown",
   "id": "a81b288e",
   "metadata": {},
   "source": [
    "#### 5. f \" or .format( ):"
   ]
  },
  {
   "cell_type": "code",
   "execution_count": 1,
   "id": "f7c3ab38",
   "metadata": {},
   "outputs": [
    {
     "name": "stdout",
     "output_type": "stream",
     "text": [
      "Enter your name here :Qazi Umer\n",
      "Enter your father name :Najam\n",
      "Enter your cnic number :258224455\n",
      "Enter your COURSE :9 to 11\n",
      "***********SMIT***********\n",
      "\t NAME : Qazi Umer Najam\n",
      "\t F_NAME: Najam\n",
      "\t CNIC: 258224455\n",
      "\t COURSE: 9 to 11\n",
      "-*************************-\n"
     ]
    }
   ],
   "source": [
    "name = input('Enter your name here :')\n",
    "f_name = input('Enter your father name :')\n",
    "cnic = input('Enter your cnic number :')\n",
    "course = input('Enter your COURSE :')\n",
    "\n",
    "\n",
    "\n",
    "print('\\t***********SMIT***********')\n",
    "print(\"\\t NAME : {0} {1}\".format(name ,f_name))\n",
    "print(\"\\t F_NAME: {0}\".format(f_name))\n",
    "print(\"\\t CNIC: {0}\".format(cnic))\n",
    "print(\"\\t COURSE: {0}\".format(course))\n",
    "print('-*************************-')"
   ]
  },
  {
   "cell_type": "code",
   "execution_count": null,
   "id": "b2fa8907",
   "metadata": {},
   "outputs": [],
   "source": [
    "# \\n for next line\n",
    "# \\ for continue line"
   ]
  }
 ],
 "metadata": {
  "kernelspec": {
   "display_name": "Python 3 (ipykernel)",
   "language": "python",
   "name": "python3"
  },
  "language_info": {
   "codemirror_mode": {
    "name": "ipython",
    "version": 3
   },
   "file_extension": ".py",
   "mimetype": "text/x-python",
   "name": "python",
   "nbconvert_exporter": "python",
   "pygments_lexer": "ipython3",
   "version": "3.11.5"
  }
 },
 "nbformat": 4,
 "nbformat_minor": 5
}
