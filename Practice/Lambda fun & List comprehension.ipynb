{
 "cells": [
  {
   "cell_type": "code",
   "execution_count": null,
   "id": "37d67f2b",
   "metadata": {},
   "outputs": [],
   "source": [
    "new_list = [expression for item in iterable if condition]"
   ]
  },
  {
   "cell_type": "code",
   "execution_count": 3,
   "id": "9428fb70",
   "metadata": {},
   "outputs": [
    {
     "name": "stdout",
     "output_type": "stream",
     "text": [
      "[0, 1, 4, 9, 16]\n"
     ]
    }
   ],
   "source": [
    "\n",
    "squares = [x**2 for x in range(5)]\n",
    "print(squares)"
   ]
  },
  {
   "cell_type": "code",
   "execution_count": null,
   "id": "ff1e5e22",
   "metadata": {},
   "outputs": [],
   "source": [
    "class ATM:\n",
    "    def __init__(self):\n",
    "        self.accounts = {}  # Dictionary to store account balances\n",
    "\n",
    "    def create_account(self, account_number, initial_balance):\n",
    "        if account_number not in self.accounts:\n",
    "            self.accounts[account_number] = initial_balance\n",
    "            print(f\"Account {account_number} created with an initial balance of ${initial_balance:.2f}\")\n",
    "        else:\n",
    "            print(f\"Account {account_number} already exists. Choose a different account number.\")\n",
    "\n",
    "    def check_balance(self, account_number):\n",
    "        if account_number in self.accounts:\n",
    "            balance = self.accounts[account_number]\n",
    "            print(f\"Account {account_number} has a balance of ${balance:.2f}\")\n",
    "        else:\n",
    "            print(f\"Account {account_number} does not exist. Please check the account number.\")\n",
    "\n",
    "    def deposit(self, account_number, amount):\n",
    "        if account_number in self.accounts:\n",
    "            self.accounts[account_number] += amount\n",
    "            print(f\"Deposited ${amount:.2f} into account {account_number}. New balance: ${self.accounts[account_number]:.2f}\")\n",
    "        else:\n",
    "            print(f\"Account {account_number} does not exist. Please check the account number.\")\n",
    "\n",
    "    def withdraw(self, account_number, amount):\n",
    "        if account_number in self.accounts:\n",
    "            if self.accounts[account_number] >= amount:\n",
    "                self.accounts[account_number] -= amount\n",
    "                print(f\"Withdrew ${amount:.2f} from account {account_number}. New balance: ${self.accounts[account_number]:.2f}\")\n",
    "            else:\n",
    "                print(f\"Insufficient funds in account {account_number}.\")\n",
    "        else:\n",
    "            print(f\"Account {account_number} does not exist. Please check the account number.\")\n",
    "\n",
    "# Example usage\n",
    "atm = ATM()\n",
    "\n",
    "atm.create_account(\"123456\", 1000.0)\n",
    "atm.check_balance(\"123456\")\n",
    "\n",
    "atm.deposit(\"123456\", 500.0)\n",
    "atm.check_balance(\"123456\")\n",
    "\n",
    "atm.withdraw(\"123456\", 200.0)\n",
    "atm.check_balance(\"123456\")\n",
    "\n",
    "atm.withdraw(\"123456\", 900.0)  # Insufficient funds example"
   ]
  },
  {
   "cell_type": "code",
   "execution_count": 4,
   "id": "35e3b7bd",
   "metadata": {},
   "outputs": [
    {
     "name": "stdout",
     "output_type": "stream",
     "text": [
      "\n",
      "Menu:\n",
      "1. Add item\n",
      "2. Remove item\n",
      "3. View items\n",
      "4. Quit\n"
     ]
    },
    {
     "ename": "KeyboardInterrupt",
     "evalue": "Interrupted by user",
     "output_type": "error",
     "traceback": [
      "\u001b[1;31m---------------------------------------------------------------------------\u001b[0m",
      "\u001b[1;31mKeyboardInterrupt\u001b[0m                         Traceback (most recent call last)",
      "Cell \u001b[1;32mIn[4], line 32\u001b[0m\n\u001b[0;32m     29\u001b[0m \u001b[38;5;28mprint\u001b[39m(\u001b[38;5;124m\"\u001b[39m\u001b[38;5;124m3. View items\u001b[39m\u001b[38;5;124m\"\u001b[39m)\n\u001b[0;32m     30\u001b[0m \u001b[38;5;28mprint\u001b[39m(\u001b[38;5;124m\"\u001b[39m\u001b[38;5;124m4. Quit\u001b[39m\u001b[38;5;124m\"\u001b[39m)\n\u001b[1;32m---> 32\u001b[0m choice \u001b[38;5;241m=\u001b[39m \u001b[38;5;28minput\u001b[39m(\u001b[38;5;124m\"\u001b[39m\u001b[38;5;124mEnter your choice (1-4): \u001b[39m\u001b[38;5;124m\"\u001b[39m)\n\u001b[0;32m     34\u001b[0m \u001b[38;5;28;01mif\u001b[39;00m choice \u001b[38;5;241m==\u001b[39m \u001b[38;5;124m\"\u001b[39m\u001b[38;5;124m1\u001b[39m\u001b[38;5;124m\"\u001b[39m:\n\u001b[0;32m     35\u001b[0m     key \u001b[38;5;241m=\u001b[39m \u001b[38;5;28minput\u001b[39m(\u001b[38;5;124m\"\u001b[39m\u001b[38;5;124mEnter the key: \u001b[39m\u001b[38;5;124m\"\u001b[39m)\n",
      "File \u001b[1;32m~\\anaconda3\\Lib\\site-packages\\ipykernel\\kernelbase.py:1202\u001b[0m, in \u001b[0;36mKernel.raw_input\u001b[1;34m(self, prompt)\u001b[0m\n\u001b[0;32m   1200\u001b[0m     msg \u001b[38;5;241m=\u001b[39m \u001b[38;5;124m\"\u001b[39m\u001b[38;5;124mraw_input was called, but this frontend does not support input requests.\u001b[39m\u001b[38;5;124m\"\u001b[39m\n\u001b[0;32m   1201\u001b[0m     \u001b[38;5;28;01mraise\u001b[39;00m StdinNotImplementedError(msg)\n\u001b[1;32m-> 1202\u001b[0m \u001b[38;5;28;01mreturn\u001b[39;00m \u001b[38;5;28mself\u001b[39m\u001b[38;5;241m.\u001b[39m_input_request(\n\u001b[0;32m   1203\u001b[0m     \u001b[38;5;28mstr\u001b[39m(prompt),\n\u001b[0;32m   1204\u001b[0m     \u001b[38;5;28mself\u001b[39m\u001b[38;5;241m.\u001b[39m_parent_ident[\u001b[38;5;124m\"\u001b[39m\u001b[38;5;124mshell\u001b[39m\u001b[38;5;124m\"\u001b[39m],\n\u001b[0;32m   1205\u001b[0m     \u001b[38;5;28mself\u001b[39m\u001b[38;5;241m.\u001b[39mget_parent(\u001b[38;5;124m\"\u001b[39m\u001b[38;5;124mshell\u001b[39m\u001b[38;5;124m\"\u001b[39m),\n\u001b[0;32m   1206\u001b[0m     password\u001b[38;5;241m=\u001b[39m\u001b[38;5;28;01mFalse\u001b[39;00m,\n\u001b[0;32m   1207\u001b[0m )\n",
      "File \u001b[1;32m~\\anaconda3\\Lib\\site-packages\\ipykernel\\kernelbase.py:1245\u001b[0m, in \u001b[0;36mKernel._input_request\u001b[1;34m(self, prompt, ident, parent, password)\u001b[0m\n\u001b[0;32m   1242\u001b[0m \u001b[38;5;28;01mexcept\u001b[39;00m \u001b[38;5;167;01mKeyboardInterrupt\u001b[39;00m:\n\u001b[0;32m   1243\u001b[0m     \u001b[38;5;66;03m# re-raise KeyboardInterrupt, to truncate traceback\u001b[39;00m\n\u001b[0;32m   1244\u001b[0m     msg \u001b[38;5;241m=\u001b[39m \u001b[38;5;124m\"\u001b[39m\u001b[38;5;124mInterrupted by user\u001b[39m\u001b[38;5;124m\"\u001b[39m\n\u001b[1;32m-> 1245\u001b[0m     \u001b[38;5;28;01mraise\u001b[39;00m \u001b[38;5;167;01mKeyboardInterrupt\u001b[39;00m(msg) \u001b[38;5;28;01mfrom\u001b[39;00m \u001b[38;5;28;01mNone\u001b[39;00m\n\u001b[0;32m   1246\u001b[0m \u001b[38;5;28;01mexcept\u001b[39;00m \u001b[38;5;167;01mException\u001b[39;00m:\n\u001b[0;32m   1247\u001b[0m     \u001b[38;5;28mself\u001b[39m\u001b[38;5;241m.\u001b[39mlog\u001b[38;5;241m.\u001b[39mwarning(\u001b[38;5;124m\"\u001b[39m\u001b[38;5;124mInvalid Message:\u001b[39m\u001b[38;5;124m\"\u001b[39m, exc_info\u001b[38;5;241m=\u001b[39m\u001b[38;5;28;01mTrue\u001b[39;00m)\n",
      "\u001b[1;31mKeyboardInterrupt\u001b[0m: Interrupted by user"
     ]
    }
   ],
   "source": [
    "class CustomDictionary:\n",
    "    def __init__(self):\n",
    "        self.items = {}  # Dictionary to store items\n",
    "\n",
    "    def add_item(self, key, value):\n",
    "        self.items[key] = value\n",
    "        print(f\"Item '{value}' added with key '{key}'.\")\n",
    "\n",
    "    def remove_item(self, key):\n",
    "        if key in self.items:\n",
    "            removed_value = self.items.pop(key)\n",
    "            print(f\"Item '{removed_value}' removed with key '{key}'.\")\n",
    "        else:\n",
    "            print(f\"Key '{key}' not found. No item removed.\")\n",
    "\n",
    "    def view_items(self):\n",
    "        print(\"Current items in the dictionary:\")\n",
    "        for key, value in self.items.items():\n",
    "            print(f\"Key: '{key}', Value: '{value}'\")\n",
    "\n",
    "\n",
    "# Example usage\n",
    "custom_dict = CustomDictionary()\n",
    "\n",
    "while True:\n",
    "    print(\"\\nMenu:\")\n",
    "    print(\"1. Add item\")\n",
    "    print(\"2. Remove item\")\n",
    "    print(\"3. View items\")\n",
    "    print(\"4. Quit\")\n",
    "\n",
    "    choice = input(\"Enter your choice (1-4): \")\n",
    "\n",
    "    if choice == \"1\":\n",
    "        key = input(\"Enter the key: \")\n",
    "        value = input(\"Enter the value: \")\n",
    "        custom_dict.add_item(key, value)\n",
    "    elif choice == \"2\":\n",
    "        key = input(\"Enter the key to remove: \")\n",
    "        custom_dict.remove_item(key)\n",
    "    elif choice == \"3\":\n",
    "        custom_dict.view_items()\n",
    "    elif choice == \"4\":\n",
    "        print(\"Exiting the program.\")\n",
    "        break\n",
    "    else:\n",
    "        print(\"Invalid choice. Please enter a number between 1 and 4.\")"
   ]
  },
  {
   "cell_type": "code",
   "execution_count": 10,
   "id": "a16d02ca",
   "metadata": {},
   "outputs": [
    {
     "name": "stdout",
     "output_type": "stream",
     "text": [
      "Enter your name :Umer\n",
      "{'NAME': 'Umer'}\n"
     ]
    }
   ],
   "source": [
    "customer = {}\n",
    "customer_name = input(\"Enter your name :\")\n",
    "customer.update({\"NAME\" : customer_name})\n",
    "print(customer)"
   ]
  },
  {
   "cell_type": "code",
   "execution_count": 24,
   "id": "f94db30f",
   "metadata": {},
   "outputs": [
    {
     "name": "stdout",
     "output_type": "stream",
     "text": [
      "{'candidateA': 0, 'candidateB': 0, 'candidateC': 0}\n"
     ]
    }
   ],
   "source": [
    "candidates = ['candidateA','candidateB','candidateC']\n",
    "vote = {candidate: 0 for candidate in candidates}\n",
    "print (vote)"
   ]
  },
  {
   "cell_type": "code",
   "execution_count": 25,
   "id": "b5d03315",
   "metadata": {},
   "outputs": [
    {
     "name": "stdout",
     "output_type": "stream",
     "text": [
      "NAME : Umer\n",
      "Class : r\n",
      "NAME : f\n",
      "Class : d\n",
      "NAME : s\n",
      "Class : a\n",
      "NAME : s\n",
      "Class : w\n"
     ]
    }
   ],
   "source": [
    "for i in range(4):\n",
    "    name = input(\"NAME : \")\n",
    "    clas = input(\"Class : \")"
   ]
  },
  {
   "cell_type": "code",
   "execution_count": null,
   "id": "38ea0430",
   "metadata": {},
   "outputs": [],
   "source": []
  }
 ],
 "metadata": {
  "kernelspec": {
   "display_name": "Python 3 (ipykernel)",
   "language": "python",
   "name": "python3"
  },
  "language_info": {
   "codemirror_mode": {
    "name": "ipython",
    "version": 3
   },
   "file_extension": ".py",
   "mimetype": "text/x-python",
   "name": "python",
   "nbconvert_exporter": "python",
   "pygments_lexer": "ipython3",
   "version": "3.11.5"
  }
 },
 "nbformat": 4,
 "nbformat_minor": 5
}
