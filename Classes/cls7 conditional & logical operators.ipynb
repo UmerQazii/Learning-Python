{
 "cells": [
  {
   "cell_type": "code",
   "execution_count": 13,
   "id": "ae2f3b29",
   "metadata": {},
   "outputs": [
    {
     "ename": "IndentationError",
     "evalue": "unexpected indent (3244850552.py, line 7)",
     "output_type": "error",
     "traceback": [
      "\u001b[1;36m  Cell \u001b[1;32mIn[13], line 7\u001b[1;36m\u001b[0m\n\u001b[1;33m    elif speed == 'low':\u001b[0m\n\u001b[1;37m    ^\u001b[0m\n\u001b[1;31mIndentationError\u001b[0m\u001b[1;31m:\u001b[0m unexpected indent\n"
     ]
    }
   ],
   "source": [
    "points = 0\n",
    "jump = input('Enter jump type :')\n",
    "speed = input(\"speed('high'or'low')\")\n",
    " \n",
    "if jump == 'high':\n",
    "    points = 5\n",
    "        elif speed == 'low':\n",
    "            points = -5\n",
    "        else:\n",
    "            \n",
    "else:\n",
    "    print ('your jump is not high or speed is very slow')"
   ]
  },
  {
   "cell_type": "code",
   "execution_count": 14,
   "id": "1aaa56bb",
   "metadata": {},
   "outputs": [
    {
     "name": "stdout",
     "output_type": "stream",
     "text": [
      "Enter which type of car you want to buy :('sedans' OR 'off road')sedans\n",
      "we have CAROLLA, CIVIC & CITY\n"
     ]
    }
   ],
   "source": [
    "car_type = input(\"Enter which type of car you want to buy :('sedans' OR 'off road')\")\n",
    "if car_type == 'sedans':\n",
    "    print(\"we have CAROLLA, CIVIC & CITY\")\n",
    "else:\n",
    "    print('SORRY! is not available....')"
   ]
  },
  {
   "cell_type": "code",
   "execution_count": 2,
   "id": "2edf32f3",
   "metadata": {},
   "outputs": [
    {
     "name": "stdout",
     "output_type": "stream",
     "text": [
      "You are a college student or university student ('C'-college and 'U'-university):C\n",
      "Enter your obtain marks : 252\n",
      "45.81818181818182\n"
     ]
    }
   ],
   "source": [
    "ask = input(\"You are a college student or university student ('C'-college and 'U'-university):\")\n",
    "\n",
    "if ask == 'C':\n",
    "    total_marks = 550\n",
    "    obtain_marks = int(input(\"Enter your obtain marks : \"))\n",
    "    percentage = (obtain_marks*100)/total_marks\n",
    "    print(percentage)\n",
    "else:\n",
    "    print('current program is not available for uni students')"
   ]
  },
  {
   "cell_type": "code",
   "execution_count": null,
   "id": "3e138a63",
   "metadata": {},
   "outputs": [],
   "source": []
  }
 ],
 "metadata": {
  "kernelspec": {
   "display_name": "Python 3 (ipykernel)",
   "language": "python",
   "name": "python3"
  },
  "language_info": {
   "codemirror_mode": {
    "name": "ipython",
    "version": 3
   },
   "file_extension": ".py",
   "mimetype": "text/x-python",
   "name": "python",
   "nbconvert_exporter": "python",
   "pygments_lexer": "ipython3",
   "version": "3.11.5"
  }
 },
 "nbformat": 4,
 "nbformat_minor": 5
}
