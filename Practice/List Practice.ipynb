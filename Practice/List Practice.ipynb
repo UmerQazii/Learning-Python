{
 "cells": [
  {
   "cell_type": "markdown",
   "id": "4ae336d4",
   "metadata": {},
   "source": [
    "## 01.List:"
   ]
  },
  {
   "cell_type": "markdown",
   "id": "842fa4f8",
   "metadata": {},
   "source": [
    "#### [  ] is used to make list :"
   ]
  },
  {
   "cell_type": "code",
   "execution_count": 1,
   "id": "1e8abfbb",
   "metadata": {},
   "outputs": [],
   "source": [
    "fruits = [\"apple\",'banana',\"grapes\",'guava','kiwi']"
   ]
  },
  {
   "cell_type": "code",
   "execution_count": 12,
   "id": "60081da2",
   "metadata": {},
   "outputs": [
    {
     "name": "stdout",
     "output_type": "stream",
     "text": [
      "apple\n",
      "a\n",
      "p\n",
      "p\n",
      "l\n",
      "e\n",
      "banana\n",
      "b\n",
      "a\n",
      "n\n",
      "a\n",
      "n\n",
      "a\n",
      "grapes\n",
      "g\n",
      "r\n",
      "a\n",
      "p\n",
      "e\n",
      "s\n",
      "guava\n",
      "g\n",
      "u\n",
      "a\n",
      "v\n",
      "a\n",
      "kiwi\n",
      "k\n",
      "i\n",
      "w\n",
      "i\n"
     ]
    }
   ],
   "source": [
    "for i in fruits:\n",
    "    print(i)\n",
    "    for j in i:\n",
    "        print(j)"
   ]
  },
  {
   "cell_type": "markdown",
   "id": "08ac6630",
   "metadata": {},
   "source": [
    "### 1.Accessing Elements:"
   ]
  },
  {
   "cell_type": "code",
   "execution_count": 13,
   "id": "6efb60da",
   "metadata": {},
   "outputs": [
    {
     "data": {
      "text/plain": [
       "'banana'"
      ]
     },
     "execution_count": 13,
     "metadata": {},
     "output_type": "execute_result"
    }
   ],
   "source": [
    "fruits[1]"
   ]
  },
  {
   "cell_type": "code",
   "execution_count": 14,
   "id": "26cba11f",
   "metadata": {},
   "outputs": [
    {
     "data": {
      "text/plain": [
       "'kiwi'"
      ]
     },
     "execution_count": 14,
     "metadata": {},
     "output_type": "execute_result"
    }
   ],
   "source": [
    "fruits[4]"
   ]
  },
  {
   "cell_type": "code",
   "execution_count": 20,
   "id": "67c21f96",
   "metadata": {},
   "outputs": [
    {
     "data": {
      "text/plain": [
       "['banana', 'grapes']"
      ]
     },
     "execution_count": 20,
     "metadata": {},
     "output_type": "execute_result"
    }
   ],
   "source": [
    "fruits[1:3]"
   ]
  },
  {
   "cell_type": "markdown",
   "id": "e0c76067",
   "metadata": {},
   "source": [
    "### 2.Add / Append:"
   ]
  },
  {
   "cell_type": "code",
   "execution_count": 21,
   "id": "7ddcae6d",
   "metadata": {},
   "outputs": [],
   "source": [
    "fruits.append('Orange')"
   ]
  },
  {
   "cell_type": "code",
   "execution_count": 22,
   "id": "498648c3",
   "metadata": {},
   "outputs": [
    {
     "data": {
      "text/plain": [
       "['apple', 'banana', 'grapes', 'guava', 'kiwi', 'Orange']"
      ]
     },
     "execution_count": 22,
     "metadata": {},
     "output_type": "execute_result"
    }
   ],
   "source": [
    "fruits"
   ]
  },
  {
   "cell_type": "code",
   "execution_count": 24,
   "id": "a71ba1ec",
   "metadata": {},
   "outputs": [
    {
     "name": "stdout",
     "output_type": "stream",
     "text": [
      "O\n",
      "r\n",
      "a\n",
      "n\n",
      "g\n",
      "e\n"
     ]
    }
   ],
   "source": [
    "for i in fruits[5]:\n",
    "    print(i)"
   ]
  },
  {
   "cell_type": "markdown",
   "id": "da7aba8e",
   "metadata": {},
   "source": [
    "### 3.Removing Elements:"
   ]
  },
  {
   "cell_type": "code",
   "execution_count": 28,
   "id": "f519deb2",
   "metadata": {},
   "outputs": [
    {
     "data": {
      "text/plain": [
       "['apple', 'banana', 'grapes', 'guava', 'kiwi']"
      ]
     },
     "execution_count": 28,
     "metadata": {},
     "output_type": "execute_result"
    }
   ],
   "source": [
    "fruits"
   ]
  },
  {
   "cell_type": "code",
   "execution_count": 26,
   "id": "1c2f074c",
   "metadata": {},
   "outputs": [],
   "source": [
    "fruits.remove(\"Orange\")"
   ]
  },
  {
   "cell_type": "code",
   "execution_count": 27,
   "id": "cb971cc4",
   "metadata": {},
   "outputs": [
    {
     "data": {
      "text/plain": [
       "['apple', 'banana', 'grapes', 'guava', 'kiwi']"
      ]
     },
     "execution_count": 27,
     "metadata": {},
     "output_type": "execute_result"
    }
   ],
   "source": [
    "fruits"
   ]
  },
  {
   "cell_type": "code",
   "execution_count": 33,
   "id": "865e6dd1",
   "metadata": {},
   "outputs": [
    {
     "name": "stdout",
     "output_type": "stream",
     "text": [
      "apple\n",
      "banana\n",
      "grapes\n",
      "guava\n",
      "kiwi\n"
     ]
    }
   ],
   "source": [
    "for i in fruits:\n",
    "    print(i)"
   ]
  },
  {
   "cell_type": "markdown",
   "id": "925c6cf2",
   "metadata": {},
   "source": [
    "### 4.Slicing Lists:\n",
    "\n",
    "\n",
    "\n"
   ]
  },
  {
   "cell_type": "code",
   "execution_count": 34,
   "id": "4e80d6e5",
   "metadata": {},
   "outputs": [
    {
     "data": {
      "text/plain": [
       "['banana', 'grapes']"
      ]
     },
     "execution_count": 34,
     "metadata": {},
     "output_type": "execute_result"
    }
   ],
   "source": [
    "fruits[1:3]"
   ]
  },
  {
   "cell_type": "markdown",
   "id": "29ff22c3",
   "metadata": {},
   "source": [
    "### 5.Modifying Elements:\n",
    "\n"
   ]
  },
  {
   "cell_type": "code",
   "execution_count": 35,
   "id": "9607f912",
   "metadata": {},
   "outputs": [
    {
     "data": {
      "text/plain": [
       "['apple', 'banana', 'grapes', 'guava', 'kiwi']"
      ]
     },
     "execution_count": 35,
     "metadata": {},
     "output_type": "execute_result"
    }
   ],
   "source": [
    "fruits"
   ]
  },
  {
   "cell_type": "code",
   "execution_count": 36,
   "id": "abfac0d6",
   "metadata": {},
   "outputs": [],
   "source": [
    "fruits[1] = \"pine apple\""
   ]
  },
  {
   "cell_type": "code",
   "execution_count": 37,
   "id": "32ce7ed8",
   "metadata": {},
   "outputs": [
    {
     "data": {
      "text/plain": [
       "['apple', 'pine apple', 'grapes', 'guava', 'kiwi']"
      ]
     },
     "execution_count": 37,
     "metadata": {},
     "output_type": "execute_result"
    }
   ],
   "source": [
    "fruits"
   ]
  },
  {
   "cell_type": "code",
   "execution_count": 38,
   "id": "c9e5ab56",
   "metadata": {},
   "outputs": [],
   "source": [
    "fruits[0]= \"green apple\""
   ]
  },
  {
   "cell_type": "code",
   "execution_count": 39,
   "id": "5a51fde1",
   "metadata": {},
   "outputs": [
    {
     "data": {
      "text/plain": [
       "['green apple', 'pine apple', 'grapes', 'guava', 'kiwi']"
      ]
     },
     "execution_count": 39,
     "metadata": {},
     "output_type": "execute_result"
    }
   ],
   "source": [
    "fruits"
   ]
  },
  {
   "cell_type": "code",
   "execution_count": 40,
   "id": "67fbec7f",
   "metadata": {},
   "outputs": [],
   "source": [
    "fruits[0] = \"apple\""
   ]
  },
  {
   "cell_type": "code",
   "execution_count": 41,
   "id": "3e03e94d",
   "metadata": {},
   "outputs": [
    {
     "data": {
      "text/plain": [
       "['apple', 'pine apple', 'grapes', 'guava', 'kiwi']"
      ]
     },
     "execution_count": 41,
     "metadata": {},
     "output_type": "execute_result"
    }
   ],
   "source": [
    "fruits"
   ]
  },
  {
   "cell_type": "markdown",
   "id": "6b2eebb1",
   "metadata": {},
   "source": [
    "### 6.Checking Element Existence:\n",
    "\n"
   ]
  },
  {
   "cell_type": "code",
   "execution_count": 44,
   "id": "764cff36",
   "metadata": {},
   "outputs": [
    {
     "name": "stdout",
     "output_type": "stream",
     "text": [
      "False\n"
     ]
    }
   ],
   "source": [
    "is_banana_in_list = \"banana\" in fruits\n",
    "print(is_banana_in_list)"
   ]
  },
  {
   "cell_type": "code",
   "execution_count": 45,
   "id": "9eaafa99",
   "metadata": {},
   "outputs": [
    {
     "name": "stdout",
     "output_type": "stream",
     "text": [
      "True\n"
     ]
    }
   ],
   "source": [
    "is_apple_in_list = \"apple\" in fruits\n",
    "print(is_apple_in_list)"
   ]
  },
  {
   "cell_type": "code",
   "execution_count": 46,
   "id": "db0be924",
   "metadata": {},
   "outputs": [
    {
     "data": {
      "text/plain": [
       "['apple', 'pine apple', 'grapes', 'guava', 'kiwi']"
      ]
     },
     "execution_count": 46,
     "metadata": {},
     "output_type": "execute_result"
    }
   ],
   "source": [
    "fruits"
   ]
  },
  {
   "cell_type": "code",
   "execution_count": 47,
   "id": "acab1b34",
   "metadata": {},
   "outputs": [
    {
     "data": {
      "text/plain": [
       "1"
      ]
     },
     "execution_count": 47,
     "metadata": {},
     "output_type": "execute_result"
    }
   ],
   "source": [
    "fruits.count(\"grapes\")"
   ]
  },
  {
   "cell_type": "markdown",
   "id": "c4588737",
   "metadata": {},
   "source": [
    "### 7.Counting Occurrences:\n",
    "\n"
   ]
  },
  {
   "cell_type": "code",
   "execution_count": 51,
   "id": "69084441",
   "metadata": {},
   "outputs": [],
   "source": [
    "numbers = ['1','2','3','4','5','6','4','4','5']"
   ]
  },
  {
   "cell_type": "code",
   "execution_count": 52,
   "id": "5958ee08",
   "metadata": {},
   "outputs": [
    {
     "data": {
      "text/plain": [
       "2"
      ]
     },
     "execution_count": 52,
     "metadata": {},
     "output_type": "execute_result"
    }
   ],
   "source": [
    "numbers.count('5')"
   ]
  },
  {
   "cell_type": "markdown",
   "id": "81b855ea",
   "metadata": {},
   "source": [
    "### 8.Concatenating Lists:\n",
    "\n"
   ]
  },
  {
   "cell_type": "code",
   "execution_count": 54,
   "id": "c86aa390",
   "metadata": {},
   "outputs": [
    {
     "data": {
      "text/plain": [
       "[1, 2, 3, 4, 5, 6]"
      ]
     },
     "execution_count": 54,
     "metadata": {},
     "output_type": "execute_result"
    }
   ],
   "source": [
    "# Scenario: Concatenate two lists\n",
    "list1 = [1, 2, 3]\n",
    "list2 = [4, 5, 6]\n",
    "concatenated_list = list1 + list2\n",
    "concatenated_list"
   ]
  },
  {
   "cell_type": "markdown",
   "id": "393aeaf6",
   "metadata": {},
   "source": [
    "### 9.Extending a List:\n",
    "\n"
   ]
  },
  {
   "cell_type": "code",
   "execution_count": 56,
   "id": "932c5640",
   "metadata": {},
   "outputs": [
    {
     "data": {
      "text/plain": [
       "[1, 2, 3, 4, 5, 6]"
      ]
     },
     "execution_count": 56,
     "metadata": {},
     "output_type": "execute_result"
    }
   ],
   "source": [
    "list1 = [1, 2, 3]\n",
    "list2 = [4, 5, 6]\n",
    "list1.extend(list2)\n",
    "list1"
   ]
  },
  {
   "cell_type": "markdown",
   "id": "1a216430",
   "metadata": {},
   "source": [
    "### 10.Using List Comprehension:\n"
   ]
  },
  {
   "cell_type": "code",
   "execution_count": 6,
   "id": "ba002e46",
   "metadata": {},
   "outputs": [
    {
     "name": "stdout",
     "output_type": "stream",
     "text": [
      "[1, 4, 9, 16, 25]\n"
     ]
    }
   ],
   "source": [
    "# Scenario: Create a new list using list comprehension\n",
    "squared_numbers = [x**2 for x in range(1, 6)]\n",
    "print(squared_numbers)"
   ]
  },
  {
   "cell_type": "code",
   "execution_count": 10,
   "id": "d777697d",
   "metadata": {},
   "outputs": [
    {
     "name": "stdout",
     "output_type": "stream",
     "text": [
      "[2, 4, 6, 8, 10]\n"
     ]
    }
   ],
   "source": [
    "#Filtering a List:\n",
    "# Scenario: Filter a list to get even numbers\n",
    "numbers = [1, 2, 3, 4, 5, 6, 7, 8, 9, 10]\n",
    "even_numbers = [x for x in numbers if x % 2 == 0]\n",
    "print(even_numbers)"
   ]
  },
  {
   "cell_type": "code",
   "execution_count": 11,
   "id": "83259ca3",
   "metadata": {},
   "outputs": [
    {
     "name": "stdout",
     "output_type": "stream",
     "text": [
      "[2, 4, 6, 8, 10]\n"
     ]
    }
   ],
   "source": [
    "# Scenario: Double each element in the list\n",
    "numbers = [1, 2, 3, 4, 5]\n",
    "doubled_numbers = [x * 2 for x in numbers]\n",
    "print(doubled_numbers)"
   ]
  },
  {
   "cell_type": "code",
   "execution_count": 12,
   "id": "817e65de",
   "metadata": {},
   "outputs": [
    {
     "name": "stdout",
     "output_type": "stream",
     "text": [
      "[[1, 2, 3], [4, 5, 6], [7, 8, 9]]\n"
     ]
    }
   ],
   "source": [
    "#Nested Lists:\n",
    "# Scenario: Create a nested list (list of lists)\n",
    "matrix = [[1, 2, 3], [4, 5, 6], [7, 8, 9]]\n",
    "print(matrix)"
   ]
  },
  {
   "cell_type": "code",
   "execution_count": 13,
   "id": "6eca0b49",
   "metadata": {},
   "outputs": [
    {
     "name": "stdout",
     "output_type": "stream",
     "text": [
      "2\n"
     ]
    }
   ],
   "source": [
    "#List as a Stack:\n",
    "# Scenario: Use a list as a stack (Last In, First Out - LIFO)\n",
    "stack = []\n",
    "stack.append(1)\n",
    "stack.append(2)\n",
    "popped_element = stack.pop()\n",
    "print(popped_element)"
   ]
  },
  {
   "cell_type": "code",
   "execution_count": null,
   "id": "1de8bf6d",
   "metadata": {},
   "outputs": [],
   "source": []
  }
 ],
 "metadata": {
  "kernelspec": {
   "display_name": "Python 3 (ipykernel)",
   "language": "python",
   "name": "python3"
  },
  "language_info": {
   "codemirror_mode": {
    "name": "ipython",
    "version": 3
   },
   "file_extension": ".py",
   "mimetype": "text/x-python",
   "name": "python",
   "nbconvert_exporter": "python",
   "pygments_lexer": "ipython3",
   "version": "3.11.5"
  }
 },
 "nbformat": 4,
 "nbformat_minor": 5
}
