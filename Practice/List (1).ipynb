{
 "cells": [
  {
   "cell_type": "code",
   "execution_count": 1,
   "id": "33c10f71",
   "metadata": {},
   "outputs": [
    {
     "data": {
      "text/plain": [
       "' from class 7 1:10:33'"
      ]
     },
     "execution_count": 1,
     "metadata": {},
     "output_type": "execute_result"
    }
   ],
   "source": [
    "''' from class 7 1:10:33'''"
   ]
  },
  {
   "cell_type": "markdown",
   "id": "3a4cadcc",
   "metadata": {},
   "source": [
    "# 1.LIST"
   ]
  },
  {
   "cell_type": "markdown",
   "id": "436f1f95",
   "metadata": {},
   "source": [
    "## List is a function use to store multiple variables [  ]"
   ]
  },
  {
   "cell_type": "code",
   "execution_count": 2,
   "id": "b5565af7",
   "metadata": {},
   "outputs": [],
   "source": [
    "student1 = 'Qasim'\n",
    "student2 = 'Hassan'\n",
    "student3 = 'Umer'\n",
    "student4 = 'Ibrahim'"
   ]
  },
  {
   "cell_type": "code",
   "execution_count": 10,
   "id": "8a5bde3b",
   "metadata": {},
   "outputs": [
    {
     "name": "stdout",
     "output_type": "stream",
     "text": [
      "hello Umer!\n"
     ]
    }
   ],
   "source": [
    "print(f\"hello {student3}!\")"
   ]
  },
  {
   "cell_type": "code",
   "execution_count": 3,
   "id": "4a021d44",
   "metadata": {},
   "outputs": [],
   "source": [
    "students_name = ['Qasim',\n",
    "                 'Hassan',\n",
    "                 'Umer',\n",
    "                 'Ibrahim']"
   ]
  },
  {
   "cell_type": "code",
   "execution_count": null,
   "id": "2d689ff9",
   "metadata": {},
   "outputs": [],
   "source": [
    "print(f\"Welcome to {})"
   ]
  },
  {
   "cell_type": "code",
   "execution_count": 4,
   "id": "91bbfc38",
   "metadata": {},
   "outputs": [
    {
     "data": {
      "text/plain": [
       "['Qasim', 'Hassan', 'Umer', 'Ibrahim']"
      ]
     },
     "execution_count": 4,
     "metadata": {},
     "output_type": "execute_result"
    }
   ],
   "source": [
    "students_name"
   ]
  },
  {
   "cell_type": "code",
   "execution_count": null,
   "id": "2893da93",
   "metadata": {},
   "outputs": [],
   "source": [
    "   -4       -3        -2        -1\n",
    "    0        1         2         3\n",
    "['Qasim', 'Hassan', 'Umer', 'Ibrahim']\n"
   ]
  },
  {
   "cell_type": "code",
   "execution_count": 5,
   "id": "9dd94624",
   "metadata": {},
   "outputs": [
    {
     "data": {
      "text/plain": [
       "list"
      ]
     },
     "execution_count": 5,
     "metadata": {},
     "output_type": "execute_result"
    }
   ],
   "source": [
    "type(students_name)"
   ]
  },
  {
   "cell_type": "code",
   "execution_count": 6,
   "id": "0efd254f",
   "metadata": {},
   "outputs": [
    {
     "data": {
      "text/plain": [
       "2351943062336"
      ]
     },
     "execution_count": 6,
     "metadata": {},
     "output_type": "execute_result"
    }
   ],
   "source": [
    "id(students_name)"
   ]
  },
  {
   "cell_type": "code",
   "execution_count": 11,
   "id": "38d35383",
   "metadata": {},
   "outputs": [
    {
     "name": "stdout",
     "output_type": "stream",
     "text": [
      "Hello Ibrahim!\n"
     ]
    }
   ],
   "source": [
    "print(f\"Hello {students_name[3]}!\")"
   ]
  },
  {
   "cell_type": "markdown",
   "id": "a9228133",
   "metadata": {},
   "source": [
    "# 2 Slicing in List [   ] :"
   ]
  },
  {
   "cell_type": "code",
   "execution_count": null,
   "id": "b90fe34d",
   "metadata": {},
   "outputs": [],
   "source": [
    "# From Left to right :\n",
    "    0        1         2         3\n",
    "['Qasim', 'Hassan', 'Umer', 'Ibrahim']\n",
    "# From Right to left :\n",
    "   -4       -3        -2        -1\n",
    "   \n",
    "['Qasim', 'Hassan', 'Umer', 'Ibrahim']"
   ]
  },
  {
   "cell_type": "code",
   "execution_count": 16,
   "id": "36731e0a",
   "metadata": {},
   "outputs": [],
   "source": [
    "employee_list =[ 'Qasim' ,\n",
    "                'Hassan', \n",
    "                6,\n",
    "                '0300-000000',\n",
    "                False]"
   ]
  },
  {
   "cell_type": "code",
   "execution_count": 17,
   "id": "c4c3c456",
   "metadata": {},
   "outputs": [
    {
     "data": {
      "text/plain": [
       "'0300-000000'"
      ]
     },
     "execution_count": 17,
     "metadata": {},
     "output_type": "execute_result"
    }
   ],
   "source": [
    "employee_list[-2]"
   ]
  },
  {
   "cell_type": "code",
   "execution_count": 18,
   "id": "c5145e7c",
   "metadata": {},
   "outputs": [
    {
     "data": {
      "text/plain": [
       "'Qasim'"
      ]
     },
     "execution_count": 18,
     "metadata": {},
     "output_type": "execute_result"
    }
   ],
   "source": [
    "employee_list[-5]"
   ]
  },
  {
   "cell_type": "code",
   "execution_count": 12,
   "id": "26e1a495",
   "metadata": {},
   "outputs": [
    {
     "data": {
      "text/plain": [
       "'Umer'"
      ]
     },
     "execution_count": 12,
     "metadata": {},
     "output_type": "execute_result"
    }
   ],
   "source": [
    "students_name[-2]"
   ]
  },
  {
   "cell_type": "code",
   "execution_count": 13,
   "id": "cc090285",
   "metadata": {},
   "outputs": [
    {
     "data": {
      "text/plain": [
       "['Hassan', 'Umer', 'Ibrahim']"
      ]
     },
     "execution_count": 13,
     "metadata": {},
     "output_type": "execute_result"
    }
   ],
   "source": [
    "students_name[1:4]"
   ]
  },
  {
   "cell_type": "code",
   "execution_count": null,
   "id": "fb80fbb3",
   "metadata": {},
   "outputs": [],
   "source": [
    "# In list(slicing)\n",
    "#1st-->include  :   last-->exclude"
   ]
  },
  {
   "cell_type": "code",
   "execution_count": 14,
   "id": "0118e356",
   "metadata": {},
   "outputs": [
    {
     "data": {
      "text/plain": [
       "['Hassan', 'Umer']"
      ]
     },
     "execution_count": 14,
     "metadata": {},
     "output_type": "execute_result"
    }
   ],
   "source": [
    "# 1(Hassan) include : 3(Ibrahim) exclude:\n",
    "students_name[1:3]"
   ]
  },
  {
   "cell_type": "code",
   "execution_count": 19,
   "id": "509fdf39",
   "metadata": {},
   "outputs": [
    {
     "data": {
      "text/plain": [
       "['Qasim', 'Hassan']"
      ]
     },
     "execution_count": 19,
     "metadata": {},
     "output_type": "execute_result"
    }
   ],
   "source": [
    "students_name[:2]"
   ]
  },
  {
   "cell_type": "code",
   "execution_count": 20,
   "id": "d4b1cfde",
   "metadata": {},
   "outputs": [
    {
     "data": {
      "text/plain": [
       "['Qasim', 'Hassan', 'Umer']"
      ]
     },
     "execution_count": 20,
     "metadata": {},
     "output_type": "execute_result"
    }
   ],
   "source": [
    "students_name[:3]"
   ]
  },
  {
   "cell_type": "code",
   "execution_count": 21,
   "id": "54126b14",
   "metadata": {},
   "outputs": [
    {
     "data": {
      "text/plain": [
       "['Qasim', 'Hassan']"
      ]
     },
     "execution_count": 21,
     "metadata": {},
     "output_type": "execute_result"
    }
   ],
   "source": [
    "students_name[0:2]"
   ]
  },
  {
   "cell_type": "code",
   "execution_count": 23,
   "id": "5149a0ba",
   "metadata": {},
   "outputs": [
    {
     "data": {
      "text/plain": [
       "['Hassan', 'Umer']"
      ]
     },
     "execution_count": 23,
     "metadata": {},
     "output_type": "execute_result"
    }
   ],
   "source": [
    "students_name[1:3]\n"
   ]
  },
  {
   "cell_type": "code",
   "execution_count": 24,
   "id": "c664069a",
   "metadata": {},
   "outputs": [
    {
     "data": {
      "text/plain": [
       "['Qasim', 'Hassan', 'Umer', 'Ibrahim']"
      ]
     },
     "execution_count": 24,
     "metadata": {},
     "output_type": "execute_result"
    }
   ],
   "source": [
    "students_name"
   ]
  },
  {
   "cell_type": "code",
   "execution_count": 25,
   "id": "14fda740",
   "metadata": {},
   "outputs": [
    {
     "data": {
      "text/plain": [
       "['Qasim']"
      ]
     },
     "execution_count": 25,
     "metadata": {},
     "output_type": "execute_result"
    }
   ],
   "source": [
    "students_name[0:1]"
   ]
  },
  {
   "cell_type": "code",
   "execution_count": 31,
   "id": "573fbe12",
   "metadata": {},
   "outputs": [
    {
     "data": {
      "text/plain": [
       "'m'"
      ]
     },
     "execution_count": 31,
     "metadata": {},
     "output_type": "execute_result"
    }
   ],
   "source": [
    "students_name[0][4]"
   ]
  },
  {
   "cell_type": "code",
   "execution_count": 32,
   "id": "79dc34cc",
   "metadata": {},
   "outputs": [
    {
     "data": {
      "text/plain": [
       "['Qasim', 'Hassan', 'Umer', 'Ibrahim']"
      ]
     },
     "execution_count": 32,
     "metadata": {},
     "output_type": "execute_result"
    }
   ],
   "source": [
    "students_name[:]"
   ]
  },
  {
   "cell_type": "code",
   "execution_count": 33,
   "id": "6c4a707f",
   "metadata": {},
   "outputs": [
    {
     "data": {
      "text/plain": [
       "'Umer'"
      ]
     },
     "execution_count": 33,
     "metadata": {},
     "output_type": "execute_result"
    }
   ],
   "source": [
    "students_name[2][:]"
   ]
  },
  {
   "cell_type": "code",
   "execution_count": 35,
   "id": "9187fb78",
   "metadata": {},
   "outputs": [
    {
     "data": {
      "text/plain": [
       "'mer'"
      ]
     },
     "execution_count": 35,
     "metadata": {},
     "output_type": "execute_result"
    }
   ],
   "source": [
    "students_name[2][1:]"
   ]
  },
  {
   "cell_type": "code",
   "execution_count": 40,
   "id": "7d49a57f",
   "metadata": {},
   "outputs": [
    {
     "data": {
      "text/plain": [
       "'Ib'"
      ]
     },
     "execution_count": 40,
     "metadata": {},
     "output_type": "execute_result"
    }
   ],
   "source": [
    "students_name[3][:2]"
   ]
  },
  {
   "cell_type": "code",
   "execution_count": null,
   "id": "8363a705",
   "metadata": {},
   "outputs": [],
   "source": []
  }
 ],
 "metadata": {
  "kernelspec": {
   "display_name": "Python 3 (ipykernel)",
   "language": "python",
   "name": "python3"
  },
  "language_info": {
   "codemirror_mode": {
    "name": "ipython",
    "version": 3
   },
   "file_extension": ".py",
   "mimetype": "text/x-python",
   "name": "python",
   "nbconvert_exporter": "python",
   "pygments_lexer": "ipython3",
   "version": "3.11.5"
  }
 },
 "nbformat": 4,
 "nbformat_minor": 5
}
