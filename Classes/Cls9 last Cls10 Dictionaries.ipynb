{
 "cells": [
  {
   "cell_type": "markdown",
   "id": "8f16fdfb",
   "metadata": {},
   "source": [
    "#  DICTIONARIES:{ }"
   ]
  },
  {
   "cell_type": "markdown",
   "id": "80b96933",
   "metadata": {},
   "source": [
    "######  list contain only values. like\n",
    "list1 = ['Umer' , 'Qazi']\n",
    "###### Dictionaries contain key --> values. like:\n",
    "dict1 = { 'first_name' : 'Umer'\n",
    "          'last_name'  : 'Qazi'}"
   ]
  },
  {
   "cell_type": "code",
   "execution_count": 4,
   "id": "165d32f1",
   "metadata": {},
   "outputs": [],
   "source": [
    "fruit_list = ['Banana' , 'Apple', 'Orange']"
   ]
  },
  {
   "cell_type": "code",
   "execution_count": 5,
   "id": "bbe1c12c",
   "metadata": {},
   "outputs": [],
   "source": [
    "fruit_list = fruit_list + ['Grapes','Guava','Mango']"
   ]
  },
  {
   "cell_type": "code",
   "execution_count": 3,
   "id": "eefd68d4",
   "metadata": {},
   "outputs": [
    {
     "data": {
      "text/plain": [
       "'key --> value\\n   name --> Qasim\\n   f_name --> Hassan\\n   cnic --> 454645665\\n   course --> 9 to 11'"
      ]
     },
     "execution_count": 3,
     "metadata": {},
     "output_type": "execute_result"
    }
   ],
   "source": [
    "'''key --> value\n",
    "   name --> Qasim\n",
    "   f_name --> Hassan\n",
    "   cnic --> 454645665\n",
    "   course --> 9 to 11'''"
   ]
  },
  {
   "cell_type": "code",
   "execution_count": 6,
   "id": "ade64150",
   "metadata": {},
   "outputs": [
    {
     "data": {
      "text/plain": [
       "['Banana', 'Apple', 'Orange', 'Grapes', 'Guava', 'Mango']"
      ]
     },
     "execution_count": 6,
     "metadata": {},
     "output_type": "execute_result"
    }
   ],
   "source": [
    "fruit_list"
   ]
  },
  {
   "cell_type": "code",
   "execution_count": 7,
   "id": "0e5b1609",
   "metadata": {},
   "outputs": [],
   "source": [
    "fruit_list.insert(0,'Pine Apple')"
   ]
  },
  {
   "cell_type": "code",
   "execution_count": 8,
   "id": "51341c74",
   "metadata": {},
   "outputs": [
    {
     "data": {
      "text/plain": [
       "['Pine Apple', 'Banana', 'Apple', 'Orange', 'Grapes', 'Guava', 'Mango']"
      ]
     },
     "execution_count": 8,
     "metadata": {},
     "output_type": "execute_result"
    }
   ],
   "source": [
    "fruit_list"
   ]
  },
  {
   "cell_type": "code",
   "execution_count": 9,
   "id": "25c1c266",
   "metadata": {},
   "outputs": [],
   "source": [
    "fruit_list_new = ['Banana' , 'Apple', 'Orange']"
   ]
  },
  {
   "cell_type": "code",
   "execution_count": 10,
   "id": "1fd9f7fd",
   "metadata": {},
   "outputs": [
    {
     "data": {
      "text/plain": [
       "['Banana', 'Apple', 'Orange']"
      ]
     },
     "execution_count": 10,
     "metadata": {},
     "output_type": "execute_result"
    }
   ],
   "source": [
    "fruit_list_new"
   ]
  },
  {
   "cell_type": "code",
   "execution_count": 11,
   "id": "de626136",
   "metadata": {},
   "outputs": [],
   "source": [
    "fruit_list_new.extend(['Grapes','Guava','Mango'])"
   ]
  },
  {
   "cell_type": "code",
   "execution_count": 12,
   "id": "edd160ca",
   "metadata": {},
   "outputs": [
    {
     "data": {
      "text/plain": [
       "['Banana', 'Apple', 'Orange', 'Grapes', 'Guava', 'Mango']"
      ]
     },
     "execution_count": 12,
     "metadata": {},
     "output_type": "execute_result"
    }
   ],
   "source": [
    "fruit_list_new"
   ]
  },
  {
   "cell_type": "code",
   "execution_count": 13,
   "id": "4252ec54",
   "metadata": {},
   "outputs": [],
   "source": [
    "# '+' and extend perform same function...\n"
   ]
  },
  {
   "cell_type": "code",
   "execution_count": null,
   "id": "6f9b209e",
   "metadata": {},
   "outputs": [],
   "source": [
    "[]."
   ]
  },
  {
   "cell_type": "code",
   "execution_count": 2,
   "id": "07cd6461",
   "metadata": {},
   "outputs": [
    {
     "data": {
      "text/plain": [
       "True"
      ]
     },
     "execution_count": 2,
     "metadata": {},
     "output_type": "execute_result"
    }
   ],
   "source": [
    "# palendrome\n",
    "var = 'madam'\n",
    "var == var[::-1]"
   ]
  },
  {
   "cell_type": "markdown",
   "id": "e21f2b91",
   "metadata": {},
   "source": [
    "# 1.DICTIONARIES:{ }"
   ]
  },
  {
   "cell_type": "code",
   "execution_count": null,
   "id": "368940b4",
   "metadata": {},
   "outputs": [],
   "source": [
    "['first_name', 'last_name' , 'phone_number','weight','age']"
   ]
  },
  {
   "cell_type": "code",
   "execution_count": 2,
   "id": "07342118",
   "metadata": {},
   "outputs": [],
   "source": [
    "customer1 = ['Qasim' , 'Hassan' , '0300-0025895', 74,19]"
   ]
  },
  {
   "cell_type": "code",
   "execution_count": 3,
   "id": "ac1fa715",
   "metadata": {},
   "outputs": [
    {
     "ename": "TypeError",
     "evalue": "list indices must be integers or slices, not str",
     "output_type": "error",
     "traceback": [
      "\u001b[1;31m---------------------------------------------------------------------------\u001b[0m",
      "\u001b[1;31mTypeError\u001b[0m                                 Traceback (most recent call last)",
      "Cell \u001b[1;32mIn[3], line 1\u001b[0m\n\u001b[1;32m----> 1\u001b[0m customer1[\u001b[38;5;124m'\u001b[39m\u001b[38;5;124mHassan\u001b[39m\u001b[38;5;124m'\u001b[39m] \u001b[38;5;241m==\u001b[39m [\u001b[38;5;124m'\u001b[39m\u001b[38;5;124mQazi\u001b[39m\u001b[38;5;124m'\u001b[39m]\n",
      "\u001b[1;31mTypeError\u001b[0m: list indices must be integers or slices, not str"
     ]
    }
   ],
   "source": [
    "customer1['Hassan'] == ['Qazi']"
   ]
  },
  {
   "cell_type": "code",
   "execution_count": 4,
   "id": "20fac250",
   "metadata": {},
   "outputs": [],
   "source": [
    "customer1[1] = 'Qazi'"
   ]
  },
  {
   "cell_type": "code",
   "execution_count": 5,
   "id": "382a984e",
   "metadata": {},
   "outputs": [
    {
     "data": {
      "text/plain": [
       "['Qasim', 'Qazi', '0300-0025895', 74, 19]"
      ]
     },
     "execution_count": 5,
     "metadata": {},
     "output_type": "execute_result"
    }
   ],
   "source": [
    "customer1"
   ]
  },
  {
   "cell_type": "code",
   "execution_count": 6,
   "id": "643938f4",
   "metadata": {},
   "outputs": [],
   "source": [
    "customer1.insert(2,\"Qazi\")"
   ]
  },
  {
   "cell_type": "code",
   "execution_count": 32,
   "id": "2c5642bd",
   "metadata": {},
   "outputs": [],
   "source": [
    "#                     KEY --------> Value\n",
    "customer1_dict = {'first_name' : 'Qasim',\n",
    "                  'last_name ' : 'Hassan',\n",
    "                  'phone_number': '0300-0025895',\n",
    "                  'weight' :    74,\n",
    "                 'age' : 19}"
   ]
  },
  {
   "cell_type": "code",
   "execution_count": 8,
   "id": "0c6c761e",
   "metadata": {},
   "outputs": [
    {
     "data": {
      "text/plain": [
       "{'first_name': 'Qasim',\n",
       " 'last_name ': 'Hassan',\n",
       " 'phone_number': '0300-0025895',\n",
       " 'weight': 74,\n",
       " 'age': 19}"
      ]
     },
     "execution_count": 8,
     "metadata": {},
     "output_type": "execute_result"
    }
   ],
   "source": [
    " customer1_dict"
   ]
  },
  {
   "cell_type": "code",
   "execution_count": 9,
   "id": "e486ab57",
   "metadata": {},
   "outputs": [
    {
     "data": {
      "text/plain": [
       "dict"
      ]
     },
     "execution_count": 9,
     "metadata": {},
     "output_type": "execute_result"
    }
   ],
   "source": [
    "type(customer1_dict)"
   ]
  },
  {
   "cell_type": "code",
   "execution_count": 10,
   "id": "5f400265",
   "metadata": {},
   "outputs": [
    {
     "data": {
      "text/plain": [
       "2131231655040"
      ]
     },
     "execution_count": 10,
     "metadata": {},
     "output_type": "execute_result"
    }
   ],
   "source": [
    "id(customer1_dict)"
   ]
  },
  {
   "cell_type": "code",
   "execution_count": 11,
   "id": "81f20d25",
   "metadata": {},
   "outputs": [],
   "source": [
    "customer1_dict['phone_number'] = '0301-1112225'"
   ]
  },
  {
   "cell_type": "code",
   "execution_count": 12,
   "id": "173338e7",
   "metadata": {},
   "outputs": [
    {
     "data": {
      "text/plain": [
       "{'first_name': 'Qasim',\n",
       " 'last_name ': 'Hassan',\n",
       " 'phone_number': '0301-1112225',\n",
       " 'weight': 74,\n",
       " 'age': 19}"
      ]
     },
     "execution_count": 12,
     "metadata": {},
     "output_type": "execute_result"
    }
   ],
   "source": [
    "customer1_dict"
   ]
  },
  {
   "cell_type": "code",
   "execution_count": 13,
   "id": "ec6e5829",
   "metadata": {},
   "outputs": [],
   "source": [
    "#                  KEY ------->VALUE :\n",
    "customer1_dict['first_name'] = \"Umer\""
   ]
  },
  {
   "cell_type": "code",
   "execution_count": 14,
   "id": "e683616c",
   "metadata": {},
   "outputs": [
    {
     "data": {
      "text/plain": [
       "{'first_name': 'Umer',\n",
       " 'last_name ': 'Hassan',\n",
       " 'phone_number': '0301-1112225',\n",
       " 'weight': 74,\n",
       " 'age': 19}"
      ]
     },
     "execution_count": 14,
     "metadata": {},
     "output_type": "execute_result"
    }
   ],
   "source": [
    "customer1_dict"
   ]
  },
  {
   "cell_type": "code",
   "execution_count": 15,
   "id": "0a55befe",
   "metadata": {},
   "outputs": [],
   "source": [
    "del (customer1_dict['phone_number'])"
   ]
  },
  {
   "cell_type": "code",
   "execution_count": 16,
   "id": "e6e4b5ef",
   "metadata": {},
   "outputs": [
    {
     "data": {
      "text/plain": [
       "{'first_name': 'Umer', 'last_name ': 'Hassan', 'weight': 74, 'age': 19}"
      ]
     },
     "execution_count": 16,
     "metadata": {},
     "output_type": "execute_result"
    }
   ],
   "source": [
    "customer1_dict"
   ]
  },
  {
   "cell_type": "code",
   "execution_count": 17,
   "id": "81e54022",
   "metadata": {},
   "outputs": [],
   "source": [
    "del(customer1_dict['last_name '])"
   ]
  },
  {
   "cell_type": "code",
   "execution_count": 18,
   "id": "8f22dc86",
   "metadata": {},
   "outputs": [
    {
     "data": {
      "text/plain": [
       "{'first_name': 'Umer', 'weight': 74, 'age': 19}"
      ]
     },
     "execution_count": 18,
     "metadata": {},
     "output_type": "execute_result"
    }
   ],
   "source": [
    "customer1_dict"
   ]
  },
  {
   "cell_type": "code",
   "execution_count": 19,
   "id": "30103e2e",
   "metadata": {},
   "outputs": [
    {
     "ename": "ValueError",
     "evalue": "dictionary update sequence element #0 has length 1; 2 is required",
     "output_type": "error",
     "traceback": [
      "\u001b[1;31m---------------------------------------------------------------------------\u001b[0m",
      "\u001b[1;31mValueError\u001b[0m                                Traceback (most recent call last)",
      "Cell \u001b[1;32mIn[19], line 1\u001b[0m\n\u001b[1;32m----> 1\u001b[0m customer1_dict\u001b[38;5;241m.\u001b[39mupdate(\u001b[38;5;124m\"\u001b[39m\u001b[38;5;124mfirst_name\u001b[39m\u001b[38;5;124m\"\u001b[39m)\n",
      "\u001b[1;31mValueError\u001b[0m: dictionary update sequence element #0 has length 1; 2 is required"
     ]
    }
   ],
   "source": [
    "customer1_dict.update(\"first_name\")"
   ]
  },
  {
   "cell_type": "code",
   "execution_count": 20,
   "id": "aba1cf58",
   "metadata": {},
   "outputs": [
    {
     "data": {
      "text/plain": [
       "{'first_name': 'Umer', 'weight': 74, 'age': 19}"
      ]
     },
     "execution_count": 20,
     "metadata": {},
     "output_type": "execute_result"
    }
   ],
   "source": [
    "customer1_dict"
   ]
  },
  {
   "cell_type": "code",
   "execution_count": 21,
   "id": "0273fada",
   "metadata": {},
   "outputs": [],
   "source": [
    "customer1_dict[\"phone_number\"] = '0321-2255896'"
   ]
  },
  {
   "cell_type": "code",
   "execution_count": 22,
   "id": "92b90137",
   "metadata": {},
   "outputs": [
    {
     "data": {
      "text/plain": [
       "{'first_name': 'Umer', 'weight': 74, 'age': 19, 'phone_number': '0321-2255896'}"
      ]
     },
     "execution_count": 22,
     "metadata": {},
     "output_type": "execute_result"
    }
   ],
   "source": [
    "customer1_dict"
   ]
  },
  {
   "cell_type": "code",
   "execution_count": 23,
   "id": "fffef1f5",
   "metadata": {},
   "outputs": [],
   "source": [
    "customer1_dict['weight'] = '60kg'"
   ]
  },
  {
   "cell_type": "code",
   "execution_count": 24,
   "id": "b2f181fe",
   "metadata": {},
   "outputs": [
    {
     "data": {
      "text/plain": [
       "{'first_name': 'Umer',\n",
       " 'weight': '60kg',\n",
       " 'age': 19,\n",
       " 'phone_number': '0321-2255896'}"
      ]
     },
     "execution_count": 24,
     "metadata": {},
     "output_type": "execute_result"
    }
   ],
   "source": [
    "customer1_dict"
   ]
  },
  {
   "cell_type": "code",
   "execution_count": 25,
   "id": "5748e32a",
   "metadata": {},
   "outputs": [],
   "source": [
    "new_dict = customer1_dict.copy()"
   ]
  },
  {
   "cell_type": "code",
   "execution_count": 26,
   "id": "5b956b80",
   "metadata": {},
   "outputs": [
    {
     "data": {
      "text/plain": [
       "{'first_name': 'Umer',\n",
       " 'weight': '60kg',\n",
       " 'age': 19,\n",
       " 'phone_number': '0321-2255896'}"
      ]
     },
     "execution_count": 26,
     "metadata": {},
     "output_type": "execute_result"
    }
   ],
   "source": [
    "new_dict"
   ]
  },
  {
   "cell_type": "code",
   "execution_count": 27,
   "id": "0125cc7e",
   "metadata": {},
   "outputs": [],
   "source": [
    "customer1_dict['phone_number'] = '0433333233'"
   ]
  },
  {
   "cell_type": "code",
   "execution_count": 31,
   "id": "236c495d",
   "metadata": {},
   "outputs": [
    {
     "data": {
      "text/plain": [
       "{}"
      ]
     },
     "execution_count": 31,
     "metadata": {},
     "output_type": "execute_result"
    }
   ],
   "source": [
    "customer1_dict"
   ]
  },
  {
   "cell_type": "code",
   "execution_count": 29,
   "id": "7182ecab",
   "metadata": {},
   "outputs": [],
   "source": [
    "customer1_dict.clear()"
   ]
  },
  {
   "cell_type": "code",
   "execution_count": 30,
   "id": "4213d3ca",
   "metadata": {},
   "outputs": [
    {
     "data": {
      "text/plain": [
       "{}"
      ]
     },
     "execution_count": 30,
     "metadata": {},
     "output_type": "execute_result"
    }
   ],
   "source": [
    "customer1_dict"
   ]
  },
  {
   "cell_type": "code",
   "execution_count": 33,
   "id": "83673ce5",
   "metadata": {},
   "outputs": [
    {
     "data": {
      "text/plain": [
       "{'first_name': 'Qasim',\n",
       " 'last_name ': 'Hassan',\n",
       " 'phone_number': '0300-0025895',\n",
       " 'weight': 74,\n",
       " 'age': 19}"
      ]
     },
     "execution_count": 33,
     "metadata": {},
     "output_type": "execute_result"
    }
   ],
   "source": [
    "customer1_dict"
   ]
  },
  {
   "cell_type": "code",
   "execution_count": 34,
   "id": "f85e1c7e",
   "metadata": {},
   "outputs": [],
   "source": [
    "customer1_dict['age'] = 55"
   ]
  },
  {
   "cell_type": "code",
   "execution_count": 35,
   "id": "eb5dddfb",
   "metadata": {},
   "outputs": [
    {
     "data": {
      "text/plain": [
       "{'first_name': 'Qasim',\n",
       " 'last_name ': 'Hassan',\n",
       " 'phone_number': '0300-0025895',\n",
       " 'weight': 74,\n",
       " 'age': 55}"
      ]
     },
     "execution_count": 35,
     "metadata": {},
     "output_type": "execute_result"
    }
   ],
   "source": [
    "customer1_dict"
   ]
  },
  {
   "cell_type": "code",
   "execution_count": 40,
   "id": "8c4f2bdb",
   "metadata": {},
   "outputs": [
    {
     "data": {
      "text/plain": [
       "{'a': None, 'g': None, 'e': None}"
      ]
     },
     "execution_count": 40,
     "metadata": {},
     "output_type": "execute_result"
    }
   ],
   "source": [
    "customer1_dict.fromkeys('age')"
   ]
  },
  {
   "cell_type": "code",
   "execution_count": 41,
   "id": "2a219cbf",
   "metadata": {},
   "outputs": [
    {
     "data": {
      "text/plain": [
       "dict_items([('first_name', 'Qasim'), ('last_name ', 'Hassan'), ('phone_number', '0300-0025895'), ('weight', 74), ('age', 55)])"
      ]
     },
     "execution_count": 41,
     "metadata": {},
     "output_type": "execute_result"
    }
   ],
   "source": [
    "customer1_dict.items() # convert dict to list of tuples "
   ]
  },
  {
   "cell_type": "raw",
   "id": "8797fa78",
   "metadata": {},
   "source": [
    "dict_items([('first_name', 'Qasim'),\n",
    "            ('last_name ', 'Hassan'),\n",
    "            ('phone_number', '0300-0025895'),\n",
    "            ('weight', 74),\n",
    "            ('age', 55)])"
   ]
  },
  {
   "cell_type": "code",
   "execution_count": null,
   "id": "c0fe3aa2",
   "metadata": {},
   "outputs": [],
   "source": [
    "[1,2,3,4,5,6]"
   ]
  },
  {
   "cell_type": "code",
   "execution_count": 42,
   "id": "53d4cf76",
   "metadata": {},
   "outputs": [
    {
     "name": "stdout",
     "output_type": "stream",
     "text": [
      "first_name --> Qasim\n",
      "last_name  --> Hassan\n",
      "phone_number --> 0300-0025895\n",
      "weight --> 74\n",
      "age --> 55\n"
     ]
    }
   ],
   "source": [
    "for key, value in customer1_dict.items():\n",
    "    print(f\"{key} --> {value}\")"
   ]
  },
  {
   "cell_type": "code",
   "execution_count": 43,
   "id": "24cb6d49",
   "metadata": {},
   "outputs": [],
   "source": [
    "list1 = ['Umer','Qazi','0310-0001110',20,65]"
   ]
  },
  {
   "cell_type": "code",
   "execution_count": 76,
   "id": "a1384774",
   "metadata": {},
   "outputs": [
    {
     "name": "stdout",
     "output_type": "stream",
     "text": [
      "Umer\n",
      "U:Umer\n",
      "m:Umer\n",
      "e:Umer\n",
      "r:Umer\n",
      "Qazi\n",
      "Q:Qazi\n",
      "a:Qazi\n",
      "z:Qazi\n",
      "i:Qazi\n",
      "0310-0001110\n",
      "0:0310-0001110\n",
      "3:0310-0001110\n",
      "1:0310-0001110\n",
      "0:0310-0001110\n",
      "-:0310-0001110\n",
      "0:0310-0001110\n",
      "0:0310-0001110\n",
      "0:0310-0001110\n",
      "1:0310-0001110\n",
      "1:0310-0001110\n",
      "1:0310-0001110\n",
      "0:0310-0001110\n",
      "20\n"
     ]
    },
    {
     "ename": "TypeError",
     "evalue": "'int' object is not iterable",
     "output_type": "error",
     "traceback": [
      "\u001b[1;31m---------------------------------------------------------------------------\u001b[0m",
      "\u001b[1;31mTypeError\u001b[0m                                 Traceback (most recent call last)",
      "Cell \u001b[1;32mIn[76], line 3\u001b[0m\n\u001b[0;32m      1\u001b[0m \u001b[38;5;28;01mfor\u001b[39;00m temp \u001b[38;5;129;01min\u001b[39;00m list1:\n\u001b[0;32m      2\u001b[0m     \u001b[38;5;28mprint\u001b[39m(\u001b[38;5;124mf\u001b[39m\u001b[38;5;124m\"\u001b[39m\u001b[38;5;132;01m{\u001b[39;00mtemp\u001b[38;5;132;01m}\u001b[39;00m\u001b[38;5;124m\"\u001b[39m)\n\u001b[1;32m----> 3\u001b[0m     \u001b[38;5;28;01mfor\u001b[39;00m x \u001b[38;5;129;01min\u001b[39;00m temp :\n\u001b[0;32m      4\u001b[0m         \u001b[38;5;28mprint\u001b[39m(\u001b[38;5;124mf\u001b[39m\u001b[38;5;124m\"\u001b[39m\u001b[38;5;132;01m{\u001b[39;00mx\u001b[38;5;132;01m}\u001b[39;00m\u001b[38;5;124m:\u001b[39m\u001b[38;5;132;01m{\u001b[39;00mtemp\u001b[38;5;132;01m}\u001b[39;00m\u001b[38;5;124m\"\u001b[39m)\n",
      "\u001b[1;31mTypeError\u001b[0m: 'int' object is not iterable"
     ]
    }
   ],
   "source": [
    "\n",
    "    for temp in list1:\n",
    "        print(f\"{temp}\")\n",
    "        for x in temp :\n",
    "            print(f\"{x}:{temp}\")\n",
    "            \n",
    "            \n",
    "            "
   ]
  },
  {
   "cell_type": "code",
   "execution_count": 107,
   "id": "aacb2999",
   "metadata": {},
   "outputs": [
    {
     "data": {
      "text/plain": [
       "{'first_name': 'Qasim',\n",
       " 'last_name ': 'Hassan',\n",
       " 'phone_number': '0300-0025895',\n",
       " 'weight': 74,\n",
       " 'age': 55}"
      ]
     },
     "execution_count": 107,
     "metadata": {},
     "output_type": "execute_result"
    }
   ],
   "source": [
    "customer1_dict"
   ]
  },
  {
   "cell_type": "code",
   "execution_count": 86,
   "id": "4e103171",
   "metadata": {},
   "outputs": [
    {
     "name": "stdout",
     "output_type": "stream",
     "text": [
      "first_name-->Qasim\n",
      "last_name -->Hassan\n",
      "phone_number-->0300-0025895\n",
      "weight-->74\n",
      "age-->55\n"
     ]
    }
   ],
   "source": [
    "for key,value in customer1_dict.items():\n",
    "    print(f'{key}-->{value}')# get key "
   ]
  },
  {
   "cell_type": "code",
   "execution_count": 87,
   "id": "c4ec0605",
   "metadata": {},
   "outputs": [
    {
     "name": "stdout",
     "output_type": "stream",
     "text": [
      "('first_name', 'Qasim')-->\n",
      "('last_name ', 'Hassan')-->\n",
      "('phone_number', '0300-0025895')-->\n",
      "('weight', 74)-->\n",
      "('age', 55)-->\n"
     ]
    }
   ],
   "source": [
    "for temp in customer1_dict.items():\n",
    "    print(f'{temp}-->')"
   ]
  },
  {
   "cell_type": "code",
   "execution_count": 89,
   "id": "dddcbf8d",
   "metadata": {},
   "outputs": [
    {
     "name": "stdout",
     "output_type": "stream",
     "text": [
      "Qasim\n",
      "Hassan\n",
      "0300-0025895\n",
      "74\n",
      "55\n"
     ]
    }
   ],
   "source": [
    "for temp in customer1_dict.items():\n",
    "    print(f'{temp[1]}')"
   ]
  },
  {
   "cell_type": "code",
   "execution_count": 91,
   "id": "64724e93",
   "metadata": {},
   "outputs": [
    {
     "name": "stdout",
     "output_type": "stream",
     "text": [
      "first_name\n",
      "last_name \n",
      "phone_number\n",
      "weight\n",
      "age\n"
     ]
    }
   ],
   "source": [
    "for key in customer1_dict.keys():\n",
    "    print(f'{key}')"
   ]
  },
  {
   "cell_type": "code",
   "execution_count": 92,
   "id": "71406af0",
   "metadata": {},
   "outputs": [
    {
     "name": "stdout",
     "output_type": "stream",
     "text": [
      "Qasim\n",
      "Hassan\n",
      "0300-0025895\n",
      "74\n",
      "55\n"
     ]
    }
   ],
   "source": [
    "for value in customer1_dict.values():\n",
    "    print(f'{value}')"
   ]
  },
  {
   "cell_type": "code",
   "execution_count": 93,
   "id": "253ab672",
   "metadata": {},
   "outputs": [
    {
     "data": {
      "text/plain": [
       "dict_values(['Qasim', 'Hassan', '0300-0025895', 74, 55])"
      ]
     },
     "execution_count": 93,
     "metadata": {},
     "output_type": "execute_result"
    }
   ],
   "source": [
    "customer1_dict.values()"
   ]
  },
  {
   "cell_type": "code",
   "execution_count": 99,
   "id": "1d98f475",
   "metadata": {},
   "outputs": [
    {
     "data": {
      "text/plain": [
       "{'f': None,\n",
       " 'i': None,\n",
       " 'r': None,\n",
       " 's': None,\n",
       " 't': None,\n",
       " '_': None,\n",
       " 'n': None,\n",
       " 'a': None,\n",
       " 'm': None,\n",
       " 'e': None}"
      ]
     },
     "execution_count": 99,
     "metadata": {},
     "output_type": "execute_result"
    }
   ],
   "source": [
    "customer1_dict.fromkeys('first_name')"
   ]
  },
  {
   "cell_type": "code",
   "execution_count": 100,
   "id": "0e8a0eed",
   "metadata": {},
   "outputs": [
    {
     "data": {
      "text/plain": [
       "'Qasim'"
      ]
     },
     "execution_count": 100,
     "metadata": {},
     "output_type": "execute_result"
    }
   ],
   "source": [
    "customer1_dict.get('first_name')"
   ]
  },
  {
   "cell_type": "code",
   "execution_count": 101,
   "id": "1285bfcd",
   "metadata": {},
   "outputs": [
    {
     "data": {
      "text/plain": [
       "dict_keys(['first_name', 'last_name ', 'phone_number', 'weight', 'age'])"
      ]
     },
     "execution_count": 101,
     "metadata": {},
     "output_type": "execute_result"
    }
   ],
   "source": [
    "customer1_dict.keys()"
   ]
  },
  {
   "cell_type": "code",
   "execution_count": 102,
   "id": "f4f2c0f7",
   "metadata": {},
   "outputs": [],
   "source": [
    "customer1_dict.get('address')"
   ]
  },
  {
   "cell_type": "code",
   "execution_count": 103,
   "id": "3e2141d5",
   "metadata": {},
   "outputs": [
    {
     "data": {
      "text/plain": [
       "'No Address found'"
      ]
     },
     "execution_count": 103,
     "metadata": {},
     "output_type": "execute_result"
    }
   ],
   "source": [
    "customer1_dict.get('address','No Address found')"
   ]
  },
  {
   "cell_type": "code",
   "execution_count": 115,
   "id": "c1c296d4",
   "metadata": {},
   "outputs": [
    {
     "data": {
      "text/plain": [
       "'Hassan'"
      ]
     },
     "execution_count": 115,
     "metadata": {},
     "output_type": "execute_result"
    }
   ],
   "source": [
    "customer1_dict.get('last_name ')"
   ]
  },
  {
   "cell_type": "code",
   "execution_count": 113,
   "id": "3a60c7ea",
   "metadata": {},
   "outputs": [],
   "source": [
    "customer1_dict.get('last_name')"
   ]
  },
  {
   "cell_type": "code",
   "execution_count": 114,
   "id": "1194d87c",
   "metadata": {},
   "outputs": [
    {
     "data": {
      "text/plain": [
       "{'first_name': 'Qasim',\n",
       " 'last_name ': 'Hassan',\n",
       " 'phone_number': '0300-0025895',\n",
       " 'weight': 74,\n",
       " 'age': 55}"
      ]
     },
     "execution_count": 114,
     "metadata": {},
     "output_type": "execute_result"
    }
   ],
   "source": [
    "customer1_dict"
   ]
  },
  {
   "cell_type": "code",
   "execution_count": 116,
   "id": "f74268d3",
   "metadata": {},
   "outputs": [],
   "source": [
    "# .fromkeys:"
   ]
  },
  {
   "cell_type": "code",
   "execution_count": 117,
   "id": "fbc6d1cd",
   "metadata": {},
   "outputs": [],
   "source": [
    "i = 'Umer'"
   ]
  },
  {
   "cell_type": "code",
   "execution_count": 120,
   "id": "78cce9c6",
   "metadata": {},
   "outputs": [
    {
     "ename": "NameError",
     "evalue": "name 'first_name' is not defined",
     "output_type": "error",
     "traceback": [
      "\u001b[1;31m---------------------------------------------------------------------------\u001b[0m",
      "\u001b[1;31mNameError\u001b[0m                                 Traceback (most recent call last)",
      "Cell \u001b[1;32mIn[120], line 1\u001b[0m\n\u001b[1;32m----> 1\u001b[0m customer1_dict\u001b[38;5;241m.\u001b[39mfromkeys(first_name,\u001b[38;5;124m'\u001b[39m\u001b[38;5;124mi\u001b[39m\u001b[38;5;124m'\u001b[39m)\n",
      "\u001b[1;31mNameError\u001b[0m: name 'first_name' is not defined"
     ]
    }
   ],
   "source": [
    "customer1_dict.fromkeys(,'i')"
   ]
  },
  {
   "cell_type": "code",
   "execution_count": 121,
   "id": "430124f3",
   "metadata": {},
   "outputs": [],
   "source": [
    "set_x = {'a','b','c'}\n",
    "set_y = {0}"
   ]
  },
  {
   "cell_type": "code",
   "execution_count": 123,
   "id": "48a1a1e1",
   "metadata": {},
   "outputs": [],
   "source": [
    "new = dict.fromkeys(set_x,set_y)"
   ]
  },
  {
   "cell_type": "code",
   "execution_count": 124,
   "id": "ca95d6cd",
   "metadata": {},
   "outputs": [
    {
     "data": {
      "text/plain": [
       "{'b': {0}, 'c': {0}, 'a': {0}}"
      ]
     },
     "execution_count": 124,
     "metadata": {},
     "output_type": "execute_result"
    }
   ],
   "source": [
    "new"
   ]
  },
  {
   "cell_type": "code",
   "execution_count": 125,
   "id": "11d59c01",
   "metadata": {},
   "outputs": [],
   "source": [
    "nums = {'num1' : 1,\n",
    "       'num2' : 2,\n",
    "       'num3' : 3,\n",
    "       'num4' : 4}"
   ]
  },
  {
   "cell_type": "code",
   "execution_count": 126,
   "id": "2b158c8f",
   "metadata": {},
   "outputs": [
    {
     "data": {
      "text/plain": [
       "{'num1': 1, 'num2': 2, 'num3': 3, 'num4': 4}"
      ]
     },
     "execution_count": 126,
     "metadata": {},
     "output_type": "execute_result"
    }
   ],
   "source": [
    "nums"
   ]
  },
  {
   "cell_type": "code",
   "execution_count": null,
   "id": "3e34566d",
   "metadata": {},
   "outputs": [],
   "source": [
    "num = 5"
   ]
  },
  {
   "cell_type": "code",
   "execution_count": 131,
   "id": "fc3b796e",
   "metadata": {},
   "outputs": [],
   "source": [
    "all_nums = nums.fromkeys('num1',5)"
   ]
  },
  {
   "cell_type": "code",
   "execution_count": 132,
   "id": "ac67214c",
   "metadata": {},
   "outputs": [
    {
     "data": {
      "text/plain": [
       "{'n': 5, 'u': 5, 'm': 5, '1': 5}"
      ]
     },
     "execution_count": 132,
     "metadata": {},
     "output_type": "execute_result"
    }
   ],
   "source": [
    "all_nums"
   ]
  },
  {
   "cell_type": "code",
   "execution_count": 133,
   "id": "7afccedc",
   "metadata": {},
   "outputs": [
    {
     "data": {
      "text/plain": [
       "dict"
      ]
     },
     "execution_count": 133,
     "metadata": {},
     "output_type": "execute_result"
    }
   ],
   "source": [
    "type(new)"
   ]
  },
  {
   "cell_type": "code",
   "execution_count": 134,
   "id": "85da2bd7",
   "metadata": {},
   "outputs": [],
   "source": [
    "set_x = {'a','b','c'}\n",
    "list1 = [0,1,2]\n"
   ]
  },
  {
   "cell_type": "code",
   "execution_count": 141,
   "id": "1b1996ea",
   "metadata": {},
   "outputs": [
    {
     "ename": "ValueError",
     "evalue": "not enough values to unpack (expected 2, got 1)",
     "output_type": "error",
     "traceback": [
      "\u001b[1;31m---------------------------------------------------------------------------\u001b[0m",
      "\u001b[1;31mValueError\u001b[0m                                Traceback (most recent call last)",
      "Cell \u001b[1;32mIn[141], line 1\u001b[0m\n\u001b[1;32m----> 1\u001b[0m \u001b[38;5;28;01mfor\u001b[39;00m key,value \u001b[38;5;129;01min\u001b[39;00m set_x:\n\u001b[0;32m      2\u001b[0m     \u001b[38;5;28mprint\u001b[39m(\u001b[38;5;124mf\u001b[39m\u001b[38;5;124m'\u001b[39m\u001b[38;5;132;01m{\u001b[39;00mset_x\u001b[38;5;241m.\u001b[39mkey(list1)\u001b[38;5;132;01m}\u001b[39;00m\u001b[38;5;124m'\u001b[39m)\n",
      "\u001b[1;31mValueError\u001b[0m: not enough values to unpack (expected 2, got 1)"
     ]
    }
   ],
   "source": []
  },
  {
   "cell_type": "code",
   "execution_count": 137,
   "id": "935a8dd8",
   "metadata": {},
   "outputs": [],
   "source": [
    "# .fromkeys jo bhi key btai hogi us k against value set krta hai "
   ]
  },
  {
   "cell_type": "code",
   "execution_count": 142,
   "id": "978cee56",
   "metadata": {},
   "outputs": [],
   "source": [
    "dict_with_key_num = { 1:'Qasim',\n",
    "                     2:'Hassan',\n",
    "                     3:'556464655'\n",
    "}"
   ]
  },
  {
   "cell_type": "code",
   "execution_count": 143,
   "id": "b5bcbd2e",
   "metadata": {},
   "outputs": [
    {
     "data": {
      "text/plain": [
       "'Qasim'"
      ]
     },
     "execution_count": 143,
     "metadata": {},
     "output_type": "execute_result"
    }
   ],
   "source": [
    "dict_with_key_num[1]"
   ]
  },
  {
   "cell_type": "code",
   "execution_count": 144,
   "id": "3e009a23",
   "metadata": {},
   "outputs": [
    {
     "data": {
      "text/plain": [
       "'556464655'"
      ]
     },
     "execution_count": 144,
     "metadata": {},
     "output_type": "execute_result"
    }
   ],
   "source": [
    "dict_with_key_num[3]"
   ]
  },
  {
   "cell_type": "code",
   "execution_count": 145,
   "id": "a6d02919",
   "metadata": {},
   "outputs": [],
   "source": [
    "dict_with_key_num[4]='Stadium Road'"
   ]
  },
  {
   "cell_type": "code",
   "execution_count": 146,
   "id": "2c2bafe2",
   "metadata": {},
   "outputs": [
    {
     "data": {
      "text/plain": [
       "{1: 'Qasim', 2: 'Hassan', 3: '556464655', 4: 'Stadium Road'}"
      ]
     },
     "execution_count": 146,
     "metadata": {},
     "output_type": "execute_result"
    }
   ],
   "source": [
    "dict_with_key_num"
   ]
  },
  {
   "cell_type": "code",
   "execution_count": 147,
   "id": "75785e20",
   "metadata": {},
   "outputs": [],
   "source": [
    "del (dict_with_key_num[4])"
   ]
  },
  {
   "cell_type": "code",
   "execution_count": 148,
   "id": "427ef978",
   "metadata": {},
   "outputs": [
    {
     "data": {
      "text/plain": [
       "{1: 'Qasim', 2: 'Hassan', 3: '556464655'}"
      ]
     },
     "execution_count": 148,
     "metadata": {},
     "output_type": "execute_result"
    }
   ],
   "source": [
    "dict_with_key_num"
   ]
  },
  {
   "cell_type": "code",
   "execution_count": 149,
   "id": "4bf719b5",
   "metadata": {},
   "outputs": [
    {
     "ename": "SyntaxError",
     "evalue": "expression expected after dictionary key and ':' (3601754687.py, line 3)",
     "output_type": "error",
     "traceback": [
      "\u001b[1;36m  Cell \u001b[1;32mIn[149], line 3\u001b[1;36m\u001b[0m\n\u001b[1;33m    'phone_number': ,\u001b[0m\n\u001b[1;37m                  ^\u001b[0m\n\u001b[1;31mSyntaxError\u001b[0m\u001b[1;31m:\u001b[0m expression expected after dictionary key and ':'\n"
     ]
    }
   ],
   "source": [
    "{'first_name': 'Qasim',\n",
    " 'last_name ': 'Hassan',\n",
    " 'phone_number': ,\n",
    " 'weight': 74,\n",
    " 'age': 55}"
   ]
  },
  {
   "cell_type": "markdown",
   "id": "6a05a617",
   "metadata": {},
   "source": [
    "## TASK:\n",
    "### Create dictionary\n",
    "### Adding values in dictionary\n",
    "### Update values in dictionary\n",
    "### Deleteing values in dictionary\n",
    "### Get .get() in dictionary\n",
    "### .item()\n",
    "### .keys()\n",
    "### .values()\n",
    "### .fromkeys()"
   ]
  },
  {
   "cell_type": "code",
   "execution_count": 157,
   "id": "0a0a2f6d",
   "metadata": {},
   "outputs": [],
   "source": [
    "bio_data = {'name':'Umer',\n",
    "           'f_name':'Najam',\n",
    "           'phone_number': 25896314785,\n",
    "           'age': 25\n",
    "           }"
   ]
  },
  {
   "cell_type": "code",
   "execution_count": 153,
   "id": "6b0ed699",
   "metadata": {},
   "outputs": [
    {
     "data": {
      "text/plain": [
       "set"
      ]
     },
     "execution_count": 153,
     "metadata": {},
     "output_type": "execute_result"
    }
   ],
   "source": [
    "bio_data+[]"
   ]
  },
  {
   "cell_type": "code",
   "execution_count": 203,
   "id": "ad7397fb",
   "metadata": {},
   "outputs": [],
   "source": [
    "students_marks = {\"ayesha\" : 100,\n",
    "                 \"Maryam\":100,\n",
    "                 \"mehmood\":100}"
   ]
  },
  {
   "cell_type": "code",
   "execution_count": 204,
   "id": "6deb2d43",
   "metadata": {},
   "outputs": [],
   "source": [
    "del students_marks[\"mehmood\"]"
   ]
  },
  {
   "cell_type": "code",
   "execution_count": 205,
   "id": "5c7efe49",
   "metadata": {},
   "outputs": [],
   "source": [
    "new_marks = 20"
   ]
  },
  {
   "cell_type": "code",
   "execution_count": 206,
   "id": "d9039d44",
   "metadata": {},
   "outputs": [
    {
     "data": {
      "text/plain": [
       "{'ayesha': 20, 'Maryam': 20}"
      ]
     },
     "execution_count": 206,
     "metadata": {},
     "output_type": "execute_result"
    }
   ],
   "source": [
    "students_marks.fromkeys(students_marks,new_marks)"
   ]
  },
  {
   "cell_type": "code",
   "execution_count": 207,
   "id": "25936199",
   "metadata": {},
   "outputs": [
    {
     "data": {
      "text/plain": [
       "dict"
      ]
     },
     "execution_count": 207,
     "metadata": {},
     "output_type": "execute_result"
    }
   ],
   "source": [
    "type(students_marks.fromkeys(students_marks,new_marks))"
   ]
  },
  {
   "cell_type": "code",
   "execution_count": 211,
   "id": "96742183",
   "metadata": {},
   "outputs": [],
   "source": [
    "students_marks= students_marks.fromkeys(students_marks,new_marks)"
   ]
  },
  {
   "cell_type": "code",
   "execution_count": 212,
   "id": "8073dc0b",
   "metadata": {},
   "outputs": [
    {
     "data": {
      "text/plain": [
       "{'ayesha': 20, 'Maryam': 20}"
      ]
     },
     "execution_count": 212,
     "metadata": {},
     "output_type": "execute_result"
    }
   ],
   "source": [
    "students_marks"
   ]
  },
  {
   "cell_type": "code",
   "execution_count": 213,
   "id": "31deabaa",
   "metadata": {},
   "outputs": [],
   "source": [
    "students_marks['ayesha'] = 70"
   ]
  },
  {
   "cell_type": "code",
   "execution_count": 214,
   "id": "0ccba9e6",
   "metadata": {},
   "outputs": [
    {
     "data": {
      "text/plain": [
       "{'ayesha': 70, 'Maryam': 20}"
      ]
     },
     "execution_count": 214,
     "metadata": {},
     "output_type": "execute_result"
    }
   ],
   "source": [
    "students_marks"
   ]
  },
  {
   "cell_type": "code",
   "execution_count": 158,
   "id": "56d91d68",
   "metadata": {},
   "outputs": [],
   "source": [
    "students_marks = {\"ayesha\" : 100,\n",
    "                 \"Maryam\":100,\n",
    "                 \"mehmood\":100}\n",
    "del (students_marks['mehmood'])"
   ]
  },
  {
   "cell_type": "code",
   "execution_count": 160,
   "id": "c95491ca",
   "metadata": {},
   "outputs": [],
   "source": [
    "new_marks = 10\n",
    "\n",
    "\n",
    "students_marks.fromkeys(students_marks,new_marks)\n",
    "\n",
    "students_marks[\"ayesha\"] = (new_marks)"
   ]
  },
  {
   "cell_type": "code",
   "execution_count": 161,
   "id": "c8a5dc61",
   "metadata": {},
   "outputs": [
    {
     "data": {
      "text/plain": [
       "{'ayesha': 10, 'Maryam': 100}"
      ]
     },
     "execution_count": 161,
     "metadata": {},
     "output_type": "execute_result"
    }
   ],
   "source": [
    "students_marks"
   ]
  },
  {
   "cell_type": "code",
   "execution_count": 162,
   "id": "9fe84536",
   "metadata": {},
   "outputs": [
    {
     "data": {
      "text/plain": [
       "dict_items([('ayesha', 10), ('Maryam', 100)])"
      ]
     },
     "execution_count": 162,
     "metadata": {},
     "output_type": "execute_result"
    }
   ],
   "source": [
    "students_marks.items()"
   ]
  },
  {
   "cell_type": "code",
   "execution_count": 167,
   "id": "829d5fca",
   "metadata": {},
   "outputs": [
    {
     "name": "stdout",
     "output_type": "stream",
     "text": [
      "ayesha-->10\n",
      "Maryam-->100\n"
     ]
    }
   ],
   "source": [
    "for key,value in students_marks.items():\n",
    "    print(f'{key}-->{value}')"
   ]
  },
  {
   "cell_type": "code",
   "execution_count": 169,
   "id": "5f9cfd3c",
   "metadata": {},
   "outputs": [
    {
     "name": "stdout",
     "output_type": "stream",
     "text": [
      "ayesha --> is key\n",
      "Maryam --> is key\n"
     ]
    }
   ],
   "source": [
    "for key in students_marks.keys():\n",
    "    print(f'{key} --> is key')"
   ]
  },
  {
   "cell_type": "code",
   "execution_count": 170,
   "id": "aaa161d6",
   "metadata": {},
   "outputs": [
    {
     "name": "stdout",
     "output_type": "stream",
     "text": [
      "10 --> is value\n",
      "100 --> is value\n"
     ]
    }
   ],
   "source": [
    "for value in students_marks.values():\n",
    "    print(f'{value} --> is value')"
   ]
  },
  {
   "cell_type": "code",
   "execution_count": 171,
   "id": "4b2e9021",
   "metadata": {},
   "outputs": [],
   "source": [
    "students_marks = {\"ayesha\" : 100,\n",
    "                 \"Maryam\":100,\n",
    "                 \"mehmood\":100}"
   ]
  },
  {
   "cell_type": "code",
   "execution_count": 172,
   "id": "91885e62",
   "metadata": {},
   "outputs": [],
   "source": [
    "del students_marks['mehmood']"
   ]
  },
  {
   "cell_type": "code",
   "execution_count": 173,
   "id": "f77d2287",
   "metadata": {},
   "outputs": [
    {
     "data": {
      "text/plain": [
       "{'ayesha': 100, 'Maryam': 100}"
      ]
     },
     "execution_count": 173,
     "metadata": {},
     "output_type": "execute_result"
    }
   ],
   "source": [
    "students_marks"
   ]
  },
  {
   "cell_type": "code",
   "execution_count": 174,
   "id": "86ca3c54",
   "metadata": {},
   "outputs": [],
   "source": [
    "mark1 = 50"
   ]
  },
  {
   "cell_type": "code",
   "execution_count": 178,
   "id": "7cfa320a",
   "metadata": {},
   "outputs": [
    {
     "data": {
      "text/plain": [
       "{'ayesha': 50, 'Maryam': 50}"
      ]
     },
     "execution_count": 178,
     "metadata": {},
     "output_type": "execute_result"
    }
   ],
   "source": [
    "students_marks.fromkeys(students_marks,mark1)"
   ]
  },
  {
   "cell_type": "code",
   "execution_count": 185,
   "id": "d0879365",
   "metadata": {},
   "outputs": [
    {
     "data": {
      "text/plain": [
       "dict_values([100, 100])"
      ]
     },
     "execution_count": 185,
     "metadata": {},
     "output_type": "execute_result"
    }
   ],
   "source": [
    "students_marks.values() "
   ]
  },
  {
   "cell_type": "code",
   "execution_count": 180,
   "id": "2b22609b",
   "metadata": {},
   "outputs": [
    {
     "data": {
      "text/plain": [
       "{'ayesha': 100, 'Maryam': 100}"
      ]
     },
     "execution_count": 180,
     "metadata": {},
     "output_type": "execute_result"
    }
   ],
   "source": [
    "students_marks"
   ]
  },
  {
   "cell_type": "code",
   "execution_count": 186,
   "id": "1ff973f9",
   "metadata": {},
   "outputs": [
    {
     "data": {
      "text/plain": [
       "dict_items([('ayesha', 100), ('Maryam', 100)])"
      ]
     },
     "execution_count": 186,
     "metadata": {},
     "output_type": "execute_result"
    }
   ],
   "source": [
    "students_marks.items()"
   ]
  },
  {
   "cell_type": "code",
   "execution_count": 191,
   "id": "f06e06f5",
   "metadata": {},
   "outputs": [
    {
     "name": "stdout",
     "output_type": "stream",
     "text": [
      "ayesha-->100\n",
      "Maryam-->100\n"
     ]
    }
   ],
   "source": [
    "#   key:    Value:               \n",
    "#  ayesha   100                  ayesha   100\n",
    "#  Maryam   100                  Maryam   100 \n",
    "for key, value in students_marks.items():\n",
    "    print(f'{key}-->{value}')\n",
    "    #      ayesha    100\n",
    "    #      Maryam    100"
   ]
  },
  {
   "cell_type": "markdown",
   "id": "42eabddf",
   "metadata": {},
   "source": [
    "## List of dictionaries:"
   ]
  },
  {
   "cell_type": "code",
   "execution_count": 192,
   "id": "4edaa3b8",
   "metadata": {},
   "outputs": [],
   "source": [
    "customers = [{ \"customer id\": 0,\n",
    "              \"first name\":\"John\",\n",
    "              \"last name\": \"Ogden\",\n",
    "              \"address\": \"301 Arbor Rd.\"},\n",
    "             {\n",
    "                 \"customer id\": 1,\n",
    "                 \"first name\":\"Ann\",\n",
    "                 \"last name\": \"Sattermyer\",\n",
    "                 \"address\": \"PO Box 1145\"},\n",
    "             {\n",
    "                 \"customer id\": 2,\n",
    "                 \"first name\":\"Jill\",\n",
    "                 \"last name\": \"Somers\",\n",
    "                 \"address\": \"3 Main St.\"}\n",
    "            ]"
   ]
  },
  {
   "cell_type": "code",
   "execution_count": 193,
   "id": "b428c259",
   "metadata": {},
   "outputs": [
    {
     "data": {
      "text/plain": [
       "{'customer id': 0,\n",
       " 'first name': 'John',\n",
       " 'last name': 'Ogden',\n",
       " 'address': '301 Arbor Rd.'}"
      ]
     },
     "execution_count": 193,
     "metadata": {},
     "output_type": "execute_result"
    }
   ],
   "source": [
    "customers[0]"
   ]
  },
  {
   "cell_type": "code",
   "execution_count": 194,
   "id": "4bf19339",
   "metadata": {},
   "outputs": [
    {
     "data": {
      "text/plain": [
       "list"
      ]
     },
     "execution_count": 194,
     "metadata": {},
     "output_type": "execute_result"
    }
   ],
   "source": [
    "type(customers)"
   ]
  },
  {
   "cell_type": "code",
   "execution_count": 195,
   "id": "26cfd01f",
   "metadata": {},
   "outputs": [
    {
     "data": {
      "text/plain": [
       "dict"
      ]
     },
     "execution_count": 195,
     "metadata": {},
     "output_type": "execute_result"
    }
   ],
   "source": [
    "type(customers[0])"
   ]
  },
  {
   "cell_type": "code",
   "execution_count": 197,
   "id": "5df9ed9e",
   "metadata": {},
   "outputs": [
    {
     "data": {
      "text/plain": [
       "'3 Main St.'"
      ]
     },
     "execution_count": 197,
     "metadata": {},
     "output_type": "execute_result"
    }
   ],
   "source": [
    "customers[2]['address']"
   ]
  },
  {
   "cell_type": "code",
   "execution_count": null,
   "id": "f215e40d",
   "metadata": {},
   "outputs": [],
   "source": []
  },
  {
   "cell_type": "code",
   "execution_count": null,
   "id": "aa0a7d1f",
   "metadata": {},
   "outputs": [],
   "source": []
  },
  {
   "cell_type": "markdown",
   "id": "00db5aa7",
   "metadata": {},
   "source": [
    "## Dictionaries of list:"
   ]
  },
  {
   "cell_type": "code",
   "execution_count": 198,
   "id": "4e730339",
   "metadata": {},
   "outputs": [],
   "source": [
    "customer = {\n",
    "    'customer id':[1,2],\n",
    "    'first_name' :['Umer','Qasim'],\n",
    "    'last_name'  :['Qazi','Hassan'],\n",
    "    'address'    :['Stadium Road','Gulshan']\n",
    "}"
   ]
  },
  {
   "cell_type": "code",
   "execution_count": 199,
   "id": "983d378d",
   "metadata": {},
   "outputs": [
    {
     "data": {
      "text/plain": [
       "{'customer id': [1, 2],\n",
       " 'first_name': ['Umer', 'Qasim'],\n",
       " 'last_name': ['Qazi', 'Hassan'],\n",
       " 'address': ['Stadium Road', 'Gulshan']}"
      ]
     },
     "execution_count": 199,
     "metadata": {},
     "output_type": "execute_result"
    }
   ],
   "source": [
    "customer"
   ]
  },
  {
   "cell_type": "code",
   "execution_count": 202,
   "id": "6e111b3f",
   "metadata": {},
   "outputs": [
    {
     "data": {
      "text/plain": [
       "'Stadium Road'"
      ]
     },
     "execution_count": 202,
     "metadata": {},
     "output_type": "execute_result"
    }
   ],
   "source": [
    "customer['address'][0]"
   ]
  },
  {
   "cell_type": "code",
   "execution_count": null,
   "id": "e378f12e",
   "metadata": {},
   "outputs": [],
   "source": []
  }
 ],
 "metadata": {
  "kernelspec": {
   "display_name": "Python 3 (ipykernel)",
   "language": "python",
   "name": "python3"
  },
  "language_info": {
   "codemirror_mode": {
    "name": "ipython",
    "version": 3
   },
   "file_extension": ".py",
   "mimetype": "text/x-python",
   "name": "python",
   "nbconvert_exporter": "python",
   "pygments_lexer": "ipython3",
   "version": "3.11.5"
  }
 },
 "nbformat": 4,
 "nbformat_minor": 5
}
