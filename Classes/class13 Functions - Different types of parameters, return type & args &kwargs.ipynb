{
 "cells": [
  {
   "cell_type": "markdown",
   "id": "ece8e45b",
   "metadata": {},
   "source": [
    "## 1. Simple function creation:"
   ]
  },
  {
   "cell_type": "code",
   "execution_count": 4,
   "id": "9df26fee",
   "metadata": {},
   "outputs": [],
   "source": [
    "def calc_area():\n",
    "    length = 6\n",
    "    area = length * length\n",
    "    print(f\"Area of Square is {area}sq.km\")"
   ]
  },
  {
   "cell_type": "code",
   "execution_count": 5,
   "id": "610983a3",
   "metadata": {},
   "outputs": [
    {
     "name": "stdout",
     "output_type": "stream",
     "text": [
      "Area of Square is 36sq.km\n"
     ]
    }
   ],
   "source": [
    "calc_area()"
   ]
  },
  {
   "cell_type": "markdown",
   "id": "37219e83",
   "metadata": {},
   "source": [
    "### 2. function creation with `parameters`"
   ]
  },
  {
   "cell_type": "code",
   "execution_count": 6,
   "id": "bc05fffc",
   "metadata": {},
   "outputs": [],
   "source": [
    "def calc_area(length):\n",
    "    area = length * length\n",
    "    print(f\"Area of Square is {area}sq.km\")"
   ]
  },
  {
   "cell_type": "code",
   "execution_count": 7,
   "id": "c2043c47",
   "metadata": {},
   "outputs": [
    {
     "name": "stdout",
     "output_type": "stream",
     "text": [
      "Area of Square is 25sq.km\n"
     ]
    }
   ],
   "source": [
    "calc_area(5)"
   ]
  },
  {
   "cell_type": "code",
   "execution_count": 8,
   "id": "88c1e864",
   "metadata": {},
   "outputs": [
    {
     "name": "stdout",
     "output_type": "stream",
     "text": [
      "Area of Square is 49sq.km\n"
     ]
    }
   ],
   "source": [
    "calc_area(7)"
   ]
  },
  {
   "cell_type": "code",
   "execution_count": 9,
   "id": "c8d4e811",
   "metadata": {},
   "outputs": [
    {
     "name": "stdout",
     "output_type": "stream",
     "text": [
      "Area of Square is 36sq.km\n"
     ]
    }
   ],
   "source": [
    "calc_area(6)"
   ]
  },
  {
   "cell_type": "markdown",
   "id": "446994e4",
   "metadata": {},
   "source": [
    "#### argument:"
   ]
  },
  {
   "cell_type": "code",
   "execution_count": 11,
   "id": "4b53545f",
   "metadata": {},
   "outputs": [
    {
     "name": "stdout",
     "output_type": "stream",
     "text": [
      "Enter length :6\n",
      "Area of Square is 36sq.km\n"
     ]
    }
   ],
   "source": [
    "l = int(input('Enter length :'))# l will act as argument for function\n",
    "calc_area(l)"
   ]
  },
  {
   "cell_type": "markdown",
   "id": "58f6a238",
   "metadata": {},
   "source": [
    "### 3.function creation with `ie : default parameters`"
   ]
  },
  {
   "cell_type": "code",
   "execution_count": 30,
   "id": "52946e18",
   "metadata": {},
   "outputs": [],
   "source": [
    "def calc_area(length = 3):\n",
    "    area = length * length\n",
    "    print(f\"Area of Square is {area}sq.km with length {length}\")"
   ]
  },
  {
   "cell_type": "code",
   "execution_count": 31,
   "id": "97647114",
   "metadata": {},
   "outputs": [
    {
     "name": "stdout",
     "output_type": "stream",
     "text": [
      "Area of Square is 9sq.km with length 3\n"
     ]
    }
   ],
   "source": [
    "calc_area()"
   ]
  },
  {
   "cell_type": "code",
   "execution_count": null,
   "id": "d6ed7271",
   "metadata": {},
   "outputs": [],
   "source": []
  },
  {
   "cell_type": "code",
   "execution_count": 25,
   "id": "3e89ad39",
   "metadata": {},
   "outputs": [],
   "source": [
    "def calc_area(length):\n",
    "    area = length * length\n",
    "    print(f\"Area of Square is {area}sq.km\")"
   ]
  },
  {
   "cell_type": "code",
   "execution_count": 27,
   "id": "dafab9e6",
   "metadata": {},
   "outputs": [
    {
     "ename": "TypeError",
     "evalue": "calc_area() missing 1 required positional argument: 'length'",
     "output_type": "error",
     "traceback": [
      "\u001b[1;31m---------------------------------------------------------------------------\u001b[0m",
      "\u001b[1;31mTypeError\u001b[0m                                 Traceback (most recent call last)",
      "Cell \u001b[1;32mIn[27], line 1\u001b[0m\n\u001b[1;32m----> 1\u001b[0m calc_area()\n",
      "\u001b[1;31mTypeError\u001b[0m: calc_area() missing 1 required positional argument: 'length'"
     ]
    }
   ],
   "source": [
    "calc_area()"
   ]
  },
  {
   "cell_type": "markdown",
   "id": "d8d2930c",
   "metadata": {},
   "source": [
    "### 4.function creation with ie : more than one parameters"
   ]
  },
  {
   "cell_type": "code",
   "execution_count": 12,
   "id": "2dc2dbd5",
   "metadata": {},
   "outputs": [],
   "source": [
    "# NOTE: default ko end main rakhingy\n",
    "#def calc_area(length, breadth=4, height):\n",
    "def calc_area(length,  height, breadth=4):\n",
    "    area_of_square = length * length\n",
    "    volume = length * breadth * height\n",
    "    print(f\"Area of Square is {area_of_square}sq.km\")\n",
    "    print(f\"Volume is {volume}sq.km with length {length}, height {height},bradth {breadth}\")\n"
   ]
  },
  {
   "cell_type": "code",
   "execution_count": 14,
   "id": "650d2bfe",
   "metadata": {},
   "outputs": [
    {
     "name": "stdout",
     "output_type": "stream",
     "text": [
      "Area of Square is 25sq.km\n",
      "Volume is 120sq.km with length 5, height 6,bradth 4\n"
     ]
    }
   ],
   "source": [
    "calc_area(5,6)"
   ]
  },
  {
   "cell_type": "markdown",
   "id": "e28281a6",
   "metadata": {},
   "source": [
    "### 5.More than one parameters with positional argument"
   ]
  },
  {
   "cell_type": "code",
   "execution_count": 15,
   "id": "293a89c4",
   "metadata": {},
   "outputs": [],
   "source": [
    "\n",
    "def calc_area(length,  height, breadth=4):\n",
    "    area_of_square = length * length\n",
    "    volume = length * breadth * height\n",
    "    print(f\"Area of Square is {area_of_square}sq.km\")\n",
    "    print(f\"Volume is {volume}sq.km with length {length}, height {height},bradth {breadth}\")\n"
   ]
  },
  {
   "cell_type": "code",
   "execution_count": 17,
   "id": "011fda82",
   "metadata": {},
   "outputs": [
    {
     "name": "stdout",
     "output_type": "stream",
     "text": [
      "Enter length :3\n",
      "Enter bradth :4\n",
      "Enter height :4\n",
      "Area of Square is 9sq.km\n",
      "Volume is 48sq.km with length 3, height 4,bradth 4\n"
     ]
    }
   ],
   "source": [
    "l = int(input('Enter length :'))\n",
    "b = int(input('Enter bradth :'))\n",
    "h = int(input('Enter height :'))\n",
    "calc_area(l,b,h)"
   ]
  },
  {
   "cell_type": "code",
   "execution_count": 19,
   "id": "b9d632d4",
   "metadata": {},
   "outputs": [
    {
     "name": "stdout",
     "output_type": "stream",
     "text": [
      "Enter length :3\n",
      "Enter bradth :4\n",
      "Enter height :4\n",
      "Area of Square is 16sq.km\n",
      "Volume is 48sq.km with length 4, height 4,bradth 3\n"
     ]
    }
   ],
   "source": [
    "# Changing placement\n",
    "l = int(input('Enter length :'))\n",
    "b = int(input('Enter bradth :'))\n",
    "h = int(input('Enter height :'))\n",
    "calc_area(b,h,l) #Error & wrong values insertion"
   ]
  },
  {
   "cell_type": "code",
   "execution_count": 20,
   "id": "38888c7f",
   "metadata": {},
   "outputs": [
    {
     "name": "stdout",
     "output_type": "stream",
     "text": [
      "Enter length :3\n",
      "Enter bradth :4\n",
      "Enter height :4\n",
      "Area of Square is 9sq.km\n",
      "Volume is 48sq.km with length 3, height 4,bradth 4\n"
     ]
    }
   ],
   "source": [
    "l = int(input('Enter length :'))\n",
    "b = int(input('Enter bradth :'))\n",
    "h = int(input('Enter height :'))\n",
    "calc_area(breadth=b,height=h,length= l)"
   ]
  },
  {
   "cell_type": "markdown",
   "id": "ba797bb4",
   "metadata": {},
   "source": [
    "### 6.Function with return keywords:"
   ]
  },
  {
   "cell_type": "code",
   "execution_count": 21,
   "id": "37cc8da3",
   "metadata": {},
   "outputs": [],
   "source": [
    "\n",
    "def calc_area(length,  height, breadth=4):\n",
    "    area_of_square = length * length\n",
    "    volume = length * breadth * height\n",
    "#    print(f\"Area of Square is {area_of_square}sq.km\")\n",
    "#    print(f\"Volume is {volume}sq.km with length {length}, height {height},bradth {breadth}\")\n",
    "    return area_of_square, volume"
   ]
  },
  {
   "cell_type": "code",
   "execution_count": 22,
   "id": "a0eca4e6",
   "metadata": {},
   "outputs": [
    {
     "name": "stdout",
     "output_type": "stream",
     "text": [
      "Enter length :3\n",
      "Enter bradth :4\n",
      "Enter height :4\n"
     ]
    },
    {
     "data": {
      "text/plain": [
       "(9, 48)"
      ]
     },
     "execution_count": 22,
     "metadata": {},
     "output_type": "execute_result"
    }
   ],
   "source": [
    "l = int(input('Enter length :'))\n",
    "b = int(input('Enter bradth :'))\n",
    "h = int(input('Enter height :'))\n",
    "calc_area(breadth=b,height=h,length= l)"
   ]
  },
  {
   "cell_type": "code",
   "execution_count": 28,
   "id": "1d69e5f5",
   "metadata": {},
   "outputs": [
    {
     "name": "stdout",
     "output_type": "stream",
     "text": [
      "Enter length :3\n",
      "Enter bradth :4\n",
      "Enter height :4\n"
     ]
    }
   ],
   "source": [
    "l = int(input('Enter length :'))\n",
    "b = int(input('Enter bradth :'))\n",
    "h = int(input('Enter height :'))\n",
    "area , volume = calc_area(breadth=b,height=h,length= l)\n"
   ]
  },
  {
   "cell_type": "code",
   "execution_count": 29,
   "id": "a5045867",
   "metadata": {},
   "outputs": [
    {
     "data": {
      "text/plain": [
       "9"
      ]
     },
     "execution_count": 29,
     "metadata": {},
     "output_type": "execute_result"
    }
   ],
   "source": [
    "area"
   ]
  },
  {
   "cell_type": "code",
   "execution_count": 30,
   "id": "252ec469",
   "metadata": {},
   "outputs": [
    {
     "data": {
      "text/plain": [
       "48"
      ]
     },
     "execution_count": 30,
     "metadata": {},
     "output_type": "execute_result"
    }
   ],
   "source": [
    "volume"
   ]
  },
  {
   "cell_type": "code",
   "execution_count": 32,
   "id": "8c958ea6",
   "metadata": {},
   "outputs": [],
   "source": [
    "# Modulirizing the script means making small function to save time & increasing efficiency"
   ]
  },
  {
   "cell_type": "code",
   "execution_count": null,
   "id": "d70c4d2f",
   "metadata": {},
   "outputs": [],
   "source": [
    "\n",
    "area ()\n",
    "volume ()\n",
    "circumference ()\n",
    "\n",
    "\n",
    "\n",
    "area = length * length \n",
    "vol = length * breadth * height \n",
    "cir = pi * radius^2"
   ]
  },
  {
   "cell_type": "code",
   "execution_count": null,
   "id": "4264a027",
   "metadata": {},
   "outputs": [],
   "source": [
    "main.py()\n",
    "\n",
    "1- volume\n",
    "2- circumference \n",
    "3- area "
   ]
  },
  {
   "cell_type": "code",
   "execution_count": null,
   "id": "4bf6a6b5",
   "metadata": {},
   "outputs": [],
   "source": [
    "length = int(input('enter length:'))\n",
    "area = length * length \n",
    "\n",
    "breadth = int(input('enter breadth:'))\n",
    "height = int(input('enter heigtht:'))\n",
    "vol = length * breadth * height \n",
    "\n",
    "pi = 22/7\n",
    "radius = int(input('enter radius:'))\n",
    "cir = pi * radius^2\n",
    "# now make function for each "
   ]
  },
  {
   "cell_type": "code",
   "execution_count": null,
   "id": "c2563427",
   "metadata": {},
   "outputs": [],
   "source": [
    "# area\n",
    "length = int(input('enter length:'))\n",
    "area = length * length \n",
    "# Volume\n",
    "breadth = int(input('enter breadth:'))\n",
    "height = int(input('enter heigtht:'))\n",
    "vol = length * breadth * height \n",
    "# Circumference\n",
    "pi = 22/7\n",
    "radius = int(input('enter radius:'))\n",
    "cir = pi * radius^2"
   ]
  },
  {
   "cell_type": "code",
   "execution_count": null,
   "id": "9be163ba",
   "metadata": {},
   "outputs": [],
   "source": [
    "# main.py file\n",
    "area()\n",
    "vol()\n",
    "cir() "
   ]
  },
  {
   "cell_type": "code",
   "execution_count": null,
   "id": "3cf06cdf",
   "metadata": {},
   "outputs": [],
   "source": [
    "CLASS TASK:\n",
    "    1- funct with or wtout parameter \n",
    "    2- introduct parameters in that full name"
   ]
  },
  {
   "cell_type": "code",
   "execution_count": 42,
   "id": "6754b2d2",
   "metadata": {},
   "outputs": [],
   "source": [
    "def name(first_name,last_name,middle_name =' Muhammad '):\n",
    "    full_name = first_name + middle_name + last_name\n",
    "    return full_name"
   ]
  },
  {
   "cell_type": "code",
   "execution_count": 43,
   "id": "7722e75a",
   "metadata": {},
   "outputs": [
    {
     "name": "stdout",
     "output_type": "stream",
     "text": [
      "Enter last nameUmer\n",
      "Enter last nameQazi\n"
     ]
    },
    {
     "data": {
      "text/plain": [
       "'UmerMuhammadQazi'"
      ]
     },
     "execution_count": 43,
     "metadata": {},
     "output_type": "execute_result"
    }
   ],
   "source": [
    "first_name =  input('Enter last name')\n",
    "last_name = input('Enter last name')\n",
    "name(first_name,last_name)"
   ]
  },
  {
   "cell_type": "code",
   "execution_count": 51,
   "id": "6f2eef2a",
   "metadata": {},
   "outputs": [],
   "source": [
    "def full_name(first_name,last_name,middle_name =\"\"):\n",
    "    return f\"{first_name} {middle_name} {last_name}\""
   ]
  },
  {
   "cell_type": "code",
   "execution_count": 52,
   "id": "6717fd40",
   "metadata": {},
   "outputs": [
    {
     "data": {
      "text/plain": [
       "'Umer  Qazi'"
      ]
     },
     "execution_count": 52,
     "metadata": {},
     "output_type": "execute_result"
    }
   ],
   "source": [
    "full_name('Umer','Qazi')"
   ]
  },
  {
   "cell_type": "code",
   "execution_count": 53,
   "id": "1811c5a5",
   "metadata": {},
   "outputs": [
    {
     "data": {
      "text/plain": [
       "'Umer Muhammad Qazi'"
      ]
     },
     "execution_count": 53,
     "metadata": {},
     "output_type": "execute_result"
    }
   ],
   "source": [
    "full_name('Umer','Qazi','Muhammad')"
   ]
  },
  {
   "cell_type": "code",
   "execution_count": 55,
   "id": "9cc84390",
   "metadata": {},
   "outputs": [
    {
     "data": {
      "text/plain": [
       "'Umer Muhammad Qazi'"
      ]
     },
     "execution_count": 55,
     "metadata": {},
     "output_type": "execute_result"
    }
   ],
   "source": [
    "full_name(first_name='Umer',last_name='Qazi',middle_name='Muhammad')"
   ]
  },
  {
   "cell_type": "markdown",
   "id": "aa98c114",
   "metadata": {},
   "source": [
    "#### EXAMPLE:"
   ]
  },
  {
   "cell_type": "markdown",
   "id": "2aba310a",
   "metadata": {},
   "source": [
    "###### 1st Method:"
   ]
  },
  {
   "cell_type": "code",
   "execution_count": 56,
   "id": "8595ab81",
   "metadata": {},
   "outputs": [],
   "source": [
    "def add(num1, num2):\n",
    "    return num1 + num2\n",
    "def sub(num1, num2):\n",
    "    return num1 - num2\n",
    "def calculate(num1, num2):\n",
    "    print(add(num1,num2))\n",
    "    print(sub(num1,num2))"
   ]
  },
  {
   "cell_type": "code",
   "execution_count": 57,
   "id": "580dd2fe",
   "metadata": {},
   "outputs": [
    {
     "name": "stdout",
     "output_type": "stream",
     "text": [
      "8\n",
      "2\n"
     ]
    }
   ],
   "source": [
    "calculate(5,3)"
   ]
  },
  {
   "cell_type": "markdown",
   "id": "499084b3",
   "metadata": {},
   "source": [
    "###### 2nd Method:"
   ]
  },
  {
   "cell_type": "code",
   "execution_count": 58,
   "id": "9f64ae49",
   "metadata": {},
   "outputs": [],
   "source": [
    "# we have created \n",
    "def calculate(num1, num2):\n",
    "    def add(num1, num2):\n",
    "        return num1 + num2\n",
    "    def sub(num1, num2):\n",
    "        return num1 - num2\n",
    "    print(add(num1,num2))\n",
    "    print(sub(num1,num2))"
   ]
  },
  {
   "cell_type": "code",
   "execution_count": 60,
   "id": "5c558bdd",
   "metadata": {},
   "outputs": [
    {
     "name": "stdout",
     "output_type": "stream",
     "text": [
      "10\n",
      "0\n"
     ]
    }
   ],
   "source": [
    "calculate(5,5)"
   ]
  },
  {
   "cell_type": "markdown",
   "id": "bd3d3fa8",
   "metadata": {},
   "source": [
    "###### Single (*) or Double (**)"
   ]
  },
  {
   "cell_type": "markdown",
   "id": "97e7b44f",
   "metadata": {},
   "source": [
    "### Working with flexible number of argument with *"
   ]
  },
  {
   "cell_type": "code",
   "execution_count": 73,
   "id": "09e00486",
   "metadata": {},
   "outputs": [],
   "source": [
    "# * lga kr tuple main daala \n",
    "def add(num1,num2, *nums):\n",
    "    print(num1)\n",
    "    print(num2)\n",
    "    print(*nums)\n",
    "    added = num1 + num2\n",
    "# * lga kr tuple se nikaala \n",
    "# tuple se nikaa lingy..\n",
    "    for i in nums:\n",
    "        added += i\n",
    "    print(added)"
   ]
  },
  {
   "cell_type": "code",
   "execution_count": 74,
   "id": "b94b722a",
   "metadata": {},
   "outputs": [
    {
     "name": "stdout",
     "output_type": "stream",
     "text": [
      "3\n",
      "4\n",
      "5 6\n",
      "18\n"
     ]
    }
   ],
   "source": [
    "add(3,4,5,6)"
   ]
  },
  {
   "cell_type": "code",
   "execution_count": 71,
   "id": "a0cefef0",
   "metadata": {},
   "outputs": [],
   "source": [
    "# * lga kr tuple main daala \n",
    "def add(num1,num2, *nums):\n",
    "    print(num1)\n",
    "    print(num2)\n",
    "    print(nums)\n",
    "# tuple se nhi nikaala "
   ]
  },
  {
   "cell_type": "code",
   "execution_count": 72,
   "id": "2fe8dc69",
   "metadata": {},
   "outputs": [
    {
     "name": "stdout",
     "output_type": "stream",
     "text": [
      "3\n",
      "4\n",
      "(5, 6)\n"
     ]
    }
   ],
   "source": [
    "add(3,4,5,6)"
   ]
  },
  {
   "cell_type": "markdown",
   "id": "14eccffd",
   "metadata": {},
   "source": [
    "### Working with flexible number of argument with **"
   ]
  },
  {
   "cell_type": "code",
   "execution_count": 86,
   "id": "4bd4498e",
   "metadata": {},
   "outputs": [],
   "source": [
    "def add(num1,num2, **nums):\n",
    "    print(num1)\n",
    "    print(num2)\n",
    "    print(nums)\n",
    "    added = num1 + num2\n",
    "    for key, value in nums.items():\n",
    "        added += value\n",
    "    print(added)"
   ]
  },
  {
   "cell_type": "code",
   "execution_count": 87,
   "id": "9fadd6a0",
   "metadata": {},
   "outputs": [
    {
     "name": "stdout",
     "output_type": "stream",
     "text": [
      "3\n",
      "4\n",
      "{'num3': 5, 'num4': 6}\n",
      "18\n"
     ]
    }
   ],
   "source": [
    "add(3,4,num3=5,num4=6)"
   ]
  },
  {
   "cell_type": "code",
   "execution_count": 88,
   "id": "de1c9073",
   "metadata": {},
   "outputs": [],
   "source": [
    "nums = {'num3': 5, 'num4': 6}"
   ]
  },
  {
   "cell_type": "code",
   "execution_count": 98,
   "id": "a27fe370",
   "metadata": {},
   "outputs": [
    {
     "name": "stdout",
     "output_type": "stream",
     "text": [
      "5\n",
      "6\n"
     ]
    }
   ],
   "source": [
    "for key, value in nums.items():\n",
    "    print(value)\n",
    "    \n"
   ]
  },
  {
   "cell_type": "code",
   "execution_count": null,
   "id": "c4340d3b",
   "metadata": {},
   "outputs": [],
   "source": []
  }
 ],
 "metadata": {
  "kernelspec": {
   "display_name": "Python 3 (ipykernel)",
   "language": "python",
   "name": "python3"
  },
  "language_info": {
   "codemirror_mode": {
    "name": "ipython",
    "version": 3
   },
   "file_extension": ".py",
   "mimetype": "text/x-python",
   "name": "python",
   "nbconvert_exporter": "python",
   "pygments_lexer": "ipython3",
   "version": "3.11.5"
  }
 },
 "nbformat": 4,
 "nbformat_minor": 5
}
