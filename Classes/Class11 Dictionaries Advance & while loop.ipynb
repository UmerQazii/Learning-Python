{
 "cells": [
  {
   "cell_type": "markdown",
   "id": "57f0068f",
   "metadata": {},
   "source": [
    "# Dictionaries :-"
   ]
  },
  {
   "cell_type": "code",
   "execution_count": 3,
   "id": "fed9c571",
   "metadata": {},
   "outputs": [
    {
     "data": {
      "text/plain": [
       "'dictionaries main pehle key dengy phr us k baad \\nphr us key ki koi value dengy.\\nDictionaries ko {} se show karingy..'"
      ]
     },
     "execution_count": 3,
     "metadata": {},
     "output_type": "execute_result"
    }
   ],
   "source": [
    "'''dictionaries main pehle key dengy phr us k baad \n",
    "phr us key ki koi value dengy.\n",
    "Dictionaries ko {} se show karingy..'''\n",
    "{key: value}\n",
    "{\"first_name\": 'Qasim',\n",
    " \"last_name\": 'Hassan'}\n",
    ".keys()--> take out all the keys\n",
    ".values()-> take out all the values\n",
    ".items() take out values as tuples(then we take values from tuples)\n",
    " ex ('last_name','Hassan')pehle key , value\n",
    "{}. #press tab"
   ]
  },
  {
   "cell_type": "markdown",
   "id": "b31b89c4",
   "metadata": {},
   "source": [
    "## .update({ }):-"
   ]
  },
  {
   "cell_type": "markdown",
   "id": "f60a9e42",
   "metadata": {},
   "source": [
    "#### - The update() method inserts the specified items to the dictionary.\n",
    "#### - The specified items can be a dictionary, or an iterable object with key value pairs."
   ]
  },
  {
   "cell_type": "code",
   "execution_count": 16,
   "id": "11fe4948",
   "metadata": {},
   "outputs": [],
   "source": [
    "data = {\"first_name\" :\"Umer\",\n",
    "        \"last_name\" : \"Qazi\"}"
   ]
  },
  {
   "cell_type": "code",
   "execution_count": 17,
   "id": "5d832851",
   "metadata": {},
   "outputs": [],
   "source": [
    "data.update({\"age\" : 18})"
   ]
  },
  {
   "cell_type": "code",
   "execution_count": 18,
   "id": "37b09f69",
   "metadata": {},
   "outputs": [
    {
     "data": {
      "text/plain": [
       "{'first_name': 'Umer', 'last_name': 'Qazi', 'age': 18}"
      ]
     },
     "execution_count": 18,
     "metadata": {},
     "output_type": "execute_result"
    }
   ],
   "source": [
    "data"
   ]
  },
  {
   "cell_type": "markdown",
   "id": "6b1e93f7",
   "metadata": {},
   "source": [
    "## .Values( )"
   ]
  },
  {
   "cell_type": "markdown",
   "id": "05811a9b",
   "metadata": {},
   "source": [
    "#### - The values() method returns a view object. The view object contains the values of the dictionary, as a list.\n",
    "#### - The view object will reflect any changes done to the dictionary, see example below."
   ]
  },
  {
   "cell_type": "code",
   "execution_count": 19,
   "id": "f3bf9cb2",
   "metadata": {},
   "outputs": [
    {
     "data": {
      "text/plain": [
       "{'first_name': 'Umer', 'last_name': 'Qazi', 'age': 18}"
      ]
     },
     "execution_count": 19,
     "metadata": {},
     "output_type": "execute_result"
    }
   ],
   "source": [
    "data"
   ]
  },
  {
   "cell_type": "code",
   "execution_count": 20,
   "id": "d05bde28",
   "metadata": {},
   "outputs": [],
   "source": [
    "data.update({\"first_name\" : \"Muhammad\"})"
   ]
  },
  {
   "cell_type": "code",
   "execution_count": 21,
   "id": "bee96363",
   "metadata": {},
   "outputs": [
    {
     "data": {
      "text/plain": [
       "{'first_name': 'Muhammad', 'last_name': 'Qazi', 'age': 18}"
      ]
     },
     "execution_count": 21,
     "metadata": {},
     "output_type": "execute_result"
    }
   ],
   "source": [
    "data"
   ]
  },
  {
   "cell_type": "code",
   "execution_count": 22,
   "id": "5f65aa91",
   "metadata": {},
   "outputs": [],
   "source": [
    "# agr value hogi to usko update krdy ga warna add krdega"
   ]
  },
  {
   "cell_type": "code",
   "execution_count": 23,
   "id": "b8589098",
   "metadata": {},
   "outputs": [],
   "source": [
    "data.update({\"middle_name\" : 'Umer'})"
   ]
  },
  {
   "cell_type": "code",
   "execution_count": 24,
   "id": "76ed3fcb",
   "metadata": {},
   "outputs": [
    {
     "data": {
      "text/plain": [
       "{'first_name': 'Muhammad',\n",
       " 'last_name': 'Qazi',\n",
       " 'age': 18,\n",
       " 'middle_name': 'Umer'}"
      ]
     },
     "execution_count": 24,
     "metadata": {},
     "output_type": "execute_result"
    }
   ],
   "source": [
    "data"
   ]
  },
  {
   "cell_type": "code",
   "execution_count": 26,
   "id": "5fd5b55f",
   "metadata": {},
   "outputs": [
    {
     "ename": "NameError",
     "evalue": "name 'last_name' is not defined",
     "output_type": "error",
     "traceback": [
      "\u001b[1;31m---------------------------------------------------------------------------\u001b[0m",
      "\u001b[1;31mNameError\u001b[0m                                 Traceback (most recent call last)",
      "Cell \u001b[1;32mIn[26], line 1\u001b[0m\n\u001b[1;32m----> 1\u001b[0m \u001b[38;5;28mprint\u001b[39m({last_name},{first_name})\n",
      "\u001b[1;31mNameError\u001b[0m: name 'last_name' is not defined"
     ]
    }
   ],
   "source": [
    "print({last_name},{first_name})"
   ]
  },
  {
   "cell_type": "markdown",
   "id": "837443c7",
   "metadata": {},
   "source": [
    "### . Dict of List:-"
   ]
  },
  {
   "cell_type": "code",
   "execution_count": 3,
   "id": "88ef9069",
   "metadata": {},
   "outputs": [],
   "source": [
    "customers = [{\n",
    "    \"customer id\": 0,\n",
    "    \"first name\":\"John\",\n",
    "    \"last name\": \"Ogden\",\n",
    "    \"address\": \"301 Arbor Rd.\"\n",
    "},\n",
    "{\n",
    "    \"customer id\": 1,\n",
    "    \"first name\":\"Ann\",\n",
    "    \"last name\": \"Sattermyer\",\n",
    "    \"address\": \"PO Box 1145\"\n",
    "},\n",
    "]\n"
   ]
  },
  {
   "cell_type": "code",
   "execution_count": 28,
   "id": "0fd10ea5",
   "metadata": {},
   "outputs": [
    {
     "data": {
      "text/plain": [
       "[{'customer id': 0,\n",
       "  'first name': 'John',\n",
       "  'last name': 'Ogden',\n",
       "  'address': '301 Arbor Rd.'},\n",
       " {'customer id': 1,\n",
       "  'first name': 'Ann',\n",
       "  'last name': 'Sattermyer',\n",
       "  'address': 'PO Box 1145'}]"
      ]
     },
     "execution_count": 28,
     "metadata": {},
     "output_type": "execute_result"
    }
   ],
   "source": [
    "customers"
   ]
  },
  {
   "cell_type": "markdown",
   "id": "aec9176e",
   "metadata": {},
   "source": [
    "## - To take value from dict of list:-"
   ]
  },
  {
   "cell_type": "code",
   "execution_count": 33,
   "id": "62f495b7",
   "metadata": {},
   "outputs": [
    {
     "data": {
      "text/plain": [
       "'PO Box 1145'"
      ]
     },
     "execution_count": 33,
     "metadata": {},
     "output_type": "execute_result"
    }
   ],
   "source": [
    "customers[1]['address']"
   ]
  },
  {
   "cell_type": "code",
   "execution_count": 37,
   "id": "bdb73d9f",
   "metadata": {},
   "outputs": [
    {
     "data": {
      "text/plain": [
       "'John'"
      ]
     },
     "execution_count": 37,
     "metadata": {},
     "output_type": "execute_result"
    }
   ],
   "source": [
    "customers[0]['first name']"
   ]
  },
  {
   "cell_type": "code",
   "execution_count": 38,
   "id": "1863697f",
   "metadata": {},
   "outputs": [
    {
     "data": {
      "text/plain": [
       "'Ogden'"
      ]
     },
     "execution_count": 38,
     "metadata": {},
     "output_type": "execute_result"
    }
   ],
   "source": [
    "customers[0]['last name']"
   ]
  },
  {
   "cell_type": "code",
   "execution_count": 39,
   "id": "72b5ab0e",
   "metadata": {},
   "outputs": [
    {
     "data": {
      "text/plain": [
       "1"
      ]
     },
     "execution_count": 39,
     "metadata": {},
     "output_type": "execute_result"
    }
   ],
   "source": [
    "customers[1]['customer id']"
   ]
  },
  {
   "cell_type": "code",
   "execution_count": 40,
   "id": "2af25877",
   "metadata": {},
   "outputs": [
    {
     "data": {
      "text/plain": [
       "'301 Arbor Rd.'"
      ]
     },
     "execution_count": 40,
     "metadata": {},
     "output_type": "execute_result"
    }
   ],
   "source": [
    "customers[0]['address']"
   ]
  },
  {
   "cell_type": "code",
   "execution_count": 50,
   "id": "be6d2f7b",
   "metadata": {},
   "outputs": [
    {
     "name": "stdout",
     "output_type": "stream",
     "text": [
      "1\n",
      "2\n",
      "3\n",
      "4\n",
      "5\n"
     ]
    }
   ],
   "source": [
    "i = 1\n",
    "while i < 6:\n",
    "  print(i)\n",
    "  i += 1"
   ]
  },
  {
   "cell_type": "code",
   "execution_count": 51,
   "id": "c5ffd1f5",
   "metadata": {},
   "outputs": [],
   "source": [
    "new_customer = {\n",
    "    \"customer id\": 2,\n",
    "    \"first name\":\"Jill\",\n",
    "    \"last name\": \"Somers\",\n",
    "    \"address\": \"3 Main St.\",\n",
    "}"
   ]
  },
  {
   "cell_type": "code",
   "execution_count": 52,
   "id": "a10ecb1d",
   "metadata": {},
   "outputs": [
    {
     "data": {
      "text/plain": [
       "{'customer id': 2,\n",
       " 'first name': 'Jill',\n",
       " 'last name': 'Somers',\n",
       " 'address': '3 Main St.'}"
      ]
     },
     "execution_count": 52,
     "metadata": {},
     "output_type": "execute_result"
    }
   ],
   "source": [
    "new_customer"
   ]
  },
  {
   "cell_type": "code",
   "execution_count": 53,
   "id": "fb2cd5f6",
   "metadata": {},
   "outputs": [],
   "source": [
    "new_customer.update({\"first name\" : 'Michael'})"
   ]
  },
  {
   "cell_type": "code",
   "execution_count": 54,
   "id": "7bc3e8a3",
   "metadata": {},
   "outputs": [
    {
     "data": {
      "text/plain": [
       "{'customer id': 2,\n",
       " 'first name': 'Michael',\n",
       " 'last name': 'Somers',\n",
       " 'address': '3 Main St.'}"
      ]
     },
     "execution_count": 54,
     "metadata": {},
     "output_type": "execute_result"
    }
   ],
   "source": [
    "new_customer"
   ]
  },
  {
   "cell_type": "code",
   "execution_count": 58,
   "id": "906038e4",
   "metadata": {},
   "outputs": [],
   "source": [
    "customers.append(new_customer)"
   ]
  },
  {
   "cell_type": "code",
   "execution_count": 59,
   "id": "155d0b67",
   "metadata": {},
   "outputs": [
    {
     "data": {
      "text/plain": [
       "[{'customer id': 0,\n",
       "  'first name': 'John',\n",
       "  'last name': 'Ogden',\n",
       "  'address': '301 Arbor Rd.'},\n",
       " {'customer id': 1,\n",
       "  'first name': 'Ann',\n",
       "  'last name': 'Sattermyer',\n",
       "  'address': 'PO Box 1145'},\n",
       " {'customer id': 2,\n",
       "  'first name': 'Michael',\n",
       "  'last name': 'Somers',\n",
       "  'address': '3 Main St.'}]"
      ]
     },
     "execution_count": 59,
     "metadata": {},
     "output_type": "execute_result"
    }
   ],
   "source": [
    "customers"
   ]
  },
  {
   "cell_type": "markdown",
   "id": "2d294dad",
   "metadata": {},
   "source": [
    "### list se 1 dictionary nika lingy...."
   ]
  },
  {
   "cell_type": "markdown",
   "id": "05ba4f7e",
   "metadata": {},
   "source": [
    "### 1st. METHOD:\n"
   ]
  },
  {
   "cell_type": "code",
   "execution_count": 61,
   "id": "d4737580",
   "metadata": {},
   "outputs": [],
   "source": [
    "new_customer = customers[0]"
   ]
  },
  {
   "cell_type": "code",
   "execution_count": 63,
   "id": "a4467f8e",
   "metadata": {},
   "outputs": [
    {
     "data": {
      "text/plain": [
       "{'customer id': 0,\n",
       " 'first name': 'John',\n",
       " 'last name': 'Ogden',\n",
       " 'address': '301 Arbor Rd.'}"
      ]
     },
     "execution_count": 63,
     "metadata": {},
     "output_type": "execute_result"
    }
   ],
   "source": [
    "new_customer"
   ]
  },
  {
   "cell_type": "code",
   "execution_count": 62,
   "id": "04aae4f7",
   "metadata": {},
   "outputs": [
    {
     "data": {
      "text/plain": [
       "'301 Arbor Rd.'"
      ]
     },
     "execution_count": 62,
     "metadata": {},
     "output_type": "execute_result"
    }
   ],
   "source": [
    "new_customer['address']"
   ]
  },
  {
   "cell_type": "code",
   "execution_count": 64,
   "id": "e19ebc95",
   "metadata": {},
   "outputs": [
    {
     "data": {
      "text/plain": [
       "'John'"
      ]
     },
     "execution_count": 64,
     "metadata": {},
     "output_type": "execute_result"
    }
   ],
   "source": [
    "new_customer['first name']"
   ]
  },
  {
   "cell_type": "markdown",
   "id": "f3376803",
   "metadata": {},
   "source": [
    "### 2nd. METHOD:"
   ]
  },
  {
   "cell_type": "code",
   "execution_count": 2,
   "id": "eb1c40dc",
   "metadata": {},
   "outputs": [
    {
     "ename": "NameError",
     "evalue": "name 'customers' is not defined",
     "output_type": "error",
     "traceback": [
      "\u001b[1;31m---------------------------------------------------------------------------\u001b[0m",
      "\u001b[1;31mNameError\u001b[0m                                 Traceback (most recent call last)",
      "Cell \u001b[1;32mIn[2], line 1\u001b[0m\n\u001b[1;32m----> 1\u001b[0m customers\n",
      "\u001b[1;31mNameError\u001b[0m: name 'customers' is not defined"
     ]
    }
   ],
   "source": [
    "customers"
   ]
  },
  {
   "cell_type": "code",
   "execution_count": 66,
   "id": "a6030e49",
   "metadata": {},
   "outputs": [
    {
     "data": {
      "text/plain": [
       "'Ann'"
      ]
     },
     "execution_count": 66,
     "metadata": {},
     "output_type": "execute_result"
    }
   ],
   "source": [
    "customers[1]['first name']"
   ]
  },
  {
   "cell_type": "code",
   "execution_count": 74,
   "id": "49830ce2",
   "metadata": {
    "scrolled": true
   },
   "outputs": [
    {
     "name": "stdout",
     "output_type": "stream",
     "text": [
      "{'customer id': 0, 'first name': 'John', 'last name': 'Ogden', 'address': '301 Arbor Rd.'}\n",
      "{'customer id': 1, 'first name': 'Ann', 'last name': 'Sattermyer', 'address': 'PO Box 1145'}\n",
      "{'customer id': 2, 'first name': 'Michael', 'last name': 'Somers', 'address': '3 Main St.'}\n"
     ]
    }
   ],
   "source": [
    "for i in customers:\n",
    "    print(i)"
   ]
  },
  {
   "cell_type": "code",
   "execution_count": 80,
   "id": "c11d965b",
   "metadata": {},
   "outputs": [
    {
     "name": "stdout",
     "output_type": "stream",
     "text": [
      "S\n",
      "o\n",
      "m\n",
      "e\n",
      "r\n",
      "s\n"
     ]
    }
   ],
   "source": [
    "for k in i.get('last name'):\n",
    "    print(k)"
   ]
  },
  {
   "cell_type": "markdown",
   "id": "661fc305",
   "metadata": {},
   "source": [
    "## Creating a dictionary that contains lists:"
   ]
  },
  {
   "cell_type": "code",
   "execution_count": null,
   "id": "c164529f",
   "metadata": {},
   "outputs": [],
   "source": [
    "customers = {\n",
    "    \"first name\": \"David\",\n",
    "    \"last name\": \"Elliott\",\n",
    "    \"address\": \"4803 Wellesley St.\",\n",
    "    \"discounts\": [\"standard\", \"volume\", \"loyalty\"],\n",
    "}"
   ]
  },
  {
   "cell_type": "code",
   "execution_count": 4,
   "id": "910efca0",
   "metadata": {},
   "outputs": [
    {
     "data": {
      "text/plain": [
       "[{'customer id': 0,\n",
       "  'first name': 'John',\n",
       "  'last name': 'Ogden',\n",
       "  'address': '301 Arbor Rd.'},\n",
       " {'customer id': 1,\n",
       "  'first name': 'Ann',\n",
       "  'last name': 'Sattermyer',\n",
       "  'address': 'PO Box 1145'}]"
      ]
     },
     "execution_count": 4,
     "metadata": {},
     "output_type": "execute_result"
    }
   ],
   "source": [
    "customers"
   ]
  },
  {
   "cell_type": "code",
   "execution_count": 1,
   "id": "c22cba63",
   "metadata": {},
   "outputs": [],
   "source": [
    "customers = [{\n",
    "    'customer id': 0,\n",
    "    'first name': 'John',\n",
    "    'last name': 'Ogden',\n",
    "    'address': '301 Arbor Rd.',\n",
    "    \"discounts\": [\"standard\", \"volume\", \"loyalty\"],\n",
    "},\n",
    " {\n",
    "     'customer id': 1,\n",
    "    'first name': 'Ann',\n",
    "    'last name': 'Sattermyer',\n",
    "    'address': 'PO Box 1145',\n",
    "    \"discounts\": [],\n",
    " },\n",
    "{ \n",
    "    \"customer id\": 2,\n",
    "    \"first name\":\"Jill\",\n",
    "    \"last name\": \"Somers\",\n",
    "    \"address\": \"3 Main St.\",\n",
    "    'discounts' : ['standard']\n",
    "}]\n"
   ]
  },
  {
   "cell_type": "code",
   "execution_count": 2,
   "id": "02fa751e",
   "metadata": {},
   "outputs": [
    {
     "data": {
      "text/plain": [
       "['standard', 'volume', 'loyalty']"
      ]
     },
     "execution_count": 2,
     "metadata": {},
     "output_type": "execute_result"
    }
   ],
   "source": [
    "customers[0]['discounts']"
   ]
  },
  {
   "cell_type": "code",
   "execution_count": 3,
   "id": "8c6606fe",
   "metadata": {},
   "outputs": [
    {
     "data": {
      "text/plain": [
       "['standard']"
      ]
     },
     "execution_count": 3,
     "metadata": {},
     "output_type": "execute_result"
    }
   ],
   "source": [
    "customers[2]['discounts']"
   ]
  },
  {
   "cell_type": "code",
   "execution_count": 4,
   "id": "ad797e0c",
   "metadata": {},
   "outputs": [
    {
     "data": {
      "text/plain": [
       "3"
      ]
     },
     "execution_count": 4,
     "metadata": {},
     "output_type": "execute_result"
    }
   ],
   "source": [
    "len(customers)"
   ]
  },
  {
   "cell_type": "code",
   "execution_count": 5,
   "id": "637804c2",
   "metadata": {},
   "outputs": [
    {
     "name": "stdout",
     "output_type": "stream",
     "text": [
      "0\n",
      "['standard', 'volume', 'loyalty']\n",
      "1\n",
      "[]\n",
      "2\n",
      "['standard']\n"
     ]
    }
   ],
   "source": [
    "for iterator in range(len(customers)):\n",
    "    print(iterator)\n",
    "    print(f\"{customers[iterator]['discounts']}\")"
   ]
  },
  {
   "cell_type": "code",
   "execution_count": 24,
   "id": "53c21dec",
   "metadata": {},
   "outputs": [
    {
     "name": "stdout",
     "output_type": "stream",
     "text": [
      "0\n",
      "['standard', 'volume', 'loyalty']\n",
      "1\n",
      "[]\n",
      "2\n",
      "['standard']\n"
     ]
    }
   ],
   "source": [
    "for dis in range(len(customers)):\n",
    "    print(dis)\n",
    "    print(f\"{customers[dis]['discounts']}\")\n",
    "    if dis == 'standard':\n",
    "        print(\"discount is 5%\")\n",
    "    elif dis == 'volume':\n",
    "        print(\"discount is 10%\")\n",
    "    elif dis == 'loyalty':\n",
    "        print ('discount is 20%0')"
   ]
  },
  {
   "cell_type": "code",
   "execution_count": 44,
   "id": "e570625b",
   "metadata": {},
   "outputs": [
    {
     "name": "stdout",
     "output_type": "stream",
     "text": [
      "[5, 10, 15]\n",
      "====\n",
      "[]\n",
      "====\n",
      "[5]\n",
      "====\n"
     ]
    },
    {
     "data": {
      "text/plain": [
       "[{'customer id': 0,\n",
       "  'first name': 'John',\n",
       "  'last name': 'Ogden',\n",
       "  'address': '301 Arbor Rd.',\n",
       "  'discounts': ['standard', 'volume', 'loyalty'],\n",
       "  'discounted_percents': [5, 10, 15]},\n",
       " {'customer id': 1,\n",
       "  'first name': 'Ann',\n",
       "  'last name': 'Sattermyer',\n",
       "  'address': 'PO Box 1145',\n",
       "  'discounts': [],\n",
       "  'discounted_percents': []},\n",
       " {'customer id': 2,\n",
       "  'first name': 'Jill',\n",
       "  'last name': 'Somers',\n",
       "  'address': '3 Main St.',\n",
       "  'discounts': ['standard'],\n",
       "  'discounted_percents': [5]}]"
      ]
     },
     "execution_count": 44,
     "metadata": {},
     "output_type": "execute_result"
    }
   ],
   "source": [
    "\n",
    "for customer in customers:\n",
    "    discounted_percents = []\n",
    "    if len(customer['discounts']) >= 1:\n",
    "        for discount in customer['discounts']:\n",
    "            if discount == \"standard\":\n",
    "                discounted_percent = 5\n",
    "            elif discount == \"volume\":\n",
    "                discounted_percent = 10\n",
    "            elif discount == \"loyalty\":\n",
    "                discounted_percent = 15\n",
    "            else :\n",
    "                discounted_percent = 'ERROR-'\n",
    "            discounted_percents.append(discounted_percent)   \n",
    "    print(discounted_percents)\n",
    "    customer.update({\"discounted_percents\": discounted_percents})\n",
    "    print('====')\n",
    "customers"
   ]
  },
  {
   "cell_type": "code",
   "execution_count": null,
   "id": "de310453",
   "metadata": {},
   "outputs": [],
   "source": []
  },
  {
   "cell_type": "code",
   "execution_count": null,
   "id": "f8952d13",
   "metadata": {},
   "outputs": [],
   "source": [
    "for customer in customers:\n",
    "    print(customer['discounts'])\n",
    "    if len(customer['discounts']) >= 1:\n",
    "        for discount in customer['discounts']:\n",
    "            if discount == \"standard\":\n",
    "                discounted_percent = 5\n",
    "            elif discount == \"volume\":\n",
    "                discounted_percent = 10\n",
    "            elif discount == \"loyalty\":\n",
    "                discounted_percent = 15\n",
    "            else :\n",
    "                discounted_percent = 'ERROR-'\n",
    "            discounted_percents.append(discounted_percent)   \n",
    "    print(discounted_percents)"
   ]
  }
 ],
 "metadata": {
  "kernelspec": {
   "display_name": "Python 3 (ipykernel)",
   "language": "python",
   "name": "python3"
  },
  "language_info": {
   "codemirror_mode": {
    "name": "ipython",
    "version": 3
   },
   "file_extension": ".py",
   "mimetype": "text/x-python",
   "name": "python",
   "nbconvert_exporter": "python",
   "pygments_lexer": "ipython3",
   "version": "3.11.5"
  }
 },
 "nbformat": 4,
 "nbformat_minor": 5
}
